{
  "cells": [
    {
      "cell_type": "code",
      "source": [
        "!pip install adjustText"
      ],
      "metadata": {
        "colab": {
          "base_uri": "https://localhost:8080/"
        },
        "id": "7Sm6_Mzh75gI",
        "outputId": "c60e0c2c-6aaf-431d-c9de-a13d4599ddd0"
      },
      "execution_count": 1,
      "outputs": [
        {
          "output_type": "stream",
          "name": "stdout",
          "text": [
            "Collecting adjustText\n",
            "  Downloading adjustText-0.7.3.tar.gz (7.5 kB)\n",
            "Requirement already satisfied: numpy in /usr/local/lib/python3.7/dist-packages (from adjustText) (1.19.5)\n",
            "Requirement already satisfied: matplotlib in /usr/local/lib/python3.7/dist-packages (from adjustText) (3.2.2)\n",
            "Requirement already satisfied: python-dateutil>=2.1 in /usr/local/lib/python3.7/dist-packages (from matplotlib->adjustText) (2.8.2)\n",
            "Requirement already satisfied: cycler>=0.10 in /usr/local/lib/python3.7/dist-packages (from matplotlib->adjustText) (0.11.0)\n",
            "Requirement already satisfied: kiwisolver>=1.0.1 in /usr/local/lib/python3.7/dist-packages (from matplotlib->adjustText) (1.3.2)\n",
            "Requirement already satisfied: pyparsing!=2.0.4,!=2.1.2,!=2.1.6,>=2.0.1 in /usr/local/lib/python3.7/dist-packages (from matplotlib->adjustText) (3.0.7)\n",
            "Requirement already satisfied: six>=1.5 in /usr/local/lib/python3.7/dist-packages (from python-dateutil>=2.1->matplotlib->adjustText) (1.15.0)\n",
            "Building wheels for collected packages: adjustText\n",
            "  Building wheel for adjustText (setup.py) ... \u001b[?25l\u001b[?25hdone\n",
            "  Created wheel for adjustText: filename=adjustText-0.7.3-py3-none-any.whl size=7097 sha256=fc7b3dbb69c18f2805fb2b082493dbf651365e8cef822356904a545d3b370c95\n",
            "  Stored in directory: /root/.cache/pip/wheels/2f/98/32/afbf902d8f040fadfdf0a44357e4ab750afe165d873bf5893d\n",
            "Successfully built adjustText\n",
            "Installing collected packages: adjustText\n",
            "Successfully installed adjustText-0.7.3\n"
          ]
        }
      ]
    },
    {
      "cell_type": "code",
      "execution_count": 2,
      "metadata": {
        "id": "fb6ONEhL7n7O"
      },
      "outputs": [],
      "source": [
        "# Data from here:\n",
        "# https://www.ecdc.europa.eu/en/publications-data/download-todays-data-geographic-distribution-covid-19-cases-worldwide\n",
        "import pandas as pd\n",
        "import numpy as np\n",
        "import seaborn as sns\n",
        "from scipy import stats\n",
        "import matplotlib\n",
        "import matplotlib.pyplot as plt\n",
        "import matplotlib.ticker as mticker\n",
        "import matplotlib.dates as mdates\n",
        "from adjustText import adjust_text\n",
        "from matplotlib.ticker import ScalarFormatter\n",
        "\n",
        "from bokeh.models import ColumnDataSource, LabelSet, Arrow, NormalHead, OpenHead, VeeHead, ColorBar, Span\n",
        "from bokeh.models import Label, Title, NumeralTickFormatter\n",
        "from bokeh.plotting import figure, output_file, show\n",
        "from bokeh.transform import linear_cmap\n",
        "from bokeh.palettes import RdBu, Spectral10, Spectral6"
      ]
    },
    {
      "cell_type": "code",
      "source": [
        "from google.colab import drive\n",
        "drive.mount('/content/gdrive')"
      ],
      "metadata": {
        "colab": {
          "base_uri": "https://localhost:8080/"
        },
        "id": "jvmKX7kS77B5",
        "outputId": "739440ef-1b6a-4bce-cb7b-99f7ffe67ef0"
      },
      "execution_count": 3,
      "outputs": [
        {
          "output_type": "stream",
          "name": "stdout",
          "text": [
            "Mounted at /content/gdrive\n"
          ]
        }
      ]
    },
    {
      "cell_type": "code",
      "source": [
        "covid_cumulative = pd.read_excel('/content/gdrive/MyDrive/Colab Notebooks/covid_a_master_cumulative_table.xlsx')\n",
        "covid_cumulative.drop(columns=['Unnamed: 0'], inplace=True)"
      ],
      "metadata": {
        "id": "SFS2VzbU7-IR"
      },
      "execution_count": 4,
      "outputs": []
    },
    {
      "cell_type": "code",
      "execution_count": 5,
      "metadata": {
        "id": "ym5LD9IF7n7Q"
      },
      "outputs": [],
      "source": [
        "# # READ, RENAME\n",
        "# covid_cumulative = pd.read_excel(\"covid_a_master_cumulative_table.xlsx\")\n",
        "# covid_cumulative.drop(columns=['Unnamed: 0'], inplace=True)"
      ]
    },
    {
      "cell_type": "markdown",
      "metadata": {
        "id": "xtdNrLAQ7n7T"
      },
      "source": [
        "## FILTER THE LAST DAY OF THE RESULTS AND PICK THE TOP N IN # OF CASES"
      ]
    },
    {
      "cell_type": "code",
      "execution_count": 6,
      "metadata": {
        "id": "TABzg1vN7n7V"
      },
      "outputs": [],
      "source": [
        "# N: HOW MANY TOP COUNTRIES YOU WANT TO PICK IN TERMS OF # OF CASES\n",
        "N = 50\n",
        "last_day = covid_cumulative.sort_values('Date', ascending=True).groupby('Countries').last()\n",
        "last_day['Countries'] = last_day.index\n",
        "last_day.sort_values('Cases', ascending=False, inplace=True)\n",
        "\n",
        "top_countries = last_day[:N]['Countries'].tolist() + ['Greece']\n",
        "covid_top_countries = covid_cumulative[covid_cumulative.Countries.isin(top_countries)]"
      ]
    },
    {
      "cell_type": "markdown",
      "metadata": {
        "id": "MR06Fu607n7X"
      },
      "source": [
        "## GENERATE THE RELEVANT METRICS: Case fatality rate, Infection rate per 1m AND Mortality rate per 1m\n"
      ]
    },
    {
      "cell_type": "code",
      "execution_count": 7,
      "metadata": {
        "id": "HwJNSFWT7n7Y"
      },
      "outputs": [],
      "source": [
        "max_cases = covid_top_countries.groupby(by=['Countries']).max()\n",
        "max_cases['Case_fatality_rate'] = max_cases['Deaths']/max_cases['Cases']*100\n",
        "max_cases.sort_values('Cases', ascending=False)\n",
        "max_cases['Infection_rate_per_1m'] = max_cases['Cases']/max_cases['Population']*1000000\n",
        "max_cases['Mortality_rate_per_1m'] = max_cases['Deaths']/max_cases['Population']*1000000\n",
        "# max_cases.to_excel('covid_b_cases_cumulative_table.xlsx')"
      ]
    },
    {
      "cell_type": "code",
      "execution_count": 8,
      "metadata": {
        "id": "EcxAwVga7n7a"
      },
      "outputs": [],
      "source": [
        "max_cases.loc[max_cases['Continent'] == 'Asia', 'Color'] =  Spectral10[0]\n",
        "max_cases.loc[max_cases['Continent'] == 'Europe', 'Color'] =  Spectral10[3]\n",
        "max_cases.loc[max_cases['Continent'] == 'America', 'Color'] =  Spectral10[6]\n",
        "max_cases.loc[max_cases['Continent'] == 'Africa', 'Color'] =  Spectral10[9]"
      ]
    },
    {
      "cell_type": "code",
      "execution_count": 9,
      "metadata": {
        "colab": {
          "base_uri": "https://localhost:8080/"
        },
        "id": "yAB1GBxz7n7a",
        "outputId": "156bde41-a963-4708-cf71-659ddbeb9800"
      },
      "outputs": [
        {
          "output_type": "stream",
          "name": "stdout",
          "text": [
            "The average infection rate is: 3852.8 per 1m people\n",
            "The average death rate is: 134.2 per 1m people\n",
            "The average fatality rate is: 3.5 per 100 people infected\n"
          ]
        }
      ],
      "source": [
        "Average_infection_rate_per_1m = max_cases['Cases'].sum()/max_cases['Population'].sum()*1000000\n",
        "print(\"The average infection rate is: {:.1f} per 1m people\".format(Average_infection_rate_per_1m))\n",
        "Average_death_rate_per_1m = max_cases['Deaths'].sum()/max_cases['Population'].sum()*1000000\n",
        "print(\"The average death rate is: {:.1f} per 1m people\".format(Average_death_rate_per_1m))\n",
        "Average_case_fatality_rate = max_cases['Deaths'].sum()/max_cases['Cases'].sum()*100\n",
        "print(\"The average fatality rate is: {:.1f} per 100 people infected\".format(Average_case_fatality_rate)) "
      ]
    },
    {
      "cell_type": "code",
      "execution_count": 10,
      "metadata": {
        "id": "OPclMVzz7n7c"
      },
      "outputs": [],
      "source": [
        "source_1 = ColumnDataSource(max_cases) # convert pandas to bokeh data"
      ]
    },
    {
      "cell_type": "code",
      "execution_count": 11,
      "metadata": {
        "id": "UtXj1Ll77n7d"
      },
      "outputs": [],
      "source": [
        "TITLE = \"Infection rate vs Case fatality rate\"\n",
        "TOOLS = \"hover, pan, wheel_zoom, box_zoom, reset, save\"\n",
        "p = figure(title=TITLE, tools=TOOLS, toolbar_location=\"above\", plot_width=1200, x_axis_type=\"log\")\n",
        "p.toolbar.logo = \"grey\"\n",
        "p.background_fill_color = \"#dddddd\"\n",
        "\n",
        "p.xaxis.axis_label = \"Infection rate per 1m\"\n",
        "p.yaxis.axis_label = \"Case fatality rate (%)\"\n",
        "p.xaxis.axis_label_text_font_size = \"14pt\"\n",
        "p.yaxis.axis_label_text_font_size = \"14pt\"\n",
        "p.xaxis.major_label_text_font_size = \"14pt\"\n",
        "p.yaxis.major_label_text_font_size = \"14pt\"\n",
        "p.xaxis.formatter = NumeralTickFormatter(format=\"0,0\")\n",
        "p.grid.grid_line_color = \"white\"\n",
        "\n",
        "# #Use the field name of the column source\n",
        "# mapper = linear_cmap('Infection_rate_per_1m', 'Turbo256', max_cases['Infection_rate_per_1m'].min(), max_cases['Infection_rate_per_1m'].max())\n",
        "\n",
        "p.circle(\"Infection_rate_per_1m\", \"Case_fatality_rate\", size=12, source=source_1, # call the glyph method\n",
        "#          fill_color=linear_cmap('Infection_rate_per_1m', 'Turbo256', max_cases['Infection_rate_per_1m'].min(), max_cases['Infection_rate_per_1m'].max()),\n",
        "         legend_group='Continent',\n",
        "         color='Color',\n",
        "         line_color='black',\n",
        "         fill_alpha=0.8)\n",
        "\n",
        "p.hover.tooltips = [\n",
        "    (\"Country\", \"@{Countries}\"),\n",
        "    (\"Infection rate per 1m\", \"@Infection_rate_per_1m{0,0}\"),\n",
        "    (\"Case fatality rate (%)\", \"@Case_fatality_rate{0.1}\" ), \n",
        "    (\"Cases\", \"@Cases{0,0}\"),\n",
        "    (\"Deaths\", \"@Deaths{0,0}\"),\n",
        "]\n",
        "\n",
        "labels = LabelSet(x=\"Infection_rate_per_1m\", y=\"Case_fatality_rate\", text=\"Countries\", y_offset=8,\n",
        "                  text_font_size=\"11px\", text_color=\"black\", text_font_style='bold',\n",
        "                  source=source_1, text_align='center')\n",
        "p.add_layout(labels) # adds the newly created component to the existing plot\n",
        "\n",
        "hline = Span(location=Average_case_fatality_rate,\n",
        "             dimension='width', line_color='black',\n",
        "             line_dash='dashed', line_width=1)\n",
        "p.add_layout(hline) # adds the newly created component to the existing plot\n",
        "\n",
        "vline = Span(location=Average_infection_rate_per_1m,\n",
        "             dimension='height', line_color='black',\n",
        "             line_dash='dashed', line_width=1)\n",
        "p.add_layout(vline)\n",
        "\n",
        "citation = Label(x=100, y=12, text='Dashed lines show the average of each axis', \n",
        "                 text_font_size=\"12px\", \n",
        "                 text_color=\"black\", \n",
        "                 text_font_style='bold', \n",
        "                 render_mode='css',\n",
        "                 border_line_color='black', \n",
        "                 border_line_alpha=1.0,\n",
        "                 background_fill_color='white', \n",
        "                 background_fill_alpha=1.0)\n",
        "p.add_layout(citation)\n",
        "\n",
        "# color_bar = ColorBar(color_mapper=mapper['transform'], width=8,  location=(0,0))\n",
        "# p.add_layout(color_bar, 'right')\n",
        "\n",
        "output_file(\"infection_rate_vs_case_fatality.html\", title=\"infection rate vs case fatality\")\n",
        "\n",
        "show(p)"
      ]
    },
    {
      "cell_type": "markdown",
      "source": [
        "# 7 Task #3"
      ],
      "metadata": {
        "id": "RAJprSuVZUvm"
      }
    },
    {
      "cell_type": "code",
      "source": [
        "max_cases['Fatality_rate_per_1m'] = max_cases['Deaths']/max_cases['Cases']*1000000 # fatality rate per 1m\n",
        "Average_case_fatality_rate_1m = max_cases['Deaths'].sum()/max_cases['Cases'].sum()*1000000 # average fatality rate per 1m\n",
        "print(\"The average fatality rate per 1m is: {:.1f} per 1m people\".format(Average_case_fatality_rate_1m)) "
      ],
      "metadata": {
        "colab": {
          "base_uri": "https://localhost:8080/"
        },
        "id": "ocwJDNmrMZET",
        "outputId": "e6bbd229-5f8c-4c33-b89d-48070fa2273d"
      },
      "execution_count": 12,
      "outputs": [
        {
          "output_type": "stream",
          "name": "stdout",
          "text": [
            "The average fatality rate per 1m is: 34843.2 per 1m people\n"
          ]
        }
      ]
    },
    {
      "cell_type": "code",
      "source": [
        "source_2 = ColumnDataSource(max_cases) # convert pandas to bokeh data"
      ],
      "metadata": {
        "id": "QzSnY3P8MY60"
      },
      "execution_count": 13,
      "outputs": []
    },
    {
      "cell_type": "code",
      "execution_count": 14,
      "metadata": {
        "id": "FDXWyOB57n7e"
      },
      "outputs": [],
      "source": [
        "TITLE = \"Infection Rate per 1m vs Fatality Rate per 1m\"\n",
        "TOOLS = \"hover, pan, wheel_zoom, box_zoom, reset, save\"\n",
        "pp = figure(title=TITLE, tools=TOOLS, toolbar_location=\"above\", plot_width=1200, x_axis_type=\"log\", y_axis_type = 'log') # both axes are in log scale\n",
        "pp.toolbar.logo = \"grey\"\n",
        "pp.background_fill_color = \"#dddddd\"\n",
        "\n",
        "pp.xaxis.axis_label = \"Infection Rate per 1m\"\n",
        "pp.yaxis.axis_label = \"Fatality Rate per 1m\"\n",
        "pp.xaxis.axis_label_text_font_size = \"14pt\"\n",
        "pp.yaxis.axis_label_text_font_size = \"14pt\"\n",
        "pp.xaxis.major_label_text_font_size = \"14pt\"\n",
        "pp.yaxis.major_label_text_font_size = \"14pt\"\n",
        "pp.xaxis.formatter = NumeralTickFormatter(format=\"0,0\")\n",
        "pp.yaxis.formatter = NumeralTickFormatter(format=\"0,0\")\n",
        "# pp.yaxis.formatter.use_scientific = False\n",
        "pp.grid.grid_line_color = \"white\"\n",
        "\n",
        "# #Use the field name of the column source\n",
        "# mapper = linear_cmap('Infection_rate_per_1m', 'Turbo256', max_cases['Infection_rate_per_1m'].min(), max_cases['Infection_rate_per_1m'].max())\n",
        "\n",
        "pp.circle(\"Infection_rate_per_1m\", \"Fatality_rate_per_1m\", size=12, source=source_2, # call the glyph method\n",
        "#          fill_color=linear_cmap('Infection_rate_per_1m', 'Turbo256', max_cases['Infection_rate_per_1m'].min(), max_cases['Infection_rate_per_1m'].max()),\n",
        "         legend_group='Continent',\n",
        "         color='Color',\n",
        "         line_color='black',\n",
        "         fill_alpha=0.8)\n",
        "\n",
        "pp.hover.tooltips = [\n",
        "    (\"Country\", \"@{Countries}\"),\n",
        "    (\"Infection rate per 1m\", \"@Infection_rate_per_1m{0,0}\"), # {} is for formatter\n",
        "    (\"Fatality rate per 1m\", \"@Fatality_rate_per_1m{0,1}\" ), \n",
        "    (\"Cases\", \"@Cases{0,0}\"),\n",
        "    (\"Deaths\", \"@Deaths{0,0}\"),\n",
        "]\n",
        "\n",
        "labels = LabelSet(x=\"Infection_rate_per_1m\", y=\"Fatality_rate_per_1m\", text=\"Countries\", y_offset=8,\n",
        "                  text_font_size=\"11px\", text_color=\"black\", text_font_style='bold',\n",
        "                  source=source_2, text_align='center')\n",
        "pp.add_layout(labels) # adds the newly created component to the existing plot\n",
        "\n",
        "hline = Span(location=Average_case_fatality_rate_1m, # new hline\n",
        "             dimension='width', line_color='black',\n",
        "             line_dash='dashed', line_width=1)\n",
        "pp.add_layout(hline) # adds the newly created component to the existing plot\n",
        "\n",
        "vline = Span(location=Average_infection_rate_per_1m,\n",
        "             dimension='height', line_color='black',\n",
        "             line_dash='dashed', line_width=1)\n",
        "pp.add_layout(vline)\n",
        "\n",
        "citation = Label(x=100, y=12, text='Dashed lines show the average of each axis', \n",
        "                 text_font_size=\"12px\", \n",
        "                 text_color=\"black\", \n",
        "                 text_font_style='bold', \n",
        "                 render_mode='css',\n",
        "                 border_line_color='black', \n",
        "                 border_line_alpha=1.0,\n",
        "                 background_fill_color='white', \n",
        "                 background_fill_alpha=1.0)\n",
        "pp.add_layout(citation)\n",
        "\n",
        "# color_bar = ColorBar(color_mapper=mapper['transform'], width=8,  location=(0,0))\n",
        "# p.add_layout(color_bar, 'right')\n",
        "\n",
        "\n",
        "output_file(\"Fig_3_Tjoa_Fendi.html\", title=\"Infection Rate per 1m vs Fatality Rate per 1m\")\n",
        "\n",
        "show(pp)"
      ]
    }
  ],
  "metadata": {
    "kernelspec": {
      "display_name": "Python 3",
      "language": "python",
      "name": "python3"
    },
    "language_info": {
      "codemirror_mode": {
        "name": "ipython",
        "version": 3
      },
      "file_extension": ".py",
      "mimetype": "text/x-python",
      "name": "python",
      "nbconvert_exporter": "python",
      "pygments_lexer": "ipython3",
      "version": "3.7.9"
    },
    "colab": {
      "name": "covid_f_bokeh_Tjoa_Fendi.ipynb",
      "provenance": []
    }
  },
  "nbformat": 4,
  "nbformat_minor": 0
}