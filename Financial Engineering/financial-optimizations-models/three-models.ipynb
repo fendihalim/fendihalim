{
 "cells": [
  {
   "cell_type": "markdown",
   "metadata": {
    "id": "kBkBjUHoAArF"
   },
   "source": [
    "Financial Optimization Models Project\n",
    "\n",
    "Name: Fendi Halim Tjoa & Yue Zhang\n",
    "\n",
    "\n",
    "\n",
    "--------------------\n",
    "we suggest running this notebook on Google Colab\n",
    "\n",
    "## Import Libraries and upload csv file"
   ]
  },
  {
   "cell_type": "code",
   "execution_count": 1,
   "metadata": {
    "colab": {
     "base_uri": "https://localhost:8080/",
     "height": 72,
     "resources": {
      "http://localhost:8080/nbextensions/google.colab/files.js": {
       "data": "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",
       "headers": [
        [
         "content-type",
         "application/javascript"
        ]
       ],
       "ok": true,
       "status": 200,
       "status_text": ""
      }
     }
    },
    "id": "ZvXn4Z8e2ty1",
    "outputId": "d13b709f-5680-48f8-8a00-12ef556e4390"
   },
   "outputs": [
    {
     "data": {
      "text/html": [
       "\n",
       "     <input type=\"file\" id=\"files-ca28026e-9e12-4fb9-a086-d5b54b8d0d42\" name=\"files[]\" multiple disabled\n",
       "        style=\"border:none\" />\n",
       "     <output id=\"result-ca28026e-9e12-4fb9-a086-d5b54b8d0d42\">\n",
       "      Upload widget is only available when the cell has been executed in the\n",
       "      current browser session. Please rerun this cell to enable.\n",
       "      </output>\n",
       "      <script src=\"/nbextensions/google.colab/files.js\"></script> "
      ],
      "text/plain": [
       "<IPython.core.display.HTML object>"
      ]
     },
     "metadata": {
      "tags": []
     },
     "output_type": "display_data"
    },
    {
     "name": "stdout",
     "output_type": "stream",
     "text": [
      "Saving 2008 stock price and shares.csv to 2008 stock price and shares.csv\n"
     ]
    }
   ],
   "source": [
    "#load 2008 stock price and shares.csv file as 2008 stock price and shares.csv\n",
    "#this is the only file that needs to be loaded\n",
    "from google.colab import files\n",
    "uploaded = files.upload()\n",
    "\n",
    "#This csv file contains the stock price and shares outstanding data. \n",
    "#It was downloaded from WRDS(Wharton Research Data Services) database\n",
    "#with these data we can calculate stocks' market cap in the part \"Calculate market portfolio weights for OCT 2008 and NOV 2008\""
   ]
  },
  {
   "cell_type": "code",
   "execution_count": 5,
   "metadata": {
    "colab": {
     "base_uri": "https://localhost:8080/"
    },
    "id": "XGf0lwdYpFCJ",
    "outputId": "fde8bc3c-980e-42f3-c1ef-8e88f742f9ad"
   },
   "outputs": [
    {
     "name": "stdout",
     "output_type": "stream",
     "text": [
      "Requirement already satisfied: cvxpy in /usr/local/lib/python3.7/dist-packages (1.0.31)\n",
      "Requirement already satisfied: multiprocess in /usr/local/lib/python3.7/dist-packages (from cvxpy) (0.70.11.1)\n",
      "Requirement already satisfied: scs>=1.1.3 in /usr/local/lib/python3.7/dist-packages (from cvxpy) (2.1.3)\n",
      "Requirement already satisfied: scipy>=1.1.0 in /usr/local/lib/python3.7/dist-packages (from cvxpy) (1.4.1)\n",
      "Requirement already satisfied: numpy>=1.15 in /usr/local/lib/python3.7/dist-packages (from cvxpy) (1.19.5)\n",
      "Requirement already satisfied: osqp>=0.4.1 in /usr/local/lib/python3.7/dist-packages (from cvxpy) (0.6.2.post0)\n",
      "Requirement already satisfied: ecos>=2 in /usr/local/lib/python3.7/dist-packages (from cvxpy) (2.0.7.post1)\n",
      "Requirement already satisfied: dill>=0.3.3 in /usr/local/lib/python3.7/dist-packages (from multiprocess->cvxpy) (0.3.3)\n",
      "Requirement already satisfied: qdldl in /usr/local/lib/python3.7/dist-packages (from osqp>=0.4.1->cvxpy) (0.1.5.post0)\n"
     ]
    }
   ],
   "source": [
    "!pip install cvxpy\n",
    "import cvxpy as cp\n",
    "import datetime # Package for making dates\n",
    "import bs4 as bs\n",
    "import pandas_datareader as web \n",
    "import numpy as np\n",
    "import numpy.linalg as linalg\n",
    "import pandas as pd"
   ]
  },
  {
   "cell_type": "markdown",
   "metadata": {
    "id": "VgF6QEPOpGHJ"
   },
   "source": [
    "## Data Gathering\n",
    "- Stock Price Data from Yahoo Finance\n",
    "- Estimate Expected Returns\n",
    "- Covariance Matrix"
   ]
  },
  {
   "cell_type": "code",
   "execution_count": 6,
   "metadata": {
    "id": "qCUn1Rqgnmpq"
   },
   "outputs": [],
   "source": [
    "#Our investment universe consists of 20 stocks (n=20) all of which are con-\n",
    "#stituents of the S&P 500. The stock symbols are\n",
    "#F (Ford Motor Co.);CAT (Catepillar Inc.);DIS;MCD;KO; PEP;WMT;C;\n",
    "#WFC; JPM ,AAPL; IBM; PFE; JNJ;XOM;MRO;ED; T; V Z; and NEM:\n",
    "\n",
    "start = datetime.datetime(2004, 12, 30)\n",
    "end = datetime.datetime(2008, 9, 30)\n",
    "ticker_symbol = ['F','CAT','DIS','MCD','KO','PEP','WMT','C','WFC','JPM','AAPL','IBM','PFE','JNJ','XOM','MRO','ED','T','VZ','NEM']\n",
    "\n",
    "n = len(ticker_symbol)\n",
    "df_stock = web.DataReader(ticker_symbol, 'yahoo', start, end)\n",
    "\n",
    "#month-end stock prices\n",
    "monthly_prices = df_stock['Adj Close'].resample('M').ffill()\n",
    "\n",
    "#calculate monthly returns based on stock prices\n",
    "monthly_returns = df_stock['Adj Close'].resample('M').ffill().pct_change().iloc[1:,:]\n",
    "monthly_log_returns = (np.log(df_stock['Adj Close'].resample('M').ffill()) - np.log(df_stock['Adj Close'].resample('M').ffill().shift(1))).iloc[1:,:]\n"
   ]
  },
  {
   "cell_type": "code",
   "execution_count": 7,
   "metadata": {
    "colab": {
     "base_uri": "https://localhost:8080/"
    },
    "id": "cTL8KOLm4IbL",
    "outputId": "f3e1b7e3-9cf4-4094-f230-bcdffbc37bc6"
   },
   "outputs": [
    {
     "data": {
      "text/plain": [
       "Symbols\n",
       "F      -0.021158\n",
       "CAT     0.006003\n",
       "DIS     0.003179\n",
       "MCD     0.016680\n",
       "KO      0.007545\n",
       "PEP     0.008628\n",
       "WMT     0.004109\n",
       "C      -0.015202\n",
       "WFC     0.007098\n",
       "JPM     0.006873\n",
       "AAPL    0.028424\n",
       "IBM     0.004888\n",
       "PFE    -0.004837\n",
       "JNJ     0.003931\n",
       "XOM     0.010835\n",
       "MRO     0.018531\n",
       "ED      0.003832\n",
       "T       0.005584\n",
       "VZ     -0.000519\n",
       "NEM    -0.002289\n",
       "Name: 2008-09-30 00:00:00, dtype: float64"
      ]
     },
     "execution_count": 7,
     "metadata": {
      "tags": []
     },
     "output_type": "execute_result"
    }
   ],
   "source": [
    "#calculate expected returns\n",
    "exp_returns=((monthly_returns+1).cumprod().iloc[-1])**(1/len(monthly_returns))-1\n",
    "exp_returns"
   ]
  },
  {
   "cell_type": "code",
   "execution_count": 8,
   "metadata": {
    "colab": {
     "base_uri": "https://localhost:8080/",
     "height": 1000
    },
    "id": "GR9A5Pa66nUU",
    "outputId": "c0af39b1-24c3-4fe6-f126-953ae3b57e6a"
   },
   "outputs": [
    {
     "data": {
      "text/html": [
       "<div>\n",
       "<style scoped>\n",
       "    .dataframe tbody tr th:only-of-type {\n",
       "        vertical-align: middle;\n",
       "    }\n",
       "\n",
       "    .dataframe tbody tr th {\n",
       "        vertical-align: top;\n",
       "    }\n",
       "\n",
       "    .dataframe thead th {\n",
       "        text-align: right;\n",
       "    }\n",
       "</style>\n",
       "<table border=\"1\" class=\"dataframe\">\n",
       "  <thead>\n",
       "    <tr style=\"text-align: right;\">\n",
       "      <th>Symbols</th>\n",
       "      <th>F</th>\n",
       "      <th>CAT</th>\n",
       "      <th>DIS</th>\n",
       "      <th>MCD</th>\n",
       "      <th>KO</th>\n",
       "      <th>PEP</th>\n",
       "      <th>WMT</th>\n",
       "      <th>C</th>\n",
       "      <th>WFC</th>\n",
       "      <th>JPM</th>\n",
       "      <th>AAPL</th>\n",
       "      <th>IBM</th>\n",
       "      <th>PFE</th>\n",
       "      <th>JNJ</th>\n",
       "      <th>XOM</th>\n",
       "      <th>MRO</th>\n",
       "      <th>ED</th>\n",
       "      <th>T</th>\n",
       "      <th>VZ</th>\n",
       "      <th>NEM</th>\n",
       "    </tr>\n",
       "    <tr>\n",
       "      <th>Symbols</th>\n",
       "      <th></th>\n",
       "      <th></th>\n",
       "      <th></th>\n",
       "      <th></th>\n",
       "      <th></th>\n",
       "      <th></th>\n",
       "      <th></th>\n",
       "      <th></th>\n",
       "      <th></th>\n",
       "      <th></th>\n",
       "      <th></th>\n",
       "      <th></th>\n",
       "      <th></th>\n",
       "      <th></th>\n",
       "      <th></th>\n",
       "      <th></th>\n",
       "      <th></th>\n",
       "      <th></th>\n",
       "      <th></th>\n",
       "      <th></th>\n",
       "    </tr>\n",
       "  </thead>\n",
       "  <tbody>\n",
       "    <tr>\n",
       "      <th>F</th>\n",
       "      <td>0.014721</td>\n",
       "      <td>0.001548</td>\n",
       "      <td>0.001057</td>\n",
       "      <td>0.002166</td>\n",
       "      <td>7.086874e-04</td>\n",
       "      <td>-0.000391</td>\n",
       "      <td>1.724197e-03</td>\n",
       "      <td>0.004618</td>\n",
       "      <td>0.001966</td>\n",
       "      <td>0.003574</td>\n",
       "      <td>0.001562</td>\n",
       "      <td>0.002104</td>\n",
       "      <td>0.001282</td>\n",
       "      <td>0.000321</td>\n",
       "      <td>0.002238</td>\n",
       "      <td>0.000780</td>\n",
       "      <td>0.001087</td>\n",
       "      <td>0.001222</td>\n",
       "      <td>0.001768</td>\n",
       "      <td>-0.000203</td>\n",
       "    </tr>\n",
       "    <tr>\n",
       "      <th>CAT</th>\n",
       "      <td>0.001548</td>\n",
       "      <td>0.004283</td>\n",
       "      <td>0.000862</td>\n",
       "      <td>0.001250</td>\n",
       "      <td>4.969156e-04</td>\n",
       "      <td>-0.000104</td>\n",
       "      <td>-1.611960e-04</td>\n",
       "      <td>0.000337</td>\n",
       "      <td>-0.000827</td>\n",
       "      <td>-0.000236</td>\n",
       "      <td>0.003675</td>\n",
       "      <td>0.000983</td>\n",
       "      <td>0.001181</td>\n",
       "      <td>-0.000261</td>\n",
       "      <td>0.001743</td>\n",
       "      <td>0.002795</td>\n",
       "      <td>0.000097</td>\n",
       "      <td>0.001910</td>\n",
       "      <td>0.001639</td>\n",
       "      <td>0.001442</td>\n",
       "    </tr>\n",
       "    <tr>\n",
       "      <th>DIS</th>\n",
       "      <td>0.001057</td>\n",
       "      <td>0.000862</td>\n",
       "      <td>0.001953</td>\n",
       "      <td>0.000913</td>\n",
       "      <td>5.041601e-04</td>\n",
       "      <td>0.000338</td>\n",
       "      <td>1.726771e-04</td>\n",
       "      <td>0.000499</td>\n",
       "      <td>-0.000515</td>\n",
       "      <td>-0.000423</td>\n",
       "      <td>0.001410</td>\n",
       "      <td>0.000938</td>\n",
       "      <td>0.000169</td>\n",
       "      <td>0.000273</td>\n",
       "      <td>0.000244</td>\n",
       "      <td>0.000657</td>\n",
       "      <td>0.000264</td>\n",
       "      <td>0.000797</td>\n",
       "      <td>0.000725</td>\n",
       "      <td>-0.001018</td>\n",
       "    </tr>\n",
       "    <tr>\n",
       "      <th>MCD</th>\n",
       "      <td>0.002166</td>\n",
       "      <td>0.001250</td>\n",
       "      <td>0.000913</td>\n",
       "      <td>0.002626</td>\n",
       "      <td>1.013901e-03</td>\n",
       "      <td>0.000560</td>\n",
       "      <td>1.547019e-04</td>\n",
       "      <td>0.001143</td>\n",
       "      <td>0.000282</td>\n",
       "      <td>0.000909</td>\n",
       "      <td>0.004075</td>\n",
       "      <td>0.001398</td>\n",
       "      <td>0.000633</td>\n",
       "      <td>0.000538</td>\n",
       "      <td>0.001275</td>\n",
       "      <td>0.001455</td>\n",
       "      <td>0.000758</td>\n",
       "      <td>0.001092</td>\n",
       "      <td>0.001138</td>\n",
       "      <td>0.000067</td>\n",
       "    </tr>\n",
       "    <tr>\n",
       "      <th>KO</th>\n",
       "      <td>0.000709</td>\n",
       "      <td>0.000497</td>\n",
       "      <td>0.000504</td>\n",
       "      <td>0.001014</td>\n",
       "      <td>1.234342e-03</td>\n",
       "      <td>0.000708</td>\n",
       "      <td>6.927632e-07</td>\n",
       "      <td>0.000575</td>\n",
       "      <td>0.000264</td>\n",
       "      <td>0.000730</td>\n",
       "      <td>0.001176</td>\n",
       "      <td>0.000475</td>\n",
       "      <td>0.000368</td>\n",
       "      <td>0.000519</td>\n",
       "      <td>0.000583</td>\n",
       "      <td>0.000352</td>\n",
       "      <td>0.000434</td>\n",
       "      <td>0.000777</td>\n",
       "      <td>0.000624</td>\n",
       "      <td>-0.000654</td>\n",
       "    </tr>\n",
       "    <tr>\n",
       "      <th>PEP</th>\n",
       "      <td>-0.000391</td>\n",
       "      <td>-0.000104</td>\n",
       "      <td>0.000338</td>\n",
       "      <td>0.000560</td>\n",
       "      <td>7.084121e-04</td>\n",
       "      <td>0.001304</td>\n",
       "      <td>-1.565357e-04</td>\n",
       "      <td>0.000575</td>\n",
       "      <td>0.000483</td>\n",
       "      <td>0.000724</td>\n",
       "      <td>0.000849</td>\n",
       "      <td>0.000035</td>\n",
       "      <td>0.000283</td>\n",
       "      <td>0.000677</td>\n",
       "      <td>-0.000149</td>\n",
       "      <td>-0.000256</td>\n",
       "      <td>0.000508</td>\n",
       "      <td>0.000373</td>\n",
       "      <td>0.000397</td>\n",
       "      <td>-0.001172</td>\n",
       "    </tr>\n",
       "    <tr>\n",
       "      <th>WMT</th>\n",
       "      <td>0.001724</td>\n",
       "      <td>-0.000161</td>\n",
       "      <td>0.000173</td>\n",
       "      <td>0.000155</td>\n",
       "      <td>6.927632e-07</td>\n",
       "      <td>-0.000157</td>\n",
       "      <td>1.959695e-03</td>\n",
       "      <td>0.000282</td>\n",
       "      <td>0.000560</td>\n",
       "      <td>0.000986</td>\n",
       "      <td>-0.000582</td>\n",
       "      <td>0.000463</td>\n",
       "      <td>-0.000710</td>\n",
       "      <td>0.000232</td>\n",
       "      <td>-0.000838</td>\n",
       "      <td>-0.001979</td>\n",
       "      <td>-0.000210</td>\n",
       "      <td>0.000028</td>\n",
       "      <td>0.000078</td>\n",
       "      <td>-0.001251</td>\n",
       "    </tr>\n",
       "    <tr>\n",
       "      <th>C</th>\n",
       "      <td>0.004618</td>\n",
       "      <td>0.000337</td>\n",
       "      <td>0.000499</td>\n",
       "      <td>0.001143</td>\n",
       "      <td>5.748997e-04</td>\n",
       "      <td>0.000575</td>\n",
       "      <td>2.816591e-04</td>\n",
       "      <td>0.006352</td>\n",
       "      <td>0.003721</td>\n",
       "      <td>0.004288</td>\n",
       "      <td>0.000854</td>\n",
       "      <td>0.000991</td>\n",
       "      <td>0.001176</td>\n",
       "      <td>0.000687</td>\n",
       "      <td>0.000538</td>\n",
       "      <td>-0.000697</td>\n",
       "      <td>0.000907</td>\n",
       "      <td>0.001081</td>\n",
       "      <td>0.001191</td>\n",
       "      <td>-0.001138</td>\n",
       "    </tr>\n",
       "    <tr>\n",
       "      <th>WFC</th>\n",
       "      <td>0.001966</td>\n",
       "      <td>-0.000827</td>\n",
       "      <td>-0.000515</td>\n",
       "      <td>0.000282</td>\n",
       "      <td>2.643581e-04</td>\n",
       "      <td>0.000483</td>\n",
       "      <td>5.599563e-04</td>\n",
       "      <td>0.003721</td>\n",
       "      <td>0.005304</td>\n",
       "      <td>0.004728</td>\n",
       "      <td>-0.002496</td>\n",
       "      <td>0.000556</td>\n",
       "      <td>0.001344</td>\n",
       "      <td>0.000434</td>\n",
       "      <td>-0.001066</td>\n",
       "      <td>-0.002649</td>\n",
       "      <td>0.000527</td>\n",
       "      <td>-0.000344</td>\n",
       "      <td>-0.000262</td>\n",
       "      <td>-0.001545</td>\n",
       "    </tr>\n",
       "    <tr>\n",
       "      <th>JPM</th>\n",
       "      <td>0.003574</td>\n",
       "      <td>-0.000236</td>\n",
       "      <td>-0.000423</td>\n",
       "      <td>0.000909</td>\n",
       "      <td>7.300467e-04</td>\n",
       "      <td>0.000724</td>\n",
       "      <td>9.855057e-04</td>\n",
       "      <td>0.004288</td>\n",
       "      <td>0.004728</td>\n",
       "      <td>0.005800</td>\n",
       "      <td>-0.000598</td>\n",
       "      <td>0.000676</td>\n",
       "      <td>0.001252</td>\n",
       "      <td>0.000640</td>\n",
       "      <td>-0.000544</td>\n",
       "      <td>-0.002404</td>\n",
       "      <td>0.000610</td>\n",
       "      <td>0.000524</td>\n",
       "      <td>0.000478</td>\n",
       "      <td>-0.001168</td>\n",
       "    </tr>\n",
       "    <tr>\n",
       "      <th>AAPL</th>\n",
       "      <td>0.001562</td>\n",
       "      <td>0.003675</td>\n",
       "      <td>0.001410</td>\n",
       "      <td>0.004075</td>\n",
       "      <td>1.176363e-03</td>\n",
       "      <td>0.000849</td>\n",
       "      <td>-5.819182e-04</td>\n",
       "      <td>0.000854</td>\n",
       "      <td>-0.002496</td>\n",
       "      <td>-0.000598</td>\n",
       "      <td>0.016627</td>\n",
       "      <td>0.002268</td>\n",
       "      <td>0.000831</td>\n",
       "      <td>0.000626</td>\n",
       "      <td>0.003989</td>\n",
       "      <td>0.005465</td>\n",
       "      <td>0.001147</td>\n",
       "      <td>0.003454</td>\n",
       "      <td>0.002867</td>\n",
       "      <td>0.002568</td>\n",
       "    </tr>\n",
       "    <tr>\n",
       "      <th>IBM</th>\n",
       "      <td>0.002104</td>\n",
       "      <td>0.000983</td>\n",
       "      <td>0.000938</td>\n",
       "      <td>0.001398</td>\n",
       "      <td>4.750712e-04</td>\n",
       "      <td>0.000035</td>\n",
       "      <td>4.633211e-04</td>\n",
       "      <td>0.000991</td>\n",
       "      <td>0.000556</td>\n",
       "      <td>0.000676</td>\n",
       "      <td>0.002268</td>\n",
       "      <td>0.003253</td>\n",
       "      <td>-0.000132</td>\n",
       "      <td>0.000353</td>\n",
       "      <td>0.000659</td>\n",
       "      <td>0.000863</td>\n",
       "      <td>-0.000026</td>\n",
       "      <td>0.000997</td>\n",
       "      <td>0.000919</td>\n",
       "      <td>0.000087</td>\n",
       "    </tr>\n",
       "    <tr>\n",
       "      <th>PFE</th>\n",
       "      <td>0.001282</td>\n",
       "      <td>0.001181</td>\n",
       "      <td>0.000169</td>\n",
       "      <td>0.000633</td>\n",
       "      <td>3.679896e-04</td>\n",
       "      <td>0.000283</td>\n",
       "      <td>-7.104404e-04</td>\n",
       "      <td>0.001176</td>\n",
       "      <td>0.001344</td>\n",
       "      <td>0.001252</td>\n",
       "      <td>0.000831</td>\n",
       "      <td>-0.000132</td>\n",
       "      <td>0.003286</td>\n",
       "      <td>0.000234</td>\n",
       "      <td>0.001042</td>\n",
       "      <td>0.001469</td>\n",
       "      <td>0.000661</td>\n",
       "      <td>0.000852</td>\n",
       "      <td>0.000886</td>\n",
       "      <td>0.000911</td>\n",
       "    </tr>\n",
       "    <tr>\n",
       "      <th>JNJ</th>\n",
       "      <td>0.000321</td>\n",
       "      <td>-0.000261</td>\n",
       "      <td>0.000273</td>\n",
       "      <td>0.000538</td>\n",
       "      <td>5.186153e-04</td>\n",
       "      <td>0.000677</td>\n",
       "      <td>2.319626e-04</td>\n",
       "      <td>0.000687</td>\n",
       "      <td>0.000434</td>\n",
       "      <td>0.000640</td>\n",
       "      <td>0.000626</td>\n",
       "      <td>0.000353</td>\n",
       "      <td>0.000234</td>\n",
       "      <td>0.000979</td>\n",
       "      <td>0.000139</td>\n",
       "      <td>-0.000403</td>\n",
       "      <td>0.000322</td>\n",
       "      <td>0.000302</td>\n",
       "      <td>0.000330</td>\n",
       "      <td>-0.000860</td>\n",
       "    </tr>\n",
       "    <tr>\n",
       "      <th>XOM</th>\n",
       "      <td>0.002238</td>\n",
       "      <td>0.001743</td>\n",
       "      <td>0.000244</td>\n",
       "      <td>0.001275</td>\n",
       "      <td>5.834055e-04</td>\n",
       "      <td>-0.000149</td>\n",
       "      <td>-8.377282e-04</td>\n",
       "      <td>0.000538</td>\n",
       "      <td>-0.001066</td>\n",
       "      <td>-0.000544</td>\n",
       "      <td>0.003989</td>\n",
       "      <td>0.000659</td>\n",
       "      <td>0.001042</td>\n",
       "      <td>0.000139</td>\n",
       "      <td>0.003717</td>\n",
       "      <td>0.004230</td>\n",
       "      <td>0.000540</td>\n",
       "      <td>0.001075</td>\n",
       "      <td>0.001062</td>\n",
       "      <td>0.001898</td>\n",
       "    </tr>\n",
       "    <tr>\n",
       "      <th>MRO</th>\n",
       "      <td>0.000780</td>\n",
       "      <td>0.002795</td>\n",
       "      <td>0.000657</td>\n",
       "      <td>0.001455</td>\n",
       "      <td>3.519736e-04</td>\n",
       "      <td>-0.000256</td>\n",
       "      <td>-1.978513e-03</td>\n",
       "      <td>-0.000697</td>\n",
       "      <td>-0.002649</td>\n",
       "      <td>-0.002404</td>\n",
       "      <td>0.005465</td>\n",
       "      <td>0.000863</td>\n",
       "      <td>0.001469</td>\n",
       "      <td>-0.000403</td>\n",
       "      <td>0.004230</td>\n",
       "      <td>0.009963</td>\n",
       "      <td>0.000757</td>\n",
       "      <td>0.001478</td>\n",
       "      <td>0.001551</td>\n",
       "      <td>0.003391</td>\n",
       "    </tr>\n",
       "    <tr>\n",
       "      <th>ED</th>\n",
       "      <td>0.001087</td>\n",
       "      <td>0.000097</td>\n",
       "      <td>0.000264</td>\n",
       "      <td>0.000758</td>\n",
       "      <td>4.336833e-04</td>\n",
       "      <td>0.000508</td>\n",
       "      <td>-2.099479e-04</td>\n",
       "      <td>0.000907</td>\n",
       "      <td>0.000527</td>\n",
       "      <td>0.000610</td>\n",
       "      <td>0.001147</td>\n",
       "      <td>-0.000026</td>\n",
       "      <td>0.000661</td>\n",
       "      <td>0.000322</td>\n",
       "      <td>0.000540</td>\n",
       "      <td>0.000757</td>\n",
       "      <td>0.001452</td>\n",
       "      <td>0.000498</td>\n",
       "      <td>0.000310</td>\n",
       "      <td>-0.000200</td>\n",
       "    </tr>\n",
       "    <tr>\n",
       "      <th>T</th>\n",
       "      <td>0.001222</td>\n",
       "      <td>0.001910</td>\n",
       "      <td>0.000797</td>\n",
       "      <td>0.001092</td>\n",
       "      <td>7.768483e-04</td>\n",
       "      <td>0.000373</td>\n",
       "      <td>2.837188e-05</td>\n",
       "      <td>0.001081</td>\n",
       "      <td>-0.000344</td>\n",
       "      <td>0.000524</td>\n",
       "      <td>0.003454</td>\n",
       "      <td>0.000997</td>\n",
       "      <td>0.000852</td>\n",
       "      <td>0.000302</td>\n",
       "      <td>0.001075</td>\n",
       "      <td>0.001478</td>\n",
       "      <td>0.000498</td>\n",
       "      <td>0.003385</td>\n",
       "      <td>0.002197</td>\n",
       "      <td>-0.000363</td>\n",
       "    </tr>\n",
       "    <tr>\n",
       "      <th>VZ</th>\n",
       "      <td>0.001768</td>\n",
       "      <td>0.001639</td>\n",
       "      <td>0.000725</td>\n",
       "      <td>0.001138</td>\n",
       "      <td>6.244782e-04</td>\n",
       "      <td>0.000397</td>\n",
       "      <td>7.827954e-05</td>\n",
       "      <td>0.001191</td>\n",
       "      <td>-0.000262</td>\n",
       "      <td>0.000478</td>\n",
       "      <td>0.002867</td>\n",
       "      <td>0.000919</td>\n",
       "      <td>0.000886</td>\n",
       "      <td>0.000330</td>\n",
       "      <td>0.001062</td>\n",
       "      <td>0.001551</td>\n",
       "      <td>0.000310</td>\n",
       "      <td>0.002197</td>\n",
       "      <td>0.002751</td>\n",
       "      <td>-0.000063</td>\n",
       "    </tr>\n",
       "    <tr>\n",
       "      <th>NEM</th>\n",
       "      <td>-0.000203</td>\n",
       "      <td>0.001442</td>\n",
       "      <td>-0.001018</td>\n",
       "      <td>0.000067</td>\n",
       "      <td>-6.541535e-04</td>\n",
       "      <td>-0.001172</td>\n",
       "      <td>-1.250594e-03</td>\n",
       "      <td>-0.001138</td>\n",
       "      <td>-0.001545</td>\n",
       "      <td>-0.001168</td>\n",
       "      <td>0.002568</td>\n",
       "      <td>0.000087</td>\n",
       "      <td>0.000911</td>\n",
       "      <td>-0.000860</td>\n",
       "      <td>0.001898</td>\n",
       "      <td>0.003391</td>\n",
       "      <td>-0.000200</td>\n",
       "      <td>-0.000363</td>\n",
       "      <td>-0.000063</td>\n",
       "      <td>0.007417</td>\n",
       "    </tr>\n",
       "  </tbody>\n",
       "</table>\n",
       "</div>"
      ],
      "text/plain": [
       "Symbols         F       CAT       DIS  ...         T        VZ       NEM\n",
       "Symbols                                ...                              \n",
       "F        0.014721  0.001548  0.001057  ...  0.001222  0.001768 -0.000203\n",
       "CAT      0.001548  0.004283  0.000862  ...  0.001910  0.001639  0.001442\n",
       "DIS      0.001057  0.000862  0.001953  ...  0.000797  0.000725 -0.001018\n",
       "MCD      0.002166  0.001250  0.000913  ...  0.001092  0.001138  0.000067\n",
       "KO       0.000709  0.000497  0.000504  ...  0.000777  0.000624 -0.000654\n",
       "PEP     -0.000391 -0.000104  0.000338  ...  0.000373  0.000397 -0.001172\n",
       "WMT      0.001724 -0.000161  0.000173  ...  0.000028  0.000078 -0.001251\n",
       "C        0.004618  0.000337  0.000499  ...  0.001081  0.001191 -0.001138\n",
       "WFC      0.001966 -0.000827 -0.000515  ... -0.000344 -0.000262 -0.001545\n",
       "JPM      0.003574 -0.000236 -0.000423  ...  0.000524  0.000478 -0.001168\n",
       "AAPL     0.001562  0.003675  0.001410  ...  0.003454  0.002867  0.002568\n",
       "IBM      0.002104  0.000983  0.000938  ...  0.000997  0.000919  0.000087\n",
       "PFE      0.001282  0.001181  0.000169  ...  0.000852  0.000886  0.000911\n",
       "JNJ      0.000321 -0.000261  0.000273  ...  0.000302  0.000330 -0.000860\n",
       "XOM      0.002238  0.001743  0.000244  ...  0.001075  0.001062  0.001898\n",
       "MRO      0.000780  0.002795  0.000657  ...  0.001478  0.001551  0.003391\n",
       "ED       0.001087  0.000097  0.000264  ...  0.000498  0.000310 -0.000200\n",
       "T        0.001222  0.001910  0.000797  ...  0.003385  0.002197 -0.000363\n",
       "VZ       0.001768  0.001639  0.000725  ...  0.002197  0.002751 -0.000063\n",
       "NEM     -0.000203  0.001442 -0.001018  ... -0.000363 -0.000063  0.007417\n",
       "\n",
       "[20 rows x 20 columns]"
      ]
     },
     "execution_count": 8,
     "metadata": {
      "tags": []
     },
     "output_type": "execute_result"
    }
   ],
   "source": [
    "#calculate covariance matrix\n",
    "monthly_returns.cov()"
   ]
  },
  {
   "cell_type": "markdown",
   "metadata": {
    "id": "jXgUCXSnAaIA"
   },
   "source": [
    "## (1) Mean-Variance Optimization Model (MVO)\n",
    "\n",
    "*Note: short selling is allowed*"
   ]
  },
  {
   "cell_type": "markdown",
   "metadata": {
    "id": "TtFYgYohAuqm"
   },
   "source": [
    "\\begin{equation}\n",
    "\\begin{array}{rl}\n",
    "\\displaystyle \\max_{w} & μ^Tx-λx^TQx \\\\\n",
    "{\\rm s.t.} & \\sum_i x_i = 1\\\n",
    "\\end{array}\n",
    "\\end{equation}"
   ]
  },
  {
   "cell_type": "code",
   "execution_count": 9,
   "metadata": {
    "id": "Y4N1kBoGBRps"
   },
   "outputs": [],
   "source": [
    "Q=np.array(monthly_returns.cov())\n",
    "mu=np.array(exp_returns)"
   ]
  },
  {
   "cell_type": "code",
   "execution_count": 10,
   "metadata": {
    "id": "Z3JnAACIXvSc"
   },
   "outputs": [],
   "source": [
    "#define a function for MVO strategy, for later use\n",
    "def MVO(Q, mu, lambd):\n",
    "  x1 = cp.Variable(n)\n",
    "  prob1 = cp.Problem(cp.Maximize(mu.T@x1-cp.quad_form(x1, Q)*lambd),\n",
    "                   [sum(x1) == 1])\n",
    "  prob1.solve()\n",
    "\n",
    "  return(x1.value)"
   ]
  },
  {
   "cell_type": "markdown",
   "metadata": {
    "id": "kSfjMhYzCyCG"
   },
   "source": [
    "## (2) Robust mean-variance optimization"
   ]
  },
  {
   "cell_type": "markdown",
   "metadata": {
    "id": "i6xFlH2XEGHN"
   },
   "source": [
    "using ellipsoidal uncertainty set (assuming allow short selling)\n",
    "\n",
    "\\begin{equation}\n",
    "\\begin{array}{rl}\n",
    "\\displaystyle \\max_{w} & μ^Tx-λx^TQx-ε_2\\sqrt{x^TΘx} \\\\\n",
    "{\\rm s.t.} & \\sum_i x_i = 1\\\n",
    "\\end{array}\n",
    "\\end{equation}"
   ]
  },
  {
   "cell_type": "code",
   "execution_count": 11,
   "metadata": {
    "id": "Cd1gDMOwGUiq"
   },
   "outputs": [],
   "source": [
    "T=len(monthly_returns)\n",
    "theta = np.sqrt(np.diag(np.diag(Q))/T)"
   ]
  },
  {
   "cell_type": "code",
   "execution_count": 12,
   "metadata": {
    "id": "85zG16xvX0yL"
   },
   "outputs": [],
   "source": [
    "#define function for robust MVO strategy, for later use\n",
    "def robustMVO(Q, mu, lambd, epsilon, theta):\n",
    "  x2 = cp.Variable(n)\n",
    "  prob2 = cp.Problem(cp.Maximize(mu.T@x2 - cp.quad_form(x2, Q)*lambd - cp.quad_form(x2, theta)*epsilon),\n",
    "                   [sum(x2) == 1])\n",
    "  prob2.solve()\n",
    "\n",
    "  return(x2.value)\n"
   ]
  },
  {
   "cell_type": "markdown",
   "metadata": {
    "id": "vk0EBxiSJC3d"
   },
   "source": [
    "## (3) Risk Parity optimization without short selling"
   ]
  },
  {
   "cell_type": "markdown",
   "metadata": {
    "id": "94ERaTo1KTZx"
   },
   "source": [
    "\\begin{equation}\n",
    "\\begin{array}{rl}\n",
    "\\displaystyle \\min_{w} & \\sum_{i=1}^n (x_i(Qx)_i - θ)^2 \\\\\n",
    "{\\rm s.t.} & \\sum_i x_i = 1\\\\\n",
    "& x \\geq 0\n",
    "\\end{array}\n",
    "\\end{equation}"
   ]
  },
  {
   "cell_type": "code",
   "execution_count": 13,
   "metadata": {
    "colab": {
     "base_uri": "https://localhost:8080/"
    },
    "id": "ez01NWfiUesa",
    "outputId": "209b23e0-3394-498e-9a96-12e635fabebc"
   },
   "outputs": [
    {
     "data": {
      "text/plain": [
       "array([0.3716791 , 0.73122826, 1.49015731, 0.65212738, 1.26992826,\n",
       "       2.09229793, 3.2638698 , 0.56528032, 1.17018748, 0.65399253,\n",
       "       0.347639  , 0.83363221, 0.90723129, 1.85108986, 0.80831557,\n",
       "       0.73709856, 1.39217304, 0.76343239, 0.775522  , 1.87176269,\n",
       "       0.01205107])"
      ]
     },
     "execution_count": 13,
     "metadata": {
      "tags": []
     },
     "output_type": "execute_result"
    }
   ],
   "source": [
    "from scipy.optimize import least_squares\n",
    "\n",
    "def objectfunc(x):\n",
    "    return np.array(x[0:20]*(Q@x[0:20])-x[20])\n",
    "x0 = np.array([0.5]*20+[0])\n",
    "res_1 = least_squares(objectfunc,x0,bounds=([0,0,0,0,0,0,0,0,0,0,0,0,0,0,0,0,0,0,0,0,-np.inf],np.inf))\n",
    "res_1.x\n",
    "\n",
    "#The least_squares method doesn't take linear constraints, so we could only normalize the weights later to make sum of the weights equal to 1"
   ]
  },
  {
   "cell_type": "code",
   "execution_count": 14,
   "metadata": {
    "colab": {
     "base_uri": "https://localhost:8080/"
    },
    "id": "-Zw6rqsYHfzQ",
    "outputId": "71d3f32c-ea61-43f0-aad3-c14251af7d04"
   },
   "outputs": [
    {
     "data": {
      "text/plain": [
       "array([0.01648343, 0.03242892, 0.06608633, 0.02892091, 0.05631949,\n",
       "       0.09279041, 0.14474793, 0.02506937, 0.05189613, 0.02900363,\n",
       "       0.01541729, 0.03697039, 0.0402344 , 0.08209318, 0.03584763,\n",
       "       0.03268926, 0.06174087, 0.03385713, 0.03439329, 0.08300999])"
      ]
     },
     "execution_count": 14,
     "metadata": {
      "tags": []
     },
     "output_type": "execute_result"
    }
   ],
   "source": [
    "#normalize the result, so they sum up to 1\n",
    "w_erc=res_1.x[0:20]/sum(res_1.x[0:20])\n",
    "w_erc"
   ]
  },
  {
   "cell_type": "code",
   "execution_count": 15,
   "metadata": {
    "colab": {
     "base_uri": "https://localhost:8080/"
    },
    "id": "vH78N4Ue888N",
    "outputId": "18a5e109-e027-4bac-da3f-2f5de7eb319d"
   },
   "outputs": [
    {
     "data": {
      "text/plain": [
       "array([0.00108862, 0.00108862, 0.00108862, 0.00108862, 0.00108862,\n",
       "       0.00108862, 0.00108862, 0.00108862, 0.00108862, 0.00108862,\n",
       "       0.00108862, 0.00108862, 0.00108862, 0.00108862, 0.00108862,\n",
       "       0.00108862, 0.00108862, 0.00108862, 0.00108862, 0.00108862])"
      ]
     },
     "execution_count": 15,
     "metadata": {
      "tags": []
     },
     "output_type": "execute_result"
    }
   ],
   "source": [
    "#check risk contribution\n",
    "var_ERC = np.dot(w_erc, np.dot(Q, w_erc))\n",
    "std_ERC = np.sqrt(var_ERC)\n",
    "RC_ERC = (w_erc * np.dot(Q, w_erc)) / std_ERC\n",
    "RC_ERC"
   ]
  },
  {
   "cell_type": "markdown",
   "metadata": {
    "id": "MT7Sltl11ENc"
   },
   "source": [
    "## Calculate market portfolio weights for OCT 2008 and NOV 2008"
   ]
  },
  {
   "cell_type": "code",
   "execution_count": 16,
   "metadata": {
    "colab": {
     "base_uri": "https://localhost:8080/"
    },
    "id": "jozKZInk3pFJ",
    "outputId": "81dcd555-72a7-496f-c43b-ef946d4be8e6"
   },
   "outputs": [
    {
     "name": "stderr",
     "output_type": "stream",
     "text": [
      "/usr/local/lib/python3.7/dist-packages/ipykernel_launcher.py:8: SettingWithCopyWarning: \n",
      "A value is trying to be set on a copy of a slice from a DataFrame.\n",
      "Try using .loc[row_indexer,col_indexer] = value instead\n",
      "\n",
      "See the caveats in the documentation: https://pandas.pydata.org/pandas-docs/stable/user_guide/indexing.html#returning-a-view-versus-a-copy\n",
      "  \n",
      "/usr/local/lib/python3.7/dist-packages/ipykernel_launcher.py:11: SettingWithCopyWarning: \n",
      "A value is trying to be set on a copy of a slice from a DataFrame.\n",
      "Try using .loc[row_indexer,col_indexer] = value instead\n",
      "\n",
      "See the caveats in the documentation: https://pandas.pydata.org/pandas-docs/stable/user_guide/indexing.html#returning-a-view-versus-a-copy\n",
      "  # This is added back by InteractiveShellApp.init_path()\n"
     ]
    }
   ],
   "source": [
    "import pandas as pd\n",
    "\n",
    "df = pd.read_csv('2008 stock price and shares.csv')\n",
    "#calculate market cap\n",
    "df['Market Cap'] = df['PRC'] * df['SHROUT']\n",
    "#calculate weights for OCT 2008\n",
    "OCT_2008 = df[df['date']=='2008/10/31']\n",
    "OCT_2008['weight'] = OCT_2008['Market Cap']/(OCT_2008['Market Cap'].sum())\n",
    "#calculate weights for NOV 2008\n",
    "NOV_2008 = df[df['date']=='2008/11/28']\n",
    "NOV_2008['weight'] = NOV_2008['Market Cap']/(NOV_2008['Market Cap'].sum())"
   ]
  },
  {
   "cell_type": "code",
   "execution_count": 17,
   "metadata": {
    "colab": {
     "base_uri": "https://localhost:8080/"
    },
    "id": "qO8DOL-j35kx",
    "outputId": "79a7cc01-4ddc-4eeb-c612-9423be590a3b"
   },
   "outputs": [
    {
     "data": {
      "text/plain": [
       "1     0.049306\n",
       "5     0.005724\n",
       "9     0.182378\n",
       "13    0.060415\n",
       "17    0.042828\n",
       "21    0.046261\n",
       "25    0.009931\n",
       "29    0.011146\n",
       "33    0.005624\n",
       "37    0.057745\n",
       "41    0.082913\n",
       "45    0.002320\n",
       "49    0.023517\n",
       "53    0.054767\n",
       "57    0.031514\n",
       "61    0.074361\n",
       "65    0.106198\n",
       "69    0.040765\n",
       "73    0.076306\n",
       "77    0.035980\n",
       "Name: weight, dtype: float64"
      ]
     },
     "execution_count": 17,
     "metadata": {
      "tags": []
     },
     "output_type": "execute_result"
    }
   ],
   "source": [
    "OCT_2008['weight']"
   ]
  },
  {
   "cell_type": "code",
   "execution_count": 18,
   "metadata": {
    "colab": {
     "base_uri": "https://localhost:8080/"
    },
    "id": "fD-J9AmW3632",
    "outputId": "59c25ff9-4e68-4d7c-ab6a-72366787328b"
   },
   "outputs": [
    {
     "data": {
      "text/plain": [
       "2     0.054111\n",
       "6     0.005515\n",
       "10    0.203444\n",
       "14    0.054705\n",
       "18    0.043944\n",
       "22    0.041107\n",
       "26    0.009218\n",
       "30    0.012339\n",
       "34    0.007413\n",
       "38    0.055284\n",
       "42    0.081106\n",
       "46    0.003112\n",
       "50    0.020801\n",
       "54    0.053755\n",
       "58    0.032675\n",
       "62    0.058966\n",
       "66    0.109698\n",
       "70    0.046279\n",
       "74    0.083986\n",
       "78    0.022544\n",
       "Name: weight, dtype: float64"
      ]
     },
     "execution_count": 18,
     "metadata": {
      "tags": []
     },
     "output_type": "execute_result"
    }
   ],
   "source": [
    "NOV_2008['weight']"
   ]
  },
  {
   "cell_type": "code",
   "execution_count": 19,
   "metadata": {
    "id": "V1Gl9hB6_SFc"
   },
   "outputs": [],
   "source": [
    "#obtain price data for OCT and NOV 2008 to calculate actual return and variance\n",
    "\n",
    "start_2008 = datetime.datetime(2008, 8, 28)\n",
    "end_2008 = datetime.datetime(2008, 11, 30)\n",
    "ticker_symbol = ['F','CAT','DIS','MCD','KO','PEP','WMT','C','WFC','JPM','AAPL','IBM','PFE','JNJ','XOM','MRO','ED','T','VZ','NEM']\n",
    "\n",
    "df_stock_2008 = web.DataReader(ticker_symbol, 'yahoo', start_2008, end_2008)\n",
    "\n",
    "#month returns of stock prices for OCT and NOV 2008\n",
    "monthly_returns_2008 = df_stock_2008['Adj Close'].resample('M').ffill().pct_change().iloc[1:,:]\n",
    "\n",
    "#variances\n",
    "Q_2008_OCT = monthly_returns_2008.iloc[0:2].cov()\n",
    "Q_2008_NOV = monthly_returns_2008.iloc[1:3].cov()"
   ]
  },
  {
   "cell_type": "markdown",
   "metadata": {
    "id": "-MEcSOoo6Ow4"
   },
   "source": [
    "## OCT 2008"
   ]
  },
  {
   "cell_type": "code",
   "execution_count": 20,
   "metadata": {
    "id": "xOw4v2NkME_j"
   },
   "outputs": [],
   "source": [
    "#average US treasury yield for OCT.2008 was 3.8072%\n",
    "rf_OCT=3.8072/100"
   ]
  },
  {
   "cell_type": "code",
   "execution_count": 21,
   "metadata": {
    "colab": {
     "base_uri": "https://localhost:8080/"
    },
    "id": "G67XcL6Scq3m",
    "outputId": "49bfab37-4055-4963-b2dc-ae88f314f9ab"
   },
   "outputs": [
    {
     "data": {
      "text/plain": [
       "3.820287489857026"
      ]
     },
     "execution_count": 21,
     "metadata": {
      "tags": []
     },
     "output_type": "execute_result"
    }
   ],
   "source": [
    "x_market = np.array(OCT_2008.set_index(['TICKER']).reindex(ticker_symbol)['weight'])\n",
    "var_market = x_market@Q@x_market\n",
    "\n",
    "#calculate risk aversion coefficient lambd based of the market portfolio\n",
    "lambd_OCT = (mu@x_market-rf_OCT/12)/var_market\n",
    "lambd_OCT "
   ]
  },
  {
   "cell_type": "code",
   "execution_count": 27,
   "metadata": {
    "colab": {
     "base_uri": "https://localhost:8080/"
    },
    "id": "tD2DLdZSHA3y",
    "outputId": "eddf8847-7dc4-452d-b3a3-74baf3a44cee"
   },
   "outputs": [
    {
     "data": {
      "text/plain": [
       "array([-0.14744091,  0.03298447,  0.04856003,  0.23709823,  0.10757195,\n",
       "        0.18837919,  0.18505125, -0.23218316,  0.19165416,  0.1298586 ,\n",
       "        0.07060673,  0.00603535, -0.13896701,  0.06315403,  0.1444613 ,\n",
       "        0.12990687,  0.05180408,  0.03610414, -0.08741175, -0.01722755])"
      ]
     },
     "execution_count": 27,
     "metadata": {
      "tags": []
     },
     "output_type": "execute_result"
    }
   ],
   "source": [
    "x_robust_95"
   ]
  },
  {
   "cell_type": "code",
   "execution_count": 22,
   "metadata": {
    "colab": {
     "base_uri": "https://localhost:8080/",
     "height": 206
    },
    "id": "hfCQjW2KAdS0",
    "outputId": "d61dfd04-ab32-4c36-ac01-fdbb78af79a5"
   },
   "outputs": [
    {
     "data": {
      "text/html": [
       "<div>\n",
       "<style scoped>\n",
       "    .dataframe tbody tr th:only-of-type {\n",
       "        vertical-align: middle;\n",
       "    }\n",
       "\n",
       "    .dataframe tbody tr th {\n",
       "        vertical-align: top;\n",
       "    }\n",
       "\n",
       "    .dataframe thead th {\n",
       "        text-align: right;\n",
       "    }\n",
       "</style>\n",
       "<table border=\"1\" class=\"dataframe\">\n",
       "  <thead>\n",
       "    <tr style=\"text-align: right;\">\n",
       "      <th></th>\n",
       "      <th>Portfilio</th>\n",
       "      <th>return (monthly)</th>\n",
       "      <th>variance (monthly)</th>\n",
       "      <th>std (monthly)</th>\n",
       "      <th>Sharpe ratio</th>\n",
       "    </tr>\n",
       "  </thead>\n",
       "  <tbody>\n",
       "    <tr>\n",
       "      <th>0</th>\n",
       "      <td>MVO</td>\n",
       "      <td>0.301588</td>\n",
       "      <td>0.009725</td>\n",
       "      <td>0.098614</td>\n",
       "      <td>3.026085</td>\n",
       "    </tr>\n",
       "    <tr>\n",
       "      <th>1</th>\n",
       "      <td>Robust MVO 95%</td>\n",
       "      <td>-0.003170</td>\n",
       "      <td>0.001435</td>\n",
       "      <td>0.037888</td>\n",
       "      <td>-0.167400</td>\n",
       "    </tr>\n",
       "    <tr>\n",
       "      <th>2</th>\n",
       "      <td>Robust MVO 90%</td>\n",
       "      <td>0.010379</td>\n",
       "      <td>0.001624</td>\n",
       "      <td>0.040295</td>\n",
       "      <td>0.178843</td>\n",
       "    </tr>\n",
       "    <tr>\n",
       "      <th>3</th>\n",
       "      <td>ERC</td>\n",
       "      <td>-0.145912</td>\n",
       "      <td>0.000474</td>\n",
       "      <td>0.021772</td>\n",
       "      <td>-6.847387</td>\n",
       "    </tr>\n",
       "    <tr>\n",
       "      <th>4</th>\n",
       "      <td>Market portfolio</td>\n",
       "      <td>-0.103685</td>\n",
       "      <td>0.000840</td>\n",
       "      <td>0.028974</td>\n",
       "      <td>-3.688004</td>\n",
       "    </tr>\n",
       "  </tbody>\n",
       "</table>\n",
       "</div>"
      ],
      "text/plain": [
       "          Portfilio  return (monthly)  ...  std (monthly)  Sharpe ratio\n",
       "0               MVO          0.301588  ...       0.098614      3.026085\n",
       "1    Robust MVO 95%         -0.003170  ...       0.037888     -0.167400\n",
       "2    Robust MVO 90%          0.010379  ...       0.040295      0.178843\n",
       "3               ERC         -0.145912  ...       0.021772     -6.847387\n",
       "4  Market portfolio         -0.103685  ...       0.028974     -3.688004\n",
       "\n",
       "[5 rows x 5 columns]"
      ]
     },
     "execution_count": 22,
     "metadata": {
      "tags": []
     },
     "output_type": "execute_result"
    }
   ],
   "source": [
    "#set weights of the four portfolios as arries\n",
    "x_mvo = MVO(Q, mu, lambd_OCT)\n",
    "x_robust_95 = robustMVO(Q,mu, lambd_OCT, 1.96, theta)\n",
    "x_robust_90 = robustMVO(Q,mu, lambd_OCT, 1.645, theta)\n",
    "x_erc = w_erc.copy()\n",
    "x_market = np.array(OCT_2008.set_index(['TICKER']).reindex(ticker_symbol)['weight']) \n",
    "\n",
    "return_mvo = monthly_returns_2008.iloc[1] @ x_mvo\n",
    "return_robust_95 = monthly_returns_2008.iloc[1] @ x_robust_95\n",
    "return_robust_90 = monthly_returns_2008.iloc[1] @ x_robust_90\n",
    "return_erc = monthly_returns_2008.iloc[1] @ x_erc\n",
    "return_market = monthly_returns_2008.iloc[1] @ x_market\n",
    "\n",
    "var_mvo = x_mvo@Q@x_mvo\n",
    "var_robust_95 = x_robust_95@Q@x_robust_95\n",
    "var_robust_90 = x_robust_90@Q@x_robust_90\n",
    "var_erc = x_erc@Q@x_erc\n",
    "var_market = x_market@Q@x_market\n",
    "\n",
    "result_OCT_2008 = pd.DataFrame({'Portfilio':['MVO', 'Robust MVO 95%','Robust MVO 90%', 'ERC', 'Market portfolio'], \n",
    "                       'return (monthly)':[return_mvo,return_robust_95,return_robust_90, return_erc,return_market],\n",
    "                       'variance (monthly)':[var_mvo,var_robust_95,var_robust_90,var_erc,var_market],\n",
    "                       'std (monthly)':[np.sqrt(var_mvo),np.sqrt(var_robust_95),np.sqrt(var_robust_90),np.sqrt(var_erc),np.sqrt(var_market)]})\n",
    "\n",
    "result_OCT_2008['Sharpe ratio'] = (result_OCT_2008['return (monthly)']-rf_OCT/12)/result_OCT_2008['std (monthly)']\n",
    "\n",
    "result_OCT_2008"
   ]
  },
  {
   "cell_type": "markdown",
   "metadata": {
    "id": "U83MdtldJUCi"
   },
   "source": [
    "## NOV 2008"
   ]
  },
  {
   "cell_type": "code",
   "execution_count": 23,
   "metadata": {
    "id": "fG9LSG3DFnHT"
   },
   "outputs": [],
   "source": [
    "#average US treasury yield for NOV.2008 was 3.521%\n",
    "rf_NOV=3.521/100"
   ]
  },
  {
   "cell_type": "code",
   "execution_count": 24,
   "metadata": {
    "colab": {
     "base_uri": "https://localhost:8080/"
    },
    "id": "Q8GjOR4mjDIv",
    "outputId": "c1293da0-0255-40f2-b3ea-f5615ad715c9"
   },
   "outputs": [
    {
     "data": {
      "text/plain": [
       "4.493019828474735"
      ]
     },
     "execution_count": 24,
     "metadata": {
      "tags": []
     },
     "output_type": "execute_result"
    }
   ],
   "source": [
    "x_market = np.array(NOV_2008.set_index(['TICKER']).reindex(ticker_symbol)['weight'])\n",
    "var_market = x_market@Q@x_market\n",
    "\n",
    "#calculate risk aversion coefficient lambd based of the market portfolio\n",
    "lambd_NOV = (mu@x_market-rf_NOV/12)/var_market\n",
    "lambd_NOV"
   ]
  },
  {
   "cell_type": "code",
   "execution_count": 25,
   "metadata": {
    "colab": {
     "base_uri": "https://localhost:8080/",
     "height": 206
    },
    "id": "VfpqHdcNJWDX",
    "outputId": "37b71e6b-bbc4-41f8-85f7-ede6f3de2f16"
   },
   "outputs": [
    {
     "data": {
      "text/html": [
       "<div>\n",
       "<style scoped>\n",
       "    .dataframe tbody tr th:only-of-type {\n",
       "        vertical-align: middle;\n",
       "    }\n",
       "\n",
       "    .dataframe tbody tr th {\n",
       "        vertical-align: top;\n",
       "    }\n",
       "\n",
       "    .dataframe thead th {\n",
       "        text-align: right;\n",
       "    }\n",
       "</style>\n",
       "<table border=\"1\" class=\"dataframe\">\n",
       "  <thead>\n",
       "    <tr style=\"text-align: right;\">\n",
       "      <th></th>\n",
       "      <th>Portfilio</th>\n",
       "      <th>return (monthly)</th>\n",
       "      <th>variance (monthly)</th>\n",
       "      <th>std (monthly)</th>\n",
       "      <th>Sharpe ratio</th>\n",
       "    </tr>\n",
       "  </thead>\n",
       "  <tbody>\n",
       "    <tr>\n",
       "      <th>0</th>\n",
       "      <td>MVO</td>\n",
       "      <td>0.215702</td>\n",
       "      <td>0.007081</td>\n",
       "      <td>0.084149</td>\n",
       "      <td>2.528462</td>\n",
       "    </tr>\n",
       "    <tr>\n",
       "      <th>1</th>\n",
       "      <td>Robust MVO 95%</td>\n",
       "      <td>-0.009918</td>\n",
       "      <td>0.001248</td>\n",
       "      <td>0.035323</td>\n",
       "      <td>-0.363844</td>\n",
       "    </tr>\n",
       "    <tr>\n",
       "      <th>2</th>\n",
       "      <td>Robust MVO 90%</td>\n",
       "      <td>-0.007618</td>\n",
       "      <td>0.001318</td>\n",
       "      <td>0.036306</td>\n",
       "      <td>-0.290648</td>\n",
       "    </tr>\n",
       "    <tr>\n",
       "      <th>3</th>\n",
       "      <td>ERC</td>\n",
       "      <td>-0.008341</td>\n",
       "      <td>0.000474</td>\n",
       "      <td>0.021772</td>\n",
       "      <td>-0.517870</td>\n",
       "    </tr>\n",
       "    <tr>\n",
       "      <th>4</th>\n",
       "      <td>Market portfolio</td>\n",
       "      <td>-0.016005</td>\n",
       "      <td>0.000819</td>\n",
       "      <td>0.028615</td>\n",
       "      <td>-0.661860</td>\n",
       "    </tr>\n",
       "  </tbody>\n",
       "</table>\n",
       "</div>"
      ],
      "text/plain": [
       "          Portfilio  return (monthly)  ...  std (monthly)  Sharpe ratio\n",
       "0               MVO          0.215702  ...       0.084149      2.528462\n",
       "1    Robust MVO 95%         -0.009918  ...       0.035323     -0.363844\n",
       "2    Robust MVO 90%         -0.007618  ...       0.036306     -0.290648\n",
       "3               ERC         -0.008341  ...       0.021772     -0.517870\n",
       "4  Market portfolio         -0.016005  ...       0.028615     -0.661860\n",
       "\n",
       "[5 rows x 5 columns]"
      ]
     },
     "execution_count": 25,
     "metadata": {
      "tags": []
     },
     "output_type": "execute_result"
    }
   ],
   "source": [
    "#set weights of the four portfolios as arries\n",
    "x_mvo = MVO(Q,mu,lambd_NOV)\n",
    "x_robust_95 = robustMVO(Q, mu, lambd_NOV, 1.96,theta)\n",
    "x_robust_90 = robustMVO(Q,mu, lambd_NOV, 1.645, theta)\n",
    "x_erc = w_erc\n",
    "x_market = np.array(NOV_2008.set_index(['TICKER']).reindex(ticker_symbol)['weight'])\n",
    "\n",
    "return_mvo = monthly_returns_2008.iloc[2] @ x_mvo\n",
    "return_robust_95 = monthly_returns_2008.iloc[2] @ x_robust_95\n",
    "return_robust_90 = monthly_returns_2008.iloc[2] @ x_robust_90\n",
    "return_erc = monthly_returns_2008.iloc[2] @ x_erc\n",
    "return_market = monthly_returns_2008.iloc[2] @ x_market\n",
    "\n",
    "var_mvo = x_mvo@Q@x_mvo\n",
    "var_robust_95 = x_robust_95@Q@x_robust_95\n",
    "var_robust_90 = x_robust_95@Q@x_robust_90\n",
    "var_erc = x_erc@Q@x_erc\n",
    "var_market = x_market@Q@x_market\n",
    "\n",
    "result_NOV_2008 = pd.DataFrame({'Portfilio':['MVO', 'Robust MVO 95%','Robust MVO 90%', 'ERC', 'Market portfolio'], \n",
    "                       'return (monthly)':[return_mvo,return_robust_95,return_robust_90, return_erc,return_market],\n",
    "                       'variance (monthly)':[var_mvo,var_robust_95,var_robust_90,var_erc,var_market],\n",
    "                       'std (monthly)':[np.sqrt(var_mvo),np.sqrt(var_robust_95),np.sqrt(var_robust_90),np.sqrt(var_erc),np.sqrt(var_market)]})\n",
    "\n",
    "result_NOV_2008['Sharpe ratio'] = (result_NOV_2008['return (monthly)']-rf_NOV/12)/result_NOV_2008['std (monthly)']\n",
    "\n",
    "result_NOV_2008"
   ]
  },
  {
   "cell_type": "markdown",
   "metadata": {
    "id": "0uINycQ6rvky"
   },
   "source": [
    "## Plot efficient frontiers for MVO and robust MVO"
   ]
  },
  {
   "cell_type": "code",
   "execution_count": 26,
   "metadata": {
    "colab": {
     "base_uri": "https://localhost:8080/",
     "height": 647
    },
    "id": "8ReZo_ZXr1Y-",
    "outputId": "f1cbf571-31c5-4eb2-e6f2-70bca9f4a05a"
   },
   "outputs": [
    {
     "data": {
      "text/plain": [
       "<matplotlib.legend.Legend at 0x7f82741dea90>"
      ]
     },
     "execution_count": 26,
     "metadata": {
      "tags": []
     },
     "output_type": "execute_result"
    },
    {
     "data": {
      "image/png": "[encoded data removed]",
      "text/plain": [
       "<Figure size 720x720 with 1 Axes>"
      ]
     },
     "metadata": {
      "needs_background": "light",
      "tags": []
     },
     "output_type": "display_data"
    }
   ],
   "source": [
    "ret_MVO=[]\n",
    "ret_MVO_actual=[]\n",
    "ret_MVO_true=[]\n",
    "var_MVO=[]\n",
    "ret_robust_95=[]\n",
    "ret_robust_actual_95=[]\n",
    "var_robust_95=[]\n",
    "ret_robust_90=[]\n",
    "ret_robust_actual_90=[]\n",
    "var_robust_90=[]\n",
    "\n",
    "for lambd_i in np.linspace(1000,20,100):\n",
    "  #calculate estimated portfolio return, actual portfolio return , true return and portfolio variances for MVO\n",
    "  x_MVO=MVO(Q,mu,lambd_i)\n",
    "  ret_MVO.append(mu@x_MVO)\n",
    "  ret_MVO_actual.append(monthly_returns_2008.iloc[1]@x_MVO)\n",
    "  var_MVO.append(x_MVO@Q@x_MVO)\n",
    "  ret_MVO_true.append(((mu+monthly_returns_2008.iloc[1])/2)@x_MVO)\n",
    "  \n",
    "  #calculate estimated portfolio return, actual portfolio return and portfolio variances for 95% confident robust MVO\n",
    "  x_robust = robustMVO(Q,mu,lambd_i, 1.96, theta)\n",
    "  ret_robust_95.append(mu@x_robust)\n",
    "  ret_robust_actual_95.append(monthly_returns_2008.iloc[1]@x_robust)\n",
    "  var_robust_95.append(x_robust@Q@x_robust)\n",
    "\n",
    "  #calculate estimated portfolio return, actual portfolio return and portfolio variances for 90% confident robust MVO\n",
    "  x_robust = robustMVO(Q,mu,lambd_i, 1.645, theta)\n",
    "  ret_robust_90.append(mu@x_robust)\n",
    "  ret_robust_actual_90.append(monthly_returns_2008.iloc[1]@x_robust)\n",
    "  var_robust_90.append(x_robust@Q@x_robust)\n",
    "\n",
    "#Plot\n",
    "from matplotlib import pyplot as plt\n",
    "plt.figure(figsize=(10,10))\n",
    "plt.title(\"Efficient Frontiers\", fontweight = 'bold', fontsize=20)\n",
    "plt.xlabel(\"Risk\", fontweight = 'bold', fontsize=12)\n",
    "plt.ylabel('Expected Return',fontweight = 'bold', fontsize=12)\n",
    "ax = plt.gca()\n",
    "# Plot efficient frontier\n",
    "ax.plot(np.sqrt(var_MVO), ret_MVO, color='Blue', label='estimated MVO frontier')\n",
    "ax.plot(np.sqrt(var_robust_95), ret_robust_95, color='yellow', label='estimated robust MVO frontier 95% confidence')\n",
    "ax.plot(np.sqrt(var_robust_90), ret_robust_90, color='pink', label='estimated robust MVO frontier 90% confidence')\n",
    "ax.plot(np.sqrt(var_MVO), ret_MVO_true, color='black', label='true MVO frontier')\n",
    "ax.plot(np.sqrt(var_MVO), ret_MVO_actual, color='Red', label='actual MVO frontier')\n",
    "ax.plot(np.sqrt(var_robust_95), ret_robust_actual_95, color='green', label='actual robust MVO frontier 95% confidence')\n",
    "ax.plot(np.sqrt(var_robust_90), ret_robust_actual_90, color='purple', label='actual robust MVO frontier 90% confidence')\n",
    "ax.legend()"
   ]
  }
 ],
 "metadata": {
  "colab": {
   "collapsed_sections": [],
   "name": "APS1022 Week2 Project.ipynb",
   "provenance": []
  },
  "kernelspec": {
   "display_name": "Python 3 (ipykernel)",
   "language": "python",
   "name": "python3"
  },
  "language_info": {
   "codemirror_mode": {
    "name": "ipython",
    "version": 3
   },
   "file_extension": ".py",
   "mimetype": "text/x-python",
   "name": "python",
   "nbconvert_exporter": "python",
   "pygments_lexer": "ipython3",
   "version": "3.9.7"
  }
 },
 "nbformat": 4,
 "nbformat_minor": 1
}
