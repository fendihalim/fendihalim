{
 "cells": [
  {
   "cell_type": "markdown",
   "metadata": {
    "id": "Bcl7OtDZQi9h"
   },
   "source": [
    "# MIE 1624 - Assignment 2\n",
    "\n",
    "Name: Fendi Halim Tjoa\n",
    "\n",
    "Student ID: 100753017"
   ]
  },
  {
   "cell_type": "code",
   "execution_count": 1,
   "metadata": {
    "id": "50XVtrnIQi9j"
   },
   "outputs": [],
   "source": [
    "import pandas as pd\n",
    "import numpy as np\n",
    "import matplotlib.pyplot as plt\n",
    "import seaborn as sns\n",
    "import scipy as sp\n",
    "import sklearn as scikit_learn\n",
    "from scipy import stats    \n",
    "import random\n",
    "import statistics\n",
    "import scipy.stats as st\n",
    "from sklearn.model_selection import GridSearchCV, KFold, StratifiedKFold\n",
    "import matplotlib.pyplot as plt\n",
    "from sklearn.metrics import accuracy_score, f1_score\n",
    "from sklearn.metrics import accuracy_score, confusion_matrix, roc_curve, classification_report, plot_confusion_matrix, multilabel_confusion_matrix\n",
    "%matplotlib inline"
   ]
  },
  {
   "cell_type": "code",
   "execution_count": 2,
   "metadata": {
    "id": "w69SbiKwRN7p"
   },
   "outputs": [],
   "source": [
    "orig = pd.read_csv('clean_kaggle_data_2020.csv',low_memory=False) #uploading clean_kaggle_data_2020.csv"
   ]
  },
  {
   "cell_type": "code",
   "execution_count": 3,
   "metadata": {
    "id": "SgY7iCuFQi9l"
   },
   "outputs": [],
   "source": [
    "old_df = orig.copy()"
   ]
  },
  {
   "cell_type": "markdown",
   "metadata": {
    "id": "tGnXnqBtQi9m"
   },
   "source": [
    "# Part 1: Data Cleaning\n",
    "\n",
    "While the data is made ready for analysis, several values are missing, and some features are\n",
    "categorical. Note that some values that appear “null” indicate that a survey respondent did not select\n",
    "that given option from a multiple-choice list. For example – “Which of the following hosted\n",
    "notebook products do you use on a regular basis? (Select all that apply) - Selected Choice - Binder\n",
    "/ JupyterHub”.\n",
    "\n",
    "\n",
    "For the data cleaning step, handle missing values however you see fit and justify your approach.\n",
    "Provide some insight on why you think the values are missing and how your approach might impact the overall analysis. Suggestions include filling the missing values with a certain value (e.g. mode\n",
    "for categorical data) and completely removing the features with missing values. Secondly, convert\n",
    "categorical data into numerical data by encoding and explain why you used this particular encoding\n",
    "method.\n",
    "\n",
    "These tasks can be done interchangeably, e.g., encoding can be done first."
   ]
  },
  {
   "cell_type": "code",
   "execution_count": 4,
   "metadata": {
    "id": "wpf5F05pQi9t"
   },
   "outputs": [],
   "source": [
    "from sklearn import preprocessing\n",
    "from sklearn.preprocessing import LabelEncoder\n",
    "from sklearn.preprocessing import OrdinalEncoder\n",
    "from sklearn.preprocessing import OneHotEncoder\n",
    "from sklearn.model_selection import train_test_split"
   ]
  },
  {
   "cell_type": "markdown",
   "metadata": {
    "id": "gHZvDm-2Qi9t"
   },
   "source": [
    "Cleaning up column names"
   ]
  },
  {
   "cell_type": "code",
   "execution_count": 5,
   "metadata": {
    "id": "C4N3icG7Qi9u"
   },
   "outputs": [],
   "source": [
    "old_df.loc[0]\n",
    "old_df.columns = old_df.columns.str.upper() # Capitalized all column names\n",
    "df = old_df.drop([0]) # Removing first row because it is not a data"
   ]
  },
  {
   "cell_type": "markdown",
   "metadata": {
    "id": "vX4iLcLhQi9u"
   },
   "source": [
    "Split data before pre-processing"
   ]
  },
  {
   "cell_type": "code",
   "execution_count": 6,
   "metadata": {
    "id": "9Brbuf86Qi9u"
   },
   "outputs": [],
   "source": [
    "X=df.drop(['Q24_ENCODED','Q24_BUCKETS'], axis=1) #separate X features\n",
    "y=df[['Q24_ENCODED','Q24_BUCKETS']] #separate y target\n",
    "\n",
    "X_train_d, X_test_d, y_train_d, y_test_d = train_test_split(X,y, test_size=0.3, random_state=0) # splitting data 70% train, 30% test"
   ]
  },
  {
   "cell_type": "code",
   "execution_count": 7,
   "metadata": {
    "colab": {
     "base_uri": "https://localhost:8080/"
    },
    "id": "Ge7Q3G_7cWx2",
    "outputId": "2493b0b4-eaa7-4d64-d357-effbdde42456"
   },
   "outputs": [
    {
     "name": "stdout",
     "output_type": "stream",
     "text": [
      "(10729, 355)\n",
      "(10729, 2)\n",
      "(7510, 355)\n",
      "(3219, 355)\n",
      "(7510, 2)\n",
      "(3219, 2)\n"
     ]
    }
   ],
   "source": [
    "# sanity check on shape\n",
    "print(X.shape)\n",
    "print(y.shape)\n",
    "print(X_train_d.shape)\n",
    "print(X_test_d.shape)\n",
    "print(y_train_d.shape)\n",
    "print(y_test_d.shape)"
   ]
  },
  {
   "cell_type": "markdown",
   "metadata": {
    "id": "SPs4TgkHQi9v"
   },
   "source": [
    "Filling empty values with mode. The reason we use mode is because the values are all categorical."
   ]
  },
  {
   "cell_type": "code",
   "execution_count": 8,
   "metadata": {
    "colab": {
     "base_uri": "https://localhost:8080/"
    },
    "id": "Cg2FirmZQi9v",
    "outputId": "b8f98d04-c005-4395-94b4-dbdde212fa11"
   },
   "outputs": [
    {
     "name": "stderr",
     "output_type": "stream",
     "text": [
      "<ipython-input-8-5259efc81f1b>:6: SettingWithCopyWarning: \n",
      "A value is trying to be set on a copy of a slice from a DataFrame.\n",
      "Try using .loc[row_indexer,col_indexer] = value instead\n",
      "\n",
      "See the caveats in the documentation: https://pandas.pydata.org/pandas-docs/stable/user_guide/indexing.html#returning-a-view-versus-a-copy\n",
      "  X_train_d[i] = X_train_d[i].fillna(X_train_d[i].mode()[0]) #filling empty values with mode of each column\n"
     ]
    }
   ],
   "source": [
    "brokenlist = ['Q1','Q2','Q3','Q4','Q5','Q6','Q8','Q11','Q13','Q15','Q20','Q21',\n",
    "              'Q22','Q24','Q25','Q30','Q32','Q38'] #features that potentially have null values\n",
    "\n",
    "# Filling X_train empty values with mode\n",
    "for i in brokenlist:\n",
    "    X_train_d[i] = X_train_d[i].fillna(X_train_d[i].mode()[0]) #filling empty values with mode of each column"
   ]
  },
  {
   "cell_type": "code",
   "execution_count": 9,
   "metadata": {
    "colab": {
     "base_uri": "https://localhost:8080/"
    },
    "id": "QYcKfw3YQi9v",
    "outputId": "403b394a-4efa-4aaa-ac9d-bc54192151e6"
   },
   "outputs": [
    {
     "name": "stderr",
     "output_type": "stream",
     "text": [
      "<ipython-input-9-70fd84c9d6ac>:3: SettingWithCopyWarning: \n",
      "A value is trying to be set on a copy of a slice from a DataFrame.\n",
      "Try using .loc[row_indexer,col_indexer] = value instead\n",
      "\n",
      "See the caveats in the documentation: https://pandas.pydata.org/pandas-docs/stable/user_guide/indexing.html#returning-a-view-versus-a-copy\n",
      "  X_test_d[i]= X_test_d[i].fillna(X_test_d[i].mode()[0]) #filling empty values with mode of each column\n"
     ]
    }
   ],
   "source": [
    "# Filling X_test empty values with mode\n",
    "for i in brokenlist:\n",
    "    X_test_d[i]= X_test_d[i].fillna(X_test_d[i].mode()[0]) #filling empty values with mode of each column"
   ]
  },
  {
   "cell_type": "code",
   "execution_count": 10,
   "metadata": {
    "id": "x_hIh6sbQi9w"
   },
   "outputs": [],
   "source": [
    "X_train = X_train_d.copy()\n",
    "X_test = X_test_d.copy()\n",
    "y_train = y_train_d.copy()\n",
    "y_test = y_test_d.copy()"
   ]
  },
  {
   "cell_type": "markdown",
   "metadata": {
    "id": "aTn3_Sh-Qi9w"
   },
   "source": [
    "Labeling all features that has \"select all that apply\" with 1 or 0. If there is value in the column, it will be labeled as 1, if it's null, it will be labeled as 0. Columns that have *Selected Choice - None* will not get cleaned and therefore they will have NaN values. The reason why I am leaving those is because drop those columns separately"
   ]
  },
  {
   "cell_type": "code",
   "execution_count": 11,
   "metadata": {
    "id": "_Bl2OYeug8A8"
   },
   "outputs": [],
   "source": [
    "X_test.iloc[:, np.r_[7:17, 19, 21:30, 32, 33:44, 46, 48:49, 51, 53:62, 64, 66:79, 81, 82:91, 93,\n",
    "                     94:98, 100, 101:104, 106, 110:115, 117, 120:129, 131, 132:141, 143, \n",
    "                     144:152, 154, 155:170, 172, 174:186, 188, 190:195, 197, 198:207, 209,\n",
    "                     210:218, 220, 221:228, 290, 231:240, 242, 244:253, 255, 256:265, 267,\n",
    "                     268:277, 279, 280:288, 290, 291:306, 308, 309:321, 323, 324:329, 331,\n",
    "                     332:341, 343, 344:352, 354]] = np.where(X_test_d.iloc[:, np.r_[7:17, 19, 21:30, 32, 33:44, 46, 48:49, 51, 53:62, 64, 66:79, 81, 82:91, 93,\n",
    "                     94:98, 100, 101:104, 106, 110:115, 117, 120:129, 131, 132:141, 143, \n",
    "                     144:152, 154, 155:170, 172, 174:186, 188, 190:195, 197, 198:207, 209,\n",
    "                     210:218, 220, 221:228, 290, 231:240, 242, 244:253, 255, 256:265, 267,\n",
    "                     268:277, 279, 280:288, 290, 291:306, 308, 309:321, 323, 324:329, 331,\n",
    "                     332:341, 343, 344:352, 354]].isnull(),0,1)\n",
    "\n",
    "X_train.iloc[:, np.r_[7:17, 19, 21:30, 32, 33:44, 46, 48:49, 51, 53:62, 64, 66:79, 81, 82:91, 93,\n",
    "                     94:98, 100, 101:104, 106, 110:115, 117, 120:129, 131, 132:141, 143, \n",
    "                     144:152, 154, 155:170, 172, 174:186, 188, 190:195, 197, 198:207, 209,\n",
    "                     210:218, 220, 221:228, 290, 231:240, 242, 244:253, 255, 256:265, 267,\n",
    "                     268:277, 279, 280:288, 290, 291:306, 308, 309:321, 323, 324:329, 331,\n",
    "                     332:341, 343, 344:352, 354]] = np.where(X_train_d.iloc[:, np.r_[7:17, 19, 21:30, 32, 33:44, 46, 48:49, 51, 53:62, 64, 66:79, 81, 82:91, 93,\n",
    "                     94:98, 100, 101:104, 106, 110:115, 117, 120:129, 131, 132:141, 143, \n",
    "                     144:152, 154, 155:170, 172, 174:186, 188, 190:195, 197, 198:207, 209,\n",
    "                     210:218, 220, 221:228, 290, 231:240, 242, 244:253, 255, 256:265, 267,\n",
    "                     268:277, 279, 280:288, 290, 291:306, 308, 309:321, 323, 324:329, 331,\n",
    "                     332:341, 343, 344:352, 354]].isnull(),0,1)"
   ]
  },
  {
   "cell_type": "markdown",
   "metadata": {
    "id": "L51YXmPl_2Ai"
   },
   "source": [
    "Dropping columns that has *Selected Choice - None*"
   ]
  },
  {
   "cell_type": "code",
   "execution_count": 12,
   "metadata": {
    "id": "05mK7ieSiWiP"
   },
   "outputs": [],
   "source": [
    "X_train_dropped = X_train.dropna(axis = 'columns')\n",
    "X_test_dropped = X_test.dropna(axis = 'columns')"
   ]
  },
  {
   "cell_type": "code",
   "execution_count": 13,
   "metadata": {
    "colab": {
     "base_uri": "https://localhost:8080/"
    },
    "id": "h6Mktjnac6Il",
    "outputId": "f20e00af-2e09-4003-eda6-730f739eacdc"
   },
   "outputs": [
    {
     "name": "stdout",
     "output_type": "stream",
     "text": [
      "(7510, 355)\n",
      "(3219, 355)\n",
      "(7510, 296)\n",
      "(3219, 296)\n"
     ]
    }
   ],
   "source": [
    "# sanity check on shape\n",
    "print(X_train.shape)\n",
    "print(X_test.shape)\n",
    "print(X_train_dropped.shape)\n",
    "print(X_test_dropped.shape)"
   ]
  },
  {
   "cell_type": "markdown",
   "metadata": {
    "id": "sm3mlEPoQi9x"
   },
   "source": [
    "## Encoding"
   ]
  },
  {
   "cell_type": "code",
   "execution_count": 14,
   "metadata": {
    "id": "PlWouw6NQi9x"
   },
   "outputs": [],
   "source": [
    "nom_list = ['Q2','Q3','Q5','Q8','Q11','Q30','Q32','Q38'] # list of nominal categories. \n",
    "ord_list = ['Q1','Q4','Q6','Q13','Q15','Q20','Q21','Q22','Q25'] # list of ordinal categories. #Q24 is not listed in there because it is not a predictor"
   ]
  },
  {
   "cell_type": "markdown",
   "metadata": {
    "id": "vH_RXlRDAmys"
   },
   "source": [
    "X_test.Q32 does not have Sisense value. We will have to create a dummy column containing Sisense for X_test in order to make the Train and Test data consistent"
   ]
  },
  {
   "cell_type": "code",
   "execution_count": 15,
   "metadata": {
    "id": "TL-QauM01G1m"
   },
   "outputs": [],
   "source": [
    "d = pd.DataFrame(0, index=np.arange(len(X_test_dropped)), columns=['Q2_Sisense'])"
   ]
  },
  {
   "cell_type": "markdown",
   "metadata": {
    "id": "ctEvsqB1kG6O"
   },
   "source": [
    "Encoding Ordinal Categorical Data (categorical variables with a natural implied order but the scale of difference is not defined)"
   ]
  },
  {
   "cell_type": "code",
   "execution_count": 16,
   "metadata": {
    "id": "sr3WsgoSV3tT"
   },
   "outputs": [],
   "source": [
    "# Ordering the ordinal categories\n",
    "q1o = ['18-21','22-24','25-29','30-34','35-39','40-44','45-49','50-54','55-59','60-69','70+']\n",
    "q4o = ['I prefer not to answer','No formal education past high school','Some college/university study without earning a bachelor’s degree',\n",
    "        'Professional degree','Bachelor’s degree','Master’s degree','Doctoral degree']\n",
    "q6o = ['I have never written code','< 1 years','1-2 years','3-5 years','5-10 years','10-20 years','20+ years']\n",
    "q13o = ['Never','Once','2-5 times','6-25 times','More than 25 times']\n",
    "q15o = ['I do not use machine learning methods','Under 1 year','1-2 years','2-3 years','3-4 years','4-5 years','5-10 years','10-20 years','20 or more years']\n",
    "q20o = ['0-49 employees','50-249 employees','250-999 employees','1000-9,999 employees','10,000 or more employees']\n",
    "q21o = ['0','1-2','3-4','5-9','10-14','15-19','20+']\n",
    "q22o = ['No (we do not use ML methods)',\n",
    "        'I do not know',\n",
    "        'We are exploring ML methods (and may one day put a model into production)',\n",
    "       'We use ML methods for generating insights (but do not put working models into production)',\n",
    "        'We recently started using ML methods (i.e., models in production for less than 2 years)',\n",
    "       'We have well established ML methods (i.e., models in production for more than 2 years)']\n",
    "q25o = ['$0 ($USD)','$1-$99','$100-$999','$1000-$9,999','$10,000-$99,999','$100,000 or more ($USD)']"
   ]
  },
  {
   "cell_type": "code",
   "execution_count": 17,
   "metadata": {
    "id": "-lV_ES4uh_9_"
   },
   "outputs": [],
   "source": [
    "#ordinal train\n",
    "oe = OrdinalEncoder(categories=[q1o,q4o,q6o,q13o,q15o,q20o,q21o,q22o,q25o])\n",
    "ord_encoded_train = oe.fit_transform(X_train_dropped[ord_list])\n",
    "\n",
    "ord_feature_encoded_train = pd.DataFrame(ord_encoded_train, \n",
    "                           columns= ord_list)"
   ]
  },
  {
   "cell_type": "code",
   "execution_count": 18,
   "metadata": {
    "id": "j60hq-l_kK5y"
   },
   "outputs": [],
   "source": [
    "#ordinal test\n",
    "oe = OrdinalEncoder(categories=[q1o,q4o,q6o,q13o,q15o,q20o,q21o,q22o,q25o])\n",
    "ord_encoded_test = oe.fit_transform(X_test_dropped[ord_list])\n",
    "\n",
    "ord_feature_encoded_test = pd.DataFrame(ord_encoded_test, \n",
    "                           columns= ord_list)"
   ]
  },
  {
   "cell_type": "markdown",
   "metadata": {
    "id": "4RX5KEUWkLg1"
   },
   "source": [
    "Encoding Nominal Categorical Data (categorical variables without implied order)"
   ]
  },
  {
   "cell_type": "code",
   "execution_count": 19,
   "metadata": {
    "id": "noaHJLzEnNXK"
   },
   "outputs": [],
   "source": [
    "#nominal train\n",
    "ohe = OneHotEncoder()\n",
    "nom_encoded_train = ohe.fit_transform(X_train_dropped[nom_list]).toarray()\n",
    "nom_feature_encoded_train = pd.DataFrame(nom_encoded_train, \n",
    "                           columns= ohe.get_feature_names(nom_list))"
   ]
  },
  {
   "cell_type": "code",
   "execution_count": 20,
   "metadata": {
    "id": "ZfpkzT3anjOG"
   },
   "outputs": [],
   "source": [
    "#nominal test\n",
    "ohe = OneHotEncoder()\n",
    "nom_encoded_test = ohe.fit_transform(X_test_dropped[nom_list]).toarray()\n",
    "nom_feature_encoded_test = pd.DataFrame(nom_encoded_test, \n",
    "                           columns= ohe.get_feature_names(nom_list))"
   ]
  },
  {
   "cell_type": "code",
   "execution_count": 21,
   "metadata": {
    "colab": {
     "base_uri": "https://localhost:8080/"
    },
    "id": "zdeECki0pyVx",
    "outputId": "f73698cc-aebb-4acf-947d-de66ef17ca5f"
   },
   "outputs": [
    {
     "name": "stdout",
     "output_type": "stream",
     "text": [
      "(7510, 9)\n",
      "(7510, 126)\n",
      "(3219, 9)\n",
      "(3219, 125)\n"
     ]
    }
   ],
   "source": [
    "# sanity check shape\n",
    "print(ord_feature_encoded_train.shape)\n",
    "print(nom_feature_encoded_train.shape)\n",
    "print(ord_feature_encoded_test.shape)\n",
    "print(nom_feature_encoded_test.shape)"
   ]
  },
  {
   "cell_type": "code",
   "execution_count": 22,
   "metadata": {
    "id": "6LhpU72NqWP1"
   },
   "outputs": [],
   "source": [
    "# list of select all apply for training data\n",
    "select_all_apply_train = X_train.iloc[:, np.r_[7:17, 19, 21:30, 32, 33:44, 46, 48:49, 51, 53:62, 64, 66:79, 81, 82:91, 93,\n",
    "                     94:98, 100, 101:104, 106, 110:115, 117, 120:129, 131, 132:141, 143, \n",
    "                     144:152, 154, 155:170, 172, 174:186, 188, 190:195, 197, 198:207, 209,\n",
    "                     210:218, 220, 221:228, 290, 231:240, 242, 244:253, 255, 256:265, 267,\n",
    "                     268:277, 279, 280:288, 290, 291:306, 308, 309:321, 323, 324:329, 331,\n",
    "                     332:341, 343, 344:352, 354]]\n",
    "select_all_apply_train.reset_index(drop=True, inplace=True) #reset index number\n",
    "\n",
    "# list of select all apply for testing data\n",
    "select_all_apply_test = X_test.iloc[:, np.r_[7:17, 19, 21:30, 32, 33:44, 46, 48:49, 51, 53:62, 64, 66:79, 81, 82:91, 93,\n",
    "                     94:98, 100, 101:104, 106, 110:115, 117, 120:129, 131, 132:141, 143, \n",
    "                     144:152, 154, 155:170, 172, 174:186, 188, 190:195, 197, 198:207, 209,\n",
    "                     210:218, 220, 221:228, 290, 231:240, 242, 244:253, 255, 256:265, 267,\n",
    "                     268:277, 279, 280:288, 290, 291:306, 308, 309:321, 323, 324:329, 331,\n",
    "                     332:341, 343, 344:352, 354]]\n",
    "select_all_apply_test.reset_index(drop=True, inplace=True) #reset index number"
   ]
  },
  {
   "cell_type": "markdown",
   "metadata": {
    "id": "yQWYFeqBsKKZ"
   },
   "source": [
    "Combine all the encodings. Now the X train and X test are free from categorical data"
   ]
  },
  {
   "cell_type": "code",
   "execution_count": 23,
   "metadata": {
    "colab": {
     "base_uri": "https://localhost:8080/"
    },
    "id": "LwjI3xpnnr5V",
    "outputId": "10b8d8de-e2c7-4474-abea-956930e84660"
   },
   "outputs": [
    {
     "name": "stdout",
     "output_type": "stream",
     "text": [
      "(7510, 413)\n",
      "(3219, 413)\n"
     ]
    }
   ],
   "source": [
    "X_train_clean = pd.concat([ord_feature_encoded_train,nom_feature_encoded_train,select_all_apply_train],axis = 1) \n",
    "X_test_clean = pd.concat([ord_feature_encoded_test, nom_feature_encoded_test,select_all_apply_test,d],axis=1)\n",
    "X_train_clean.columns = X_train_clean.columns.str.upper() #capitalized column names\n",
    "X_test_clean.columns = X_test_clean.columns.str.upper() #capitalized column names\n",
    "\n",
    "print(X_train_clean.shape) # check shape\n",
    "print(X_test_clean.shape) # check shape"
   ]
  },
  {
   "cell_type": "code",
   "execution_count": 24,
   "metadata": {
    "colab": {
     "base_uri": "https://localhost:8080/",
     "height": 479
    },
    "id": "fpbi01__oMgM",
    "outputId": "29ef6bab-f684-4395-90d7-e6870a63fff9"
   },
   "outputs": [
    {
     "data": {
      "text/html": [
       "<div>\n",
       "<style scoped>\n",
       "    .dataframe tbody tr th:only-of-type {\n",
       "        vertical-align: middle;\n",
       "    }\n",
       "\n",
       "    .dataframe tbody tr th {\n",
       "        vertical-align: top;\n",
       "    }\n",
       "\n",
       "    .dataframe thead th {\n",
       "        text-align: right;\n",
       "    }\n",
       "</style>\n",
       "<table border=\"1\" class=\"dataframe\">\n",
       "  <thead>\n",
       "    <tr style=\"text-align: right;\">\n",
       "      <th></th>\n",
       "      <th>Q1</th>\n",
       "      <th>Q4</th>\n",
       "      <th>Q6</th>\n",
       "      <th>Q13</th>\n",
       "      <th>Q15</th>\n",
       "      <th>Q20</th>\n",
       "      <th>Q21</th>\n",
       "      <th>Q22</th>\n",
       "      <th>Q25</th>\n",
       "      <th>Q2_MAN</th>\n",
       "      <th>...</th>\n",
       "      <th>Q34_B_OTHER</th>\n",
       "      <th>Q35_B_PART_1</th>\n",
       "      <th>Q35_B_PART_2</th>\n",
       "      <th>Q35_B_PART_3</th>\n",
       "      <th>Q35_B_PART_4</th>\n",
       "      <th>Q35_B_PART_5</th>\n",
       "      <th>Q35_B_PART_6</th>\n",
       "      <th>Q35_B_PART_7</th>\n",
       "      <th>Q35_B_PART_8</th>\n",
       "      <th>Q35_B_OTHER</th>\n",
       "    </tr>\n",
       "  </thead>\n",
       "  <tbody>\n",
       "    <tr>\n",
       "      <th>0</th>\n",
       "      <td>4.0</td>\n",
       "      <td>5.0</td>\n",
       "      <td>1.0</td>\n",
       "      <td>0.0</td>\n",
       "      <td>1.0</td>\n",
       "      <td>2.0</td>\n",
       "      <td>0.0</td>\n",
       "      <td>0.0</td>\n",
       "      <td>0.0</td>\n",
       "      <td>1.0</td>\n",
       "      <td>...</td>\n",
       "      <td>0</td>\n",
       "      <td>0</td>\n",
       "      <td>0</td>\n",
       "      <td>0</td>\n",
       "      <td>0</td>\n",
       "      <td>0</td>\n",
       "      <td>0</td>\n",
       "      <td>0</td>\n",
       "      <td>0</td>\n",
       "      <td>0</td>\n",
       "    </tr>\n",
       "    <tr>\n",
       "      <th>1</th>\n",
       "      <td>4.0</td>\n",
       "      <td>4.0</td>\n",
       "      <td>5.0</td>\n",
       "      <td>2.0</td>\n",
       "      <td>2.0</td>\n",
       "      <td>3.0</td>\n",
       "      <td>2.0</td>\n",
       "      <td>4.0</td>\n",
       "      <td>2.0</td>\n",
       "      <td>1.0</td>\n",
       "      <td>...</td>\n",
       "      <td>0</td>\n",
       "      <td>0</td>\n",
       "      <td>0</td>\n",
       "      <td>0</td>\n",
       "      <td>0</td>\n",
       "      <td>0</td>\n",
       "      <td>0</td>\n",
       "      <td>0</td>\n",
       "      <td>0</td>\n",
       "      <td>0</td>\n",
       "    </tr>\n",
       "    <tr>\n",
       "      <th>2</th>\n",
       "      <td>9.0</td>\n",
       "      <td>5.0</td>\n",
       "      <td>6.0</td>\n",
       "      <td>1.0</td>\n",
       "      <td>3.0</td>\n",
       "      <td>0.0</td>\n",
       "      <td>1.0</td>\n",
       "      <td>2.0</td>\n",
       "      <td>3.0</td>\n",
       "      <td>0.0</td>\n",
       "      <td>...</td>\n",
       "      <td>0</td>\n",
       "      <td>0</td>\n",
       "      <td>0</td>\n",
       "      <td>0</td>\n",
       "      <td>0</td>\n",
       "      <td>0</td>\n",
       "      <td>0</td>\n",
       "      <td>0</td>\n",
       "      <td>0</td>\n",
       "      <td>0</td>\n",
       "    </tr>\n",
       "    <tr>\n",
       "      <th>3</th>\n",
       "      <td>1.0</td>\n",
       "      <td>5.0</td>\n",
       "      <td>1.0</td>\n",
       "      <td>2.0</td>\n",
       "      <td>1.0</td>\n",
       "      <td>0.0</td>\n",
       "      <td>1.0</td>\n",
       "      <td>4.0</td>\n",
       "      <td>1.0</td>\n",
       "      <td>0.0</td>\n",
       "      <td>...</td>\n",
       "      <td>0</td>\n",
       "      <td>0</td>\n",
       "      <td>0</td>\n",
       "      <td>0</td>\n",
       "      <td>0</td>\n",
       "      <td>0</td>\n",
       "      <td>0</td>\n",
       "      <td>0</td>\n",
       "      <td>0</td>\n",
       "      <td>0</td>\n",
       "    </tr>\n",
       "    <tr>\n",
       "      <th>4</th>\n",
       "      <td>2.0</td>\n",
       "      <td>4.0</td>\n",
       "      <td>1.0</td>\n",
       "      <td>1.0</td>\n",
       "      <td>1.0</td>\n",
       "      <td>4.0</td>\n",
       "      <td>6.0</td>\n",
       "      <td>5.0</td>\n",
       "      <td>2.0</td>\n",
       "      <td>1.0</td>\n",
       "      <td>...</td>\n",
       "      <td>0</td>\n",
       "      <td>0</td>\n",
       "      <td>0</td>\n",
       "      <td>0</td>\n",
       "      <td>0</td>\n",
       "      <td>0</td>\n",
       "      <td>0</td>\n",
       "      <td>0</td>\n",
       "      <td>0</td>\n",
       "      <td>0</td>\n",
       "    </tr>\n",
       "    <tr>\n",
       "      <th>...</th>\n",
       "      <td>...</td>\n",
       "      <td>...</td>\n",
       "      <td>...</td>\n",
       "      <td>...</td>\n",
       "      <td>...</td>\n",
       "      <td>...</td>\n",
       "      <td>...</td>\n",
       "      <td>...</td>\n",
       "      <td>...</td>\n",
       "      <td>...</td>\n",
       "      <td>...</td>\n",
       "      <td>...</td>\n",
       "      <td>...</td>\n",
       "      <td>...</td>\n",
       "      <td>...</td>\n",
       "      <td>...</td>\n",
       "      <td>...</td>\n",
       "      <td>...</td>\n",
       "      <td>...</td>\n",
       "      <td>...</td>\n",
       "      <td>...</td>\n",
       "    </tr>\n",
       "    <tr>\n",
       "      <th>7505</th>\n",
       "      <td>5.0</td>\n",
       "      <td>5.0</td>\n",
       "      <td>1.0</td>\n",
       "      <td>0.0</td>\n",
       "      <td>1.0</td>\n",
       "      <td>4.0</td>\n",
       "      <td>6.0</td>\n",
       "      <td>1.0</td>\n",
       "      <td>4.0</td>\n",
       "      <td>1.0</td>\n",
       "      <td>...</td>\n",
       "      <td>0</td>\n",
       "      <td>0</td>\n",
       "      <td>0</td>\n",
       "      <td>0</td>\n",
       "      <td>0</td>\n",
       "      <td>0</td>\n",
       "      <td>0</td>\n",
       "      <td>0</td>\n",
       "      <td>0</td>\n",
       "      <td>0</td>\n",
       "    </tr>\n",
       "    <tr>\n",
       "      <th>7506</th>\n",
       "      <td>3.0</td>\n",
       "      <td>6.0</td>\n",
       "      <td>3.0</td>\n",
       "      <td>1.0</td>\n",
       "      <td>4.0</td>\n",
       "      <td>0.0</td>\n",
       "      <td>1.0</td>\n",
       "      <td>3.0</td>\n",
       "      <td>0.0</td>\n",
       "      <td>1.0</td>\n",
       "      <td>...</td>\n",
       "      <td>0</td>\n",
       "      <td>0</td>\n",
       "      <td>0</td>\n",
       "      <td>0</td>\n",
       "      <td>0</td>\n",
       "      <td>1</td>\n",
       "      <td>0</td>\n",
       "      <td>0</td>\n",
       "      <td>0</td>\n",
       "      <td>0</td>\n",
       "    </tr>\n",
       "    <tr>\n",
       "      <th>7507</th>\n",
       "      <td>2.0</td>\n",
       "      <td>4.0</td>\n",
       "      <td>2.0</td>\n",
       "      <td>0.0</td>\n",
       "      <td>1.0</td>\n",
       "      <td>1.0</td>\n",
       "      <td>2.0</td>\n",
       "      <td>2.0</td>\n",
       "      <td>0.0</td>\n",
       "      <td>1.0</td>\n",
       "      <td>...</td>\n",
       "      <td>0</td>\n",
       "      <td>1</td>\n",
       "      <td>1</td>\n",
       "      <td>1</td>\n",
       "      <td>1</td>\n",
       "      <td>1</td>\n",
       "      <td>1</td>\n",
       "      <td>1</td>\n",
       "      <td>1</td>\n",
       "      <td>0</td>\n",
       "    </tr>\n",
       "    <tr>\n",
       "      <th>7508</th>\n",
       "      <td>3.0</td>\n",
       "      <td>5.0</td>\n",
       "      <td>1.0</td>\n",
       "      <td>2.0</td>\n",
       "      <td>1.0</td>\n",
       "      <td>0.0</td>\n",
       "      <td>1.0</td>\n",
       "      <td>2.0</td>\n",
       "      <td>2.0</td>\n",
       "      <td>1.0</td>\n",
       "      <td>...</td>\n",
       "      <td>0</td>\n",
       "      <td>0</td>\n",
       "      <td>0</td>\n",
       "      <td>0</td>\n",
       "      <td>0</td>\n",
       "      <td>0</td>\n",
       "      <td>0</td>\n",
       "      <td>0</td>\n",
       "      <td>0</td>\n",
       "      <td>0</td>\n",
       "    </tr>\n",
       "    <tr>\n",
       "      <th>7509</th>\n",
       "      <td>2.0</td>\n",
       "      <td>4.0</td>\n",
       "      <td>3.0</td>\n",
       "      <td>0.0</td>\n",
       "      <td>3.0</td>\n",
       "      <td>4.0</td>\n",
       "      <td>3.0</td>\n",
       "      <td>4.0</td>\n",
       "      <td>3.0</td>\n",
       "      <td>1.0</td>\n",
       "      <td>...</td>\n",
       "      <td>0</td>\n",
       "      <td>0</td>\n",
       "      <td>0</td>\n",
       "      <td>0</td>\n",
       "      <td>0</td>\n",
       "      <td>0</td>\n",
       "      <td>0</td>\n",
       "      <td>0</td>\n",
       "      <td>0</td>\n",
       "      <td>0</td>\n",
       "    </tr>\n",
       "  </tbody>\n",
       "</table>\n",
       "<p>7510 rows × 413 columns</p>\n",
       "</div>"
      ],
      "text/plain": [
       "       Q1   Q4   Q6  Q13  Q15  Q20  Q21  Q22  Q25  Q2_MAN  ...  Q34_B_OTHER  \\\n",
       "0     4.0  5.0  1.0  0.0  1.0  2.0  0.0  0.0  0.0     1.0  ...            0   \n",
       "1     4.0  4.0  5.0  2.0  2.0  3.0  2.0  4.0  2.0     1.0  ...            0   \n",
       "2     9.0  5.0  6.0  1.0  3.0  0.0  1.0  2.0  3.0     0.0  ...            0   \n",
       "3     1.0  5.0  1.0  2.0  1.0  0.0  1.0  4.0  1.0     0.0  ...            0   \n",
       "4     2.0  4.0  1.0  1.0  1.0  4.0  6.0  5.0  2.0     1.0  ...            0   \n",
       "...   ...  ...  ...  ...  ...  ...  ...  ...  ...     ...  ...          ...   \n",
       "7505  5.0  5.0  1.0  0.0  1.0  4.0  6.0  1.0  4.0     1.0  ...            0   \n",
       "7506  3.0  6.0  3.0  1.0  4.0  0.0  1.0  3.0  0.0     1.0  ...            0   \n",
       "7507  2.0  4.0  2.0  0.0  1.0  1.0  2.0  2.0  0.0     1.0  ...            0   \n",
       "7508  3.0  5.0  1.0  2.0  1.0  0.0  1.0  2.0  2.0     1.0  ...            0   \n",
       "7509  2.0  4.0  3.0  0.0  3.0  4.0  3.0  4.0  3.0     1.0  ...            0   \n",
       "\n",
       "      Q35_B_PART_1  Q35_B_PART_2  Q35_B_PART_3  Q35_B_PART_4  Q35_B_PART_5  \\\n",
       "0                0             0             0             0             0   \n",
       "1                0             0             0             0             0   \n",
       "2                0             0             0             0             0   \n",
       "3                0             0             0             0             0   \n",
       "4                0             0             0             0             0   \n",
       "...            ...           ...           ...           ...           ...   \n",
       "7505             0             0             0             0             0   \n",
       "7506             0             0             0             0             1   \n",
       "7507             1             1             1             1             1   \n",
       "7508             0             0             0             0             0   \n",
       "7509             0             0             0             0             0   \n",
       "\n",
       "      Q35_B_PART_6  Q35_B_PART_7  Q35_B_PART_8  Q35_B_OTHER  \n",
       "0                0             0             0            0  \n",
       "1                0             0             0            0  \n",
       "2                0             0             0            0  \n",
       "3                0             0             0            0  \n",
       "4                0             0             0            0  \n",
       "...            ...           ...           ...          ...  \n",
       "7505             0             0             0            0  \n",
       "7506             0             0             0            0  \n",
       "7507             1             1             1            0  \n",
       "7508             0             0             0            0  \n",
       "7509             0             0             0            0  \n",
       "\n",
       "[7510 rows x 413 columns]"
      ]
     },
     "execution_count": 24,
     "metadata": {},
     "output_type": "execute_result"
    }
   ],
   "source": [
    "X_train_clean # clean train dataset"
   ]
  },
  {
   "cell_type": "code",
   "execution_count": 25,
   "metadata": {
    "colab": {
     "base_uri": "https://localhost:8080/",
     "height": 479
    },
    "id": "WmGDEU5BDX7b",
    "outputId": "e322cb6f-c4bf-4db4-b9e8-60ae6ef1d040"
   },
   "outputs": [
    {
     "data": {
      "text/html": [
       "<div>\n",
       "<style scoped>\n",
       "    .dataframe tbody tr th:only-of-type {\n",
       "        vertical-align: middle;\n",
       "    }\n",
       "\n",
       "    .dataframe tbody tr th {\n",
       "        vertical-align: top;\n",
       "    }\n",
       "\n",
       "    .dataframe thead th {\n",
       "        text-align: right;\n",
       "    }\n",
       "</style>\n",
       "<table border=\"1\" class=\"dataframe\">\n",
       "  <thead>\n",
       "    <tr style=\"text-align: right;\">\n",
       "      <th></th>\n",
       "      <th>Q1</th>\n",
       "      <th>Q4</th>\n",
       "      <th>Q6</th>\n",
       "      <th>Q13</th>\n",
       "      <th>Q15</th>\n",
       "      <th>Q20</th>\n",
       "      <th>Q21</th>\n",
       "      <th>Q22</th>\n",
       "      <th>Q25</th>\n",
       "      <th>Q2_MAN</th>\n",
       "      <th>...</th>\n",
       "      <th>Q35_B_PART_1</th>\n",
       "      <th>Q35_B_PART_2</th>\n",
       "      <th>Q35_B_PART_3</th>\n",
       "      <th>Q35_B_PART_4</th>\n",
       "      <th>Q35_B_PART_5</th>\n",
       "      <th>Q35_B_PART_6</th>\n",
       "      <th>Q35_B_PART_7</th>\n",
       "      <th>Q35_B_PART_8</th>\n",
       "      <th>Q35_B_OTHER</th>\n",
       "      <th>Q2_SISENSE</th>\n",
       "    </tr>\n",
       "  </thead>\n",
       "  <tbody>\n",
       "    <tr>\n",
       "      <th>0</th>\n",
       "      <td>4.0</td>\n",
       "      <td>5.0</td>\n",
       "      <td>0.0</td>\n",
       "      <td>0.0</td>\n",
       "      <td>1.0</td>\n",
       "      <td>4.0</td>\n",
       "      <td>6.0</td>\n",
       "      <td>4.0</td>\n",
       "      <td>3.0</td>\n",
       "      <td>0.0</td>\n",
       "      <td>...</td>\n",
       "      <td>1</td>\n",
       "      <td>0</td>\n",
       "      <td>0</td>\n",
       "      <td>0</td>\n",
       "      <td>0</td>\n",
       "      <td>0</td>\n",
       "      <td>0</td>\n",
       "      <td>0</td>\n",
       "      <td>0</td>\n",
       "      <td>0</td>\n",
       "    </tr>\n",
       "    <tr>\n",
       "      <th>1</th>\n",
       "      <td>7.0</td>\n",
       "      <td>2.0</td>\n",
       "      <td>0.0</td>\n",
       "      <td>0.0</td>\n",
       "      <td>1.0</td>\n",
       "      <td>0.0</td>\n",
       "      <td>0.0</td>\n",
       "      <td>2.0</td>\n",
       "      <td>0.0</td>\n",
       "      <td>1.0</td>\n",
       "      <td>...</td>\n",
       "      <td>1</td>\n",
       "      <td>0</td>\n",
       "      <td>0</td>\n",
       "      <td>0</td>\n",
       "      <td>0</td>\n",
       "      <td>0</td>\n",
       "      <td>0</td>\n",
       "      <td>0</td>\n",
       "      <td>0</td>\n",
       "      <td>0</td>\n",
       "    </tr>\n",
       "    <tr>\n",
       "      <th>2</th>\n",
       "      <td>2.0</td>\n",
       "      <td>5.0</td>\n",
       "      <td>3.0</td>\n",
       "      <td>0.0</td>\n",
       "      <td>3.0</td>\n",
       "      <td>0.0</td>\n",
       "      <td>1.0</td>\n",
       "      <td>2.0</td>\n",
       "      <td>0.0</td>\n",
       "      <td>1.0</td>\n",
       "      <td>...</td>\n",
       "      <td>0</td>\n",
       "      <td>0</td>\n",
       "      <td>0</td>\n",
       "      <td>0</td>\n",
       "      <td>0</td>\n",
       "      <td>0</td>\n",
       "      <td>0</td>\n",
       "      <td>0</td>\n",
       "      <td>0</td>\n",
       "      <td>0</td>\n",
       "    </tr>\n",
       "    <tr>\n",
       "      <th>3</th>\n",
       "      <td>4.0</td>\n",
       "      <td>5.0</td>\n",
       "      <td>4.0</td>\n",
       "      <td>0.0</td>\n",
       "      <td>4.0</td>\n",
       "      <td>2.0</td>\n",
       "      <td>4.0</td>\n",
       "      <td>2.0</td>\n",
       "      <td>5.0</td>\n",
       "      <td>1.0</td>\n",
       "      <td>...</td>\n",
       "      <td>0</td>\n",
       "      <td>0</td>\n",
       "      <td>0</td>\n",
       "      <td>0</td>\n",
       "      <td>0</td>\n",
       "      <td>0</td>\n",
       "      <td>0</td>\n",
       "      <td>0</td>\n",
       "      <td>0</td>\n",
       "      <td>0</td>\n",
       "    </tr>\n",
       "    <tr>\n",
       "      <th>4</th>\n",
       "      <td>0.0</td>\n",
       "      <td>4.0</td>\n",
       "      <td>2.0</td>\n",
       "      <td>1.0</td>\n",
       "      <td>1.0</td>\n",
       "      <td>0.0</td>\n",
       "      <td>1.0</td>\n",
       "      <td>2.0</td>\n",
       "      <td>1.0</td>\n",
       "      <td>1.0</td>\n",
       "      <td>...</td>\n",
       "      <td>0</td>\n",
       "      <td>0</td>\n",
       "      <td>0</td>\n",
       "      <td>0</td>\n",
       "      <td>0</td>\n",
       "      <td>0</td>\n",
       "      <td>0</td>\n",
       "      <td>0</td>\n",
       "      <td>0</td>\n",
       "      <td>0</td>\n",
       "    </tr>\n",
       "    <tr>\n",
       "      <th>...</th>\n",
       "      <td>...</td>\n",
       "      <td>...</td>\n",
       "      <td>...</td>\n",
       "      <td>...</td>\n",
       "      <td>...</td>\n",
       "      <td>...</td>\n",
       "      <td>...</td>\n",
       "      <td>...</td>\n",
       "      <td>...</td>\n",
       "      <td>...</td>\n",
       "      <td>...</td>\n",
       "      <td>...</td>\n",
       "      <td>...</td>\n",
       "      <td>...</td>\n",
       "      <td>...</td>\n",
       "      <td>...</td>\n",
       "      <td>...</td>\n",
       "      <td>...</td>\n",
       "      <td>...</td>\n",
       "      <td>...</td>\n",
       "      <td>...</td>\n",
       "    </tr>\n",
       "    <tr>\n",
       "      <th>3214</th>\n",
       "      <td>6.0</td>\n",
       "      <td>6.0</td>\n",
       "      <td>4.0</td>\n",
       "      <td>0.0</td>\n",
       "      <td>2.0</td>\n",
       "      <td>4.0</td>\n",
       "      <td>6.0</td>\n",
       "      <td>1.0</td>\n",
       "      <td>3.0</td>\n",
       "      <td>1.0</td>\n",
       "      <td>...</td>\n",
       "      <td>0</td>\n",
       "      <td>0</td>\n",
       "      <td>0</td>\n",
       "      <td>0</td>\n",
       "      <td>0</td>\n",
       "      <td>0</td>\n",
       "      <td>0</td>\n",
       "      <td>0</td>\n",
       "      <td>0</td>\n",
       "      <td>0</td>\n",
       "    </tr>\n",
       "    <tr>\n",
       "      <th>3215</th>\n",
       "      <td>5.0</td>\n",
       "      <td>2.0</td>\n",
       "      <td>1.0</td>\n",
       "      <td>0.0</td>\n",
       "      <td>0.0</td>\n",
       "      <td>4.0</td>\n",
       "      <td>0.0</td>\n",
       "      <td>0.0</td>\n",
       "      <td>0.0</td>\n",
       "      <td>1.0</td>\n",
       "      <td>...</td>\n",
       "      <td>0</td>\n",
       "      <td>0</td>\n",
       "      <td>0</td>\n",
       "      <td>0</td>\n",
       "      <td>1</td>\n",
       "      <td>0</td>\n",
       "      <td>0</td>\n",
       "      <td>0</td>\n",
       "      <td>0</td>\n",
       "      <td>0</td>\n",
       "    </tr>\n",
       "    <tr>\n",
       "      <th>3216</th>\n",
       "      <td>2.0</td>\n",
       "      <td>5.0</td>\n",
       "      <td>2.0</td>\n",
       "      <td>0.0</td>\n",
       "      <td>0.0</td>\n",
       "      <td>4.0</td>\n",
       "      <td>6.0</td>\n",
       "      <td>2.0</td>\n",
       "      <td>0.0</td>\n",
       "      <td>0.0</td>\n",
       "      <td>...</td>\n",
       "      <td>0</td>\n",
       "      <td>0</td>\n",
       "      <td>0</td>\n",
       "      <td>0</td>\n",
       "      <td>0</td>\n",
       "      <td>0</td>\n",
       "      <td>0</td>\n",
       "      <td>0</td>\n",
       "      <td>0</td>\n",
       "      <td>0</td>\n",
       "    </tr>\n",
       "    <tr>\n",
       "      <th>3217</th>\n",
       "      <td>5.0</td>\n",
       "      <td>4.0</td>\n",
       "      <td>5.0</td>\n",
       "      <td>0.0</td>\n",
       "      <td>3.0</td>\n",
       "      <td>4.0</td>\n",
       "      <td>1.0</td>\n",
       "      <td>4.0</td>\n",
       "      <td>3.0</td>\n",
       "      <td>1.0</td>\n",
       "      <td>...</td>\n",
       "      <td>0</td>\n",
       "      <td>0</td>\n",
       "      <td>0</td>\n",
       "      <td>0</td>\n",
       "      <td>0</td>\n",
       "      <td>0</td>\n",
       "      <td>0</td>\n",
       "      <td>0</td>\n",
       "      <td>0</td>\n",
       "      <td>0</td>\n",
       "    </tr>\n",
       "    <tr>\n",
       "      <th>3218</th>\n",
       "      <td>0.0</td>\n",
       "      <td>4.0</td>\n",
       "      <td>1.0</td>\n",
       "      <td>1.0</td>\n",
       "      <td>1.0</td>\n",
       "      <td>3.0</td>\n",
       "      <td>4.0</td>\n",
       "      <td>1.0</td>\n",
       "      <td>0.0</td>\n",
       "      <td>1.0</td>\n",
       "      <td>...</td>\n",
       "      <td>0</td>\n",
       "      <td>1</td>\n",
       "      <td>1</td>\n",
       "      <td>0</td>\n",
       "      <td>1</td>\n",
       "      <td>0</td>\n",
       "      <td>0</td>\n",
       "      <td>1</td>\n",
       "      <td>0</td>\n",
       "      <td>0</td>\n",
       "    </tr>\n",
       "  </tbody>\n",
       "</table>\n",
       "<p>3219 rows × 413 columns</p>\n",
       "</div>"
      ],
      "text/plain": [
       "       Q1   Q4   Q6  Q13  Q15  Q20  Q21  Q22  Q25  Q2_MAN  ...  Q35_B_PART_1  \\\n",
       "0     4.0  5.0  0.0  0.0  1.0  4.0  6.0  4.0  3.0     0.0  ...             1   \n",
       "1     7.0  2.0  0.0  0.0  1.0  0.0  0.0  2.0  0.0     1.0  ...             1   \n",
       "2     2.0  5.0  3.0  0.0  3.0  0.0  1.0  2.0  0.0     1.0  ...             0   \n",
       "3     4.0  5.0  4.0  0.0  4.0  2.0  4.0  2.0  5.0     1.0  ...             0   \n",
       "4     0.0  4.0  2.0  1.0  1.0  0.0  1.0  2.0  1.0     1.0  ...             0   \n",
       "...   ...  ...  ...  ...  ...  ...  ...  ...  ...     ...  ...           ...   \n",
       "3214  6.0  6.0  4.0  0.0  2.0  4.0  6.0  1.0  3.0     1.0  ...             0   \n",
       "3215  5.0  2.0  1.0  0.0  0.0  4.0  0.0  0.0  0.0     1.0  ...             0   \n",
       "3216  2.0  5.0  2.0  0.0  0.0  4.0  6.0  2.0  0.0     0.0  ...             0   \n",
       "3217  5.0  4.0  5.0  0.0  3.0  4.0  1.0  4.0  3.0     1.0  ...             0   \n",
       "3218  0.0  4.0  1.0  1.0  1.0  3.0  4.0  1.0  0.0     1.0  ...             0   \n",
       "\n",
       "      Q35_B_PART_2  Q35_B_PART_3  Q35_B_PART_4  Q35_B_PART_5  Q35_B_PART_6  \\\n",
       "0                0             0             0             0             0   \n",
       "1                0             0             0             0             0   \n",
       "2                0             0             0             0             0   \n",
       "3                0             0             0             0             0   \n",
       "4                0             0             0             0             0   \n",
       "...            ...           ...           ...           ...           ...   \n",
       "3214             0             0             0             0             0   \n",
       "3215             0             0             0             1             0   \n",
       "3216             0             0             0             0             0   \n",
       "3217             0             0             0             0             0   \n",
       "3218             1             1             0             1             0   \n",
       "\n",
       "      Q35_B_PART_7  Q35_B_PART_8  Q35_B_OTHER  Q2_SISENSE  \n",
       "0                0             0            0           0  \n",
       "1                0             0            0           0  \n",
       "2                0             0            0           0  \n",
       "3                0             0            0           0  \n",
       "4                0             0            0           0  \n",
       "...            ...           ...          ...         ...  \n",
       "3214             0             0            0           0  \n",
       "3215             0             0            0           0  \n",
       "3216             0             0            0           0  \n",
       "3217             0             0            0           0  \n",
       "3218             0             1            0           0  \n",
       "\n",
       "[3219 rows x 413 columns]"
      ]
     },
     "execution_count": 25,
     "metadata": {},
     "output_type": "execute_result"
    }
   ],
   "source": [
    "X_test_clean # clean test dataset"
   ]
  },
  {
   "cell_type": "code",
   "execution_count": 26,
   "metadata": {
    "id": "KzqI3sOtIJU3"
   },
   "outputs": [],
   "source": [
    "y_train.reset_index(drop=True, inplace=True) #reset index number for y train\n",
    "y_test.reset_index(drop=True, inplace=True) #reset index number for y test"
   ]
  },
  {
   "cell_type": "markdown",
   "metadata": {
    "id": "v3EP3CgZFcqs"
   },
   "source": [
    "# Part 2 Exploratory data analysis and feature selection"
   ]
  },
  {
   "cell_type": "markdown",
   "metadata": {
    "id": "wc1T3_H-FniX"
   },
   "source": [
    "For the exploratory data analysis step, visualize the order of feature importance. Some possible\n",
    "methods include correlation plot, or a similar method. Given the data, which of the original\n",
    "attributes in the data are most related to a survey respondent’s yearly compensation?\n",
    "\n",
    "Explain how feature engineering is a useful tool in machine learning in the context of the tasks in\n",
    "this assignment. Apply feature engineering and then select the features to be used for analysis\n",
    "either manually or through some feature selection algorithm (e.g. regularized regression).\n",
    "\n",
    "Not all features need to be used; features can be removed or added as desired. If the resulting\n",
    "number of features is very high, dimensionality reduction can also be used (e.g. PCA). Use at\n",
    "least one feature selection technique – describe the technique and provide justification on why\n",
    "you selected that set of features."
   ]
  },
  {
   "cell_type": "markdown",
   "metadata": {
    "id": "yM7ycU3fZRmO"
   },
   "source": [
    "Feature Selection"
   ]
  },
  {
   "cell_type": "code",
   "execution_count": 27,
   "metadata": {
    "id": "EUUnhyWORJEG"
   },
   "outputs": [],
   "source": [
    "# Lasso Regression\n",
    "from sklearn.linear_model import Lasso, LogisticRegression, LogisticRegressionCV\n",
    "import matplotlib.pyplot as plt\n",
    "from sklearn.feature_selection import SelectFromModel"
   ]
  },
  {
   "cell_type": "code",
   "execution_count": 28,
   "metadata": {
    "id": "gYuFT3YOSpmT"
   },
   "outputs": [],
   "source": [
    "# Model 2 using Lasso Coefficient\n",
    "lasso = Lasso(alpha = 0.1)\n",
    "lasso_coef = lasso.fit(X_train_clean,y_train.Q24_ENCODED).coef_"
   ]
  },
  {
   "cell_type": "code",
   "execution_count": 29,
   "metadata": {
    "colab": {
     "base_uri": "https://localhost:8080/",
     "height": 288
    },
    "id": "Adc-bnSWUo6I",
    "outputId": "71d6480d-a552-4c2c-ee4a-9430b247ea1a"
   },
   "outputs": [
    {
     "data": {
      "text/html": [
       "<div>\n",
       "<style scoped>\n",
       "    .dataframe tbody tr th:only-of-type {\n",
       "        vertical-align: middle;\n",
       "    }\n",
       "\n",
       "    .dataframe tbody tr th {\n",
       "        vertical-align: top;\n",
       "    }\n",
       "\n",
       "    .dataframe thead th {\n",
       "        text-align: right;\n",
       "    }\n",
       "</style>\n",
       "<table border=\"1\" class=\"dataframe\">\n",
       "  <thead>\n",
       "    <tr style=\"text-align: right;\">\n",
       "      <th></th>\n",
       "      <th>COEFFICIENTS</th>\n",
       "    </tr>\n",
       "  </thead>\n",
       "  <tbody>\n",
       "    <tr>\n",
       "      <th>Q3_UNITED STATES OF AMERICA</th>\n",
       "      <td>3.964451</td>\n",
       "    </tr>\n",
       "    <tr>\n",
       "      <th>Q25</th>\n",
       "      <td>0.415629</td>\n",
       "    </tr>\n",
       "    <tr>\n",
       "      <th>Q1</th>\n",
       "      <td>0.324681</td>\n",
       "    </tr>\n",
       "    <tr>\n",
       "      <th>Q20</th>\n",
       "      <td>0.250819</td>\n",
       "    </tr>\n",
       "    <tr>\n",
       "      <th>Q15</th>\n",
       "      <td>0.226762</td>\n",
       "    </tr>\n",
       "    <tr>\n",
       "      <th>Q6</th>\n",
       "      <td>0.213094</td>\n",
       "    </tr>\n",
       "    <tr>\n",
       "      <th>Q22</th>\n",
       "      <td>0.143394</td>\n",
       "    </tr>\n",
       "    <tr>\n",
       "      <th>Q21</th>\n",
       "      <td>0.057973</td>\n",
       "    </tr>\n",
       "  </tbody>\n",
       "</table>\n",
       "</div>"
      ],
      "text/plain": [
       "                             COEFFICIENTS\n",
       "Q3_UNITED STATES OF AMERICA      3.964451\n",
       "Q25                              0.415629\n",
       "Q1                               0.324681\n",
       "Q20                              0.250819\n",
       "Q15                              0.226762\n",
       "Q6                               0.213094\n",
       "Q22                              0.143394\n",
       "Q21                              0.057973"
      ]
     },
     "execution_count": 29,
     "metadata": {},
     "output_type": "execute_result"
    }
   ],
   "source": [
    "f_select = pd.DataFrame(data=lasso_coef,columns = [\"COEFFICIENTS\"], index = X_train_clean.columns)\n",
    "b = f_select.sort_values(by=['COEFFICIENTS'],ascending=False)\n",
    "b.head(8)"
   ]
  },
  {
   "cell_type": "code",
   "execution_count": 30,
   "metadata": {
    "id": "7-WR-ExNoWHP"
   },
   "outputs": [],
   "source": [
    "# model 2 ready to be used\n",
    "X_train_removal_model_2 = X_train_clean[['Q3_UNITED STATES OF AMERICA','Q25','Q1','Q20','Q15','Q6','Q22','Q21']] # select non-negative coefficients\n",
    "X_test_removal_model_2 = X_test_clean[['Q3_UNITED STATES OF AMERICA','Q25','Q1','Q20','Q15','Q6','Q22','Q21']] # select non-negative coefficients"
   ]
  },
  {
   "cell_type": "code",
   "execution_count": 31,
   "metadata": {
    "id": "lec3V-y87kgU"
   },
   "outputs": [],
   "source": [
    "# model 3 random forest\n",
    "from sklearn.ensemble import RandomForestRegressor"
   ]
  },
  {
   "cell_type": "code",
   "execution_count": 32,
   "metadata": {
    "colab": {
     "base_uri": "https://localhost:8080/"
    },
    "id": "cJGJmQIa7qPu",
    "outputId": "f6671e4b-37c3-4002-ba72-3c1e5daef478"
   },
   "outputs": [
    {
     "data": {
      "text/plain": [
       "RandomForestRegressor()"
      ]
     },
     "execution_count": 32,
     "metadata": {},
     "output_type": "execute_result"
    }
   ],
   "source": [
    "rf = RandomForestRegressor(n_estimators=100) #100 branches\n",
    "rf.fit(X_train_clean, y_train.Q24_ENCODED)"
   ]
  },
  {
   "cell_type": "code",
   "execution_count": 33,
   "metadata": {
    "id": "5yKJnEBa8b3h"
   },
   "outputs": [],
   "source": [
    "sorted_idx = rf.feature_importances_.argsort()"
   ]
  },
  {
   "cell_type": "code",
   "execution_count": 34,
   "metadata": {
    "id": "FpdL9Mqo9MyP"
   },
   "outputs": [],
   "source": [
    "addthem1 = pd.DataFrame(data = X_train_clean.columns[sorted_idx], columns = [\"FEATURE\"])\n",
    "addthem2 = pd.DataFrame(data = rf.feature_importances_[sorted_idx], columns = [\"COEFFICIENT\"])\n",
    "addthem3 = pd.concat([addthem1, addthem2],axis = 1)\n",
    "above_coe = addthem3.loc[addthem3[\"COEFFICIENT\"] > 0.01].sort_values(by=[\"COEFFICIENT\"], ascending = False)\n",
    "\n",
    "# model 3 ready to be used\n",
    "X_train_removal_model_3 = X_train_clean[above_coe[\"FEATURE\"]] \n",
    "X_test_removal_model_3 = X_test_clean[above_coe[\"FEATURE\"]] "
   ]
  },
  {
   "cell_type": "code",
   "execution_count": 35,
   "metadata": {
    "colab": {
     "base_uri": "https://localhost:8080/",
     "height": 765
    },
    "id": "DlR8SSu11Cpx",
    "outputId": "ea74cd00-8f10-478a-edf8-71e0fd68d82a"
   },
   "outputs": [
    {
     "data": {
      "text/plain": [
       "<AxesSubplot:>"
      ]
     },
     "execution_count": 35,
     "metadata": {},
     "output_type": "execute_result"
    },
    {
     "data": {
      "image/png": "[encoded data removed]",
      "text/plain": [
       "<Figure size 720x720 with 2 Axes>"
      ]
     },
     "metadata": {
      "needs_background": "light"
     },
     "output_type": "display_data"
    }
   ],
   "source": [
    "# heatmap of model 2\n",
    "f,ax = plt.subplots(figsize=(10,10))\n",
    "sns.heatmap(X_train_removal_model_2.corr(), annot=True, linewidths=.5, fmt= '.1f',ax=ax)"
   ]
  },
  {
   "cell_type": "code",
   "execution_count": 36,
   "metadata": {
    "colab": {
     "base_uri": "https://localhost:8080/",
     "height": 938
    },
    "id": "_MB1vAFNF7vr",
    "outputId": "1e35a768-3964-4da0-8813-f2c252f6ffff"
   },
   "outputs": [
    {
     "data": {
      "text/plain": [
       "<AxesSubplot:>"
      ]
     },
     "execution_count": 36,
     "metadata": {},
     "output_type": "execute_result"
    },
    {
     "data": {
      "image/png": "[encoded data removed]",
      "text/plain": [
       "<Figure size 720x720 with 2 Axes>"
      ]
     },
     "metadata": {
      "needs_background": "light"
     },
     "output_type": "display_data"
    }
   ],
   "source": [
    "# heatmap of model 3\n",
    "f,ax = plt.subplots(figsize=(10,10))\n",
    "sns.heatmap(X_train_removal_model_3.corr(), annot=True, linewidths=.5, fmt= '.1f',ax=ax)"
   ]
  },
  {
   "cell_type": "markdown",
   "metadata": {
    "id": "xnChggUiBsob"
   },
   "source": [
    "# Part 3 Model implementation\n",
    "Ordinal Logistic Regression"
   ]
  },
  {
   "cell_type": "code",
   "execution_count": 37,
   "metadata": {
    "id": "BZwRdWp2cGX2"
   },
   "outputs": [],
   "source": [
    "# cross validation and ordinal logistic regression\n",
    "def run_kfold(model):\n",
    "    \n",
    "  X = X_train_removal_model_2\n",
    "  Y = y_train.Q24_ENCODED\n",
    "  kf = KFold(n_splits=10)\n",
    "  \n",
    "  outcomes_accuracy = []\n",
    "  outcomes_f1 = []\n",
    "  fold = 0\n",
    "  \n",
    "  # splitting the major training data using Kfold to cross validate for\n",
    "  for train_index, test_index in kf.split(X):\n",
    "    fold += 1\n",
    "    X_train, X_test = X.values[train_index], X.values[test_index]\n",
    "    Y_train, Y_test = Y.values[train_index], Y.values[test_index]\n",
    "\n",
    "    # creating a dataframe of list of target greater than 0,1,2,3,...13\n",
    "    derived_data = []\n",
    "    for i in np.unique(Y_train):\n",
    "      target_greater_data = np.where(i < Y_train,1,0)\n",
    "      if i == max(Y_train):\n",
    "        break\n",
    "      else:\n",
    "        derived_data.append(target_greater_data)\n",
    "    derived_ordinal_target = pd.DataFrame(derived_data).T\n",
    "\n",
    "\n",
    "    # creating a list of probability between class 0 vs all, class <0 vs the remaining, class <1 vs the remaining, etc... \n",
    "    probo = []\n",
    "    for i in range(0,derived_ordinal_target.shape[1]):\n",
    "      # print(i)\n",
    "      model.fit(X_train,derived_ordinal_target[i]) ### fit\n",
    "      # print('Tuned hpyerparameters :(best parameters) ',model.best_params_)\n",
    "      # print(i)\n",
    "      probo.append(model.predict_proba(X_test)) ### predict\n",
    "      # print('Tuned hpyerparameters :(best parameters) ',model.best_params_)\n",
    "      # print(i)\n",
    "\n",
    "\n",
    "    # slicing my probo array to just take index 0\n",
    "    splitter = []\n",
    "    for i in range(0,derived_ordinal_target.shape[1]):\n",
    "      splitter.append(probo[i][:,:1].ravel())\n",
    "      \n",
    "    # creating a dataframe containing derived probability between class 0 vs all, class <0 vs the remaining, class <1 vs the remaining, etc...\n",
    "    list_of_13 = pd.DataFrame(splitter)\n",
    "    list_of_14 = pd.DataFrame(probo[13][:,1:].ravel())\n",
    "    combined_list_probab = pd.concat([list_of_13.T,list_of_14], axis =1)\n",
    "    combined_list_probab.columns = np.arange(0,15) # hence this is not clean yet\n",
    "\n",
    "    # creating arrays containing probability of each class\n",
    "    list_of_substraction = []\n",
    "    for i in range(0,15):\n",
    "      if i == 0:\n",
    "        list_of_substraction.append(combined_list_probab[i])\n",
    "      elif i == 14:\n",
    "        list_of_substraction.append(combined_list_probab[i])\n",
    "      else:\n",
    "        list_of_substraction.append(combined_list_probab[i] - combined_list_probab[i-1])\n",
    "\n",
    "    # creating a dataframe using the array from above\n",
    "    table_of_probability = pd.DataFrame(list_of_substraction).T\n",
    "    table_of_probability.columns = np.arange(0,15)\n",
    "    table_of_probability.add_prefix('Class_')\n",
    "    result = table_of_probability.idxmax(axis=1)\n",
    "\n",
    "\n",
    "    # creating a dataframe consisting of the classified result\n",
    "    prediction_1 = pd.DataFrame(result, columns = ['TARGET_PREDICTED'])\n",
    "    accuracy = accuracy_score(Y_test, prediction_1) \n",
    "    outcomes_accuracy.append(accuracy)\n",
    "    f1 = f1_score(Y_test, prediction_1,average='micro',labels=np.unique(prediction_1))\n",
    "    outcomes_f1.append(f1)\n",
    "    print(\"Fold {0} accuracy: {1}\".format(fold, accuracy))\n",
    "    print(\"Fold {0} F1_SCORE: {1}\".format(fold, f1))\n",
    "    print(\"\")\n",
    "\n",
    "  mean_outcome_accuracy = np.mean(outcomes_accuracy)\n",
    "  std_outcome_accuracy=np.std(outcomes_accuracy)\n",
    "  var_outcome_accuracy=np.var(outcomes_accuracy)\n",
    "  print(\"Mean accuracy_score: {0}\".format(mean_outcome_accuracy)) \n",
    "  print(\"Standard Deviation: {0}\".format(std_outcome_accuracy)) \n",
    "  print(\"Variance: {0}\".format(var_outcome_accuracy)) \n",
    "  \n",
    "  print(\"\")\n",
    "  mean_outcome_f1 = np.mean(outcomes_f1)\n",
    "  std_outcome_f1=np.std(outcomes_f1)\n",
    "  var_outcome_f1=np.var(outcomes_f1)\n",
    "  print(\"Mean f1_score: {0}\".format(mean_outcome_f1)) \n",
    "  print(\"Standard Deviation: {0}\".format(std_outcome_f1)) \n",
    "  print(\"Variance: {0}\".format(var_outcome_accuracy)) \n",
    "  return Y_test, prediction_1\n"
   ]
  },
  {
   "cell_type": "code",
   "execution_count": 38,
   "metadata": {
    "colab": {
     "base_uri": "https://localhost:8080/"
    },
    "id": "rxT7nXPzzoJJ",
    "outputId": "09f9cb01-8c11-47ef-dd29-086f5bfdcbdb"
   },
   "outputs": [
    {
     "name": "stdout",
     "output_type": "stream",
     "text": [
      "Fold 1 accuracy: 0.45272969374167776\n",
      "Fold 1 F1_SCORE: 0.5551020408163265\n",
      "\n",
      "Fold 2 accuracy: 0.4181091877496671\n",
      "Fold 2 F1_SCORE: 0.4964426877470355\n",
      "\n",
      "Fold 3 accuracy: 0.45139813581890814\n",
      "Fold 3 F1_SCORE: 0.5481002425222312\n",
      "\n",
      "Fold 4 accuracy: 0.4274300932090546\n",
      "Fold 4 F1_SCORE: 0.5413153456998314\n",
      "\n",
      "Fold 5 accuracy: 0.43275632490013316\n",
      "Fold 5 F1_SCORE: 0.5439330543933054\n",
      "\n",
      "Fold 6 accuracy: 0.4340878828229028\n",
      "Fold 6 F1_SCORE: 0.5305126118795769\n",
      "\n",
      "Fold 7 accuracy: 0.4274300932090546\n",
      "Fold 7 F1_SCORE: 0.5232273838630807\n",
      "\n",
      "Fold 8 accuracy: 0.43541944074567246\n",
      "Fold 8 F1_SCORE: 0.5396039603960395\n",
      "\n",
      "Fold 9 accuracy: 0.4367509986684421\n",
      "Fold 9 F1_SCORE: 0.539917695473251\n",
      "\n",
      "Fold 10 accuracy: 0.42609853528628494\n",
      "Fold 10 F1_SCORE: 0.5284888521882741\n",
      "\n",
      "Mean accuracy_score: 0.43422103861517974\n",
      "Standard Deviation: 0.010321936072587749\n",
      "Variance: 0.00010654236428658821\n",
      "\n",
      "Mean f1_score: 0.5346643874978952\n",
      "Standard Deviation: 0.015580236810312694\n",
      "Variance: 0.00010654236428658821\n"
     ]
    }
   ],
   "source": [
    "# running running the model to see accuracy and f1 score across the fold without tuning\n",
    "model_lr = LogisticRegression()\n",
    "y_train_cv, y_pred_cv = run_kfold(model_lr)"
   ]
  },
  {
   "cell_type": "code",
   "execution_count": 39,
   "metadata": {
    "colab": {
     "base_uri": "https://localhost:8080/",
     "height": 355
    },
    "id": "M7thlrjqaFiO",
    "outputId": "6b030e9d-7260-40c9-95b8-9a9243eafc41"
   },
   "outputs": [
    {
     "data": {
      "image/png": "[encoded data removed]",
      "text/plain": [
       "<Figure size 360x360 with 1 Axes>"
      ]
     },
     "metadata": {},
     "output_type": "display_data"
    }
   ],
   "source": [
    "# Training distribution\n",
    "sns.set(rc={'figure.figsize':(5,5)})\n",
    "sns.kdeplot(y_train_cv,label = 'True')\n",
    "sns.kdeplot(y_pred_cv.TARGET_PREDICTED,label = 'Predicted')\n",
    "plt.xlabel(\"Class\")\n",
    "plt.title(\"Training Distribution\")\n",
    "plt.legend()\n",
    "plt.show()"
   ]
  },
  {
   "cell_type": "markdown",
   "metadata": {
    "id": "yhr_jxDscOJf"
   },
   "source": [
    "# Part 4: Model Tuning\n",
    "\n",
    "According to https://machinelearningmastery.com/hyperparameters-for-classification-machine-learning-algorithms/, logistic regression does not really have any critical hyperparameters to tune. Therefore C and solver the two choices that prefered. These two choices are also the robust hyperparameter that can be used without conflicting with other (for example, l2 penalty cannot be used with solver = linear)"
   ]
  },
  {
   "cell_type": "code",
   "execution_count": 40,
   "metadata": {
    "colab": {
     "base_uri": "https://localhost:8080/"
    },
    "id": "rtZMBZfYDB4M",
    "outputId": "fc194902-c34c-4c15-fdf8-d4e7a1287c19"
   },
   "outputs": [
    {
     "name": "stdout",
     "output_type": "stream",
     "text": [
      "{'C': 5, 'solver': 'sag'}\n",
      "Best Accuracy: 43.462%(1.021%)\n",
      "Variance: 0.01%\n",
      "\n",
      "{'C': 0.001, 'solver': 'liblinear'}\n",
      "Best Micro AVG F1-Score: 56.011%(1.021%)\n",
      "Variance: 0.01%\n"
     ]
    }
   ],
   "source": [
    "model = LogisticRegression()\n",
    "kf = KFold(n_splits=10)\n",
    "best_accuracy = 0\n",
    "best_f1 = 0\n",
    "best_confusion = 0\n",
    "\n",
    "# grid search using C and Solver as hyperparameters\n",
    "for C in [0.001,0.01,0.05,0.1,0.5,1,5,10, 100]:\n",
    "  for solver in ['newton-cg','lbfgs','liblinear','sag']:\n",
    "    # print(\"Using C:\", C, \"and\", \"solver:\", solver)\n",
    "  # for penalty in ['l1','l2','elasticnet','none']:\n",
    "    # model = LogisticRegression(C=C, penalty=penalty)\n",
    "    model = LogisticRegression(C=C, solver=solver)\n",
    "    accuracy = np.zeros(10)\n",
    "    f1_list = np.zeros(10)\n",
    "    confusion = np.zeros(10)\n",
    "    np_idx = 0\n",
    "\n",
    "    # splitting the major training data using Kfold to cross validate for\n",
    "    fold = 0\n",
    "    for train_idx, test_idx in kf.split(X_train_removal_model_2):\n",
    "      fold += 1\n",
    "      X_TRAIN, X_TEST = X_train_removal_model_2.values[train_idx], X_train_removal_model_2.values[test_idx]\n",
    "      Y_TRAIN, Y_TEST = y_train.Q24_ENCODED.values[train_idx], y_train.Q24_ENCODED.values[test_idx]\n",
    "\n",
    "      # creating a dataframe of list of target greater than 0,1,2,3,...13\n",
    "      derived_data = []\n",
    "      for i in np.unique(Y_TRAIN):\n",
    "        target_greater_data = np.where(i < Y_TRAIN,1,0)\n",
    "        if i == max(Y_TRAIN):\n",
    "          break\n",
    "        else:\n",
    "          derived_data.append(target_greater_data)\n",
    "      derived_ordinal_target = pd.DataFrame(derived_data).T\n",
    "      \n",
    "      # creating a list of probability between class 0 vs all, class <0 vs the remaining, class <1 vs the remaining, etc... \n",
    "      probo = []\n",
    "      for i in range(0,derived_ordinal_target.shape[1]):\n",
    "        model.fit(X_TRAIN,derived_ordinal_target[i]) # fit\n",
    "        probo.append(model.predict_proba(X_TEST)) # predict binary classification\n",
    "\n",
    "      # slicing my probo array to just take index 0\n",
    "      splitter = []\n",
    "      for i in range(0,derived_ordinal_target.shape[1]):\n",
    "        splitter.append(probo[i][:,:1].ravel())\n",
    "\n",
    "      # creating a dataframe containing derived probability between class 0 vs all, class <0 vs the remaining, class <1 vs the remaining, etc...\n",
    "      list_of_13 = pd.DataFrame(splitter)\n",
    "      list_of_14 = pd.DataFrame(probo[13][:,1:].ravel())\n",
    "      combined_list_probab = pd.concat([list_of_13.T,list_of_14], axis =1)\n",
    "      combined_list_probab.columns = np.arange(0,15) # hence this is not clean yet\n",
    "\n",
    "      # creating arrays containing probability of each class\n",
    "      list_of_substraction = []\n",
    "      for i in range(0,15):\n",
    "        if i == 0:\n",
    "          list_of_substraction.append(combined_list_probab[i])\n",
    "        elif i == 14:\n",
    "          list_of_substraction.append(combined_list_probab[i])\n",
    "        else:\n",
    "          list_of_substraction.append(combined_list_probab[i] - combined_list_probab[i-1])\n",
    "\n",
    "      # creating a dataframe using the array from above\n",
    "      table_of_probability = pd.DataFrame(list_of_substraction).T\n",
    "      table_of_probability.columns = np.arange(0,15)\n",
    "      result = table_of_probability.idxmax(axis=1)\n",
    "\n",
    "      # creating a dataframe consisting of the classified result\n",
    "      prediction_1 = pd.DataFrame(result, columns = ['TARGET_PREDICTED'])\n",
    "      accuracy_acc = accuracy_score(Y_TEST, prediction_1)\n",
    "      f1 = f1_score(Y_TEST, prediction_1,average='micro', labels=np.unique(prediction_1)) \n",
    "      \n",
    "      # calculating performance using different metrics\n",
    "      accuracy[np_idx] = accuracy_acc\n",
    "      f1_list[np_idx] = f1\n",
    "      np_idx += 1\n",
    "    \n",
    "    # storing best accuracy value\n",
    "    if np.mean(accuracy) > best_accuracy:\n",
    "      best_params_accuracy = {'C':C, 'solver':solver}\n",
    "      best_accuracy = np.mean(accuracy)\n",
    "      best_std_accuracy = np.std(accuracy)\n",
    "      best_var_accuracy = np.var(accuracy)\n",
    "\n",
    "    # storing f1 score value\n",
    "    if np.mean(f1_list) > best_f1:\n",
    "      best_params_f1 = {'C':C, 'solver':solver}\n",
    "      best_f1 = np.mean(f1_list)\n",
    "      best_std_f1 = np.std(f1_list)\n",
    "      best_var_f1 = np.var(f1_list)\n",
    "\n",
    "# print out the best parameter and its results according to accuracy\n",
    "print(best_params_accuracy)\n",
    "print(\"Best Accuracy: {}%({}%)\".format(round(best_accuracy*100,3),round(best_std_accuracy*100,3)))\n",
    "print(\"Variance: {}%\".format(round(best_var_accuracy*100,3)))\n",
    "print(\"\")\n",
    "\n",
    "# print out the best parameter and its results according to f1 score\n",
    "print(best_params_f1)\n",
    "print(\"Best Micro AVG F1-Score: {}%({}%)\".format(round(best_f1*100,3),round(best_std_f1*100,3)))\n",
    "print(\"Variance: {}%\".format(round(best_var_f1*100,3)))  "
   ]
  },
  {
   "cell_type": "markdown",
   "metadata": {
    "id": "Usc6-bxtquUQ"
   },
   "source": [
    "There are 2 types of metrics to measure how good the model is. Micro F1 Score will be primarily used because the dataset is unbalanced (there are more class 0 vs the other)"
   ]
  },
  {
   "cell_type": "markdown",
   "metadata": {
    "id": "B6mp6BS11-wV"
   },
   "source": [
    "# Part 5: Testing & Discussion\n",
    "\n",
    "Model implementation"
   ]
  },
  {
   "cell_type": "code",
   "execution_count": 41,
   "metadata": {
    "id": "LnaTlGRc-zPE"
   },
   "outputs": [],
   "source": [
    "# input clean x_test with data encoded and bad features removed\n",
    "def ordinal_regression(x_input):\n",
    "  clf_lr = LogisticRegression( C = 0.01, solver = 'liblinear') ### use the best setting \n",
    "\n",
    "  final_y_train = y_train.Q24_ENCODED.copy()\n",
    "  final_x_train = X_train_removal_model_2.copy()\n",
    "  derived_data = []\n",
    "  for i in np.unique(final_y_train):\n",
    "    target_greater_data = np.where(i < final_y_train,1,0)\n",
    "    if i == max(final_y_train):\n",
    "      break\n",
    "    else:\n",
    "      derived_data.append(target_greater_data)\n",
    "  derived_ordinal_target = pd.DataFrame(derived_data).T\n",
    "  \n",
    "  # creating a list of probability between class 0 vs all, class <0 vs the remaining, class <1 vs the remaining, etc... \n",
    "  probo = []\n",
    "  for i in range(0,derived_ordinal_target.shape[1]):\n",
    "    # print(i)\n",
    "    clf_lr.fit(final_x_train,derived_ordinal_target[i]) ## fit\n",
    "    probo.append(clf_lr.predict_proba(x_input)) ## predict binary classification\n",
    "\n",
    "  # slicing my probo array to just take index 0\n",
    "  splitter = []\n",
    "  for i in range(0,derived_ordinal_target.shape[1]):\n",
    "    splitter.append(probo[i][:,:1].ravel())\n",
    "\n",
    "  # creating a dataframe containing derived probability between class 0 vs all, class <0 vs the remaining, class <1 vs the remaining, etc...\n",
    "  list_of_13 = pd.DataFrame(splitter)\n",
    "  list_of_14 = pd.DataFrame(probo[13][:,1:].ravel())\n",
    "  combined_list_probab = pd.concat([list_of_13.T,list_of_14], axis =1)\n",
    "  combined_list_probab.columns = np.arange(0,15) # hence this is not clean yet\n",
    "\n",
    "  # creating arrays containing probability of each class\n",
    "  list_of_substraction = []\n",
    "  for i in range(0,15):\n",
    "    if i == 0:\n",
    "      list_of_substraction.append(combined_list_probab[i])\n",
    "    elif i == 14:\n",
    "      list_of_substraction.append(combined_list_probab[i])\n",
    "    else:\n",
    "      list_of_substraction.append(combined_list_probab[i] - combined_list_probab[i-1])\n",
    "\n",
    "  # creating a dataframe using the array from above\n",
    "  table_of_probability = pd.DataFrame(list_of_substraction).T\n",
    "  table_of_probability.columns = np.arange(0,15)\n",
    "  # table_of_probability.add_prefix('Class_')\n",
    "  result = table_of_probability.idxmax(axis=1)\n",
    "\n",
    "  # creating a dataframe consisting of the classified result\n",
    "  prediction_1 = pd.DataFrame(result, columns = ['TARGET_PREDICTED'])\n",
    "  return prediction_1\n",
    "  "
   ]
  },
  {
   "cell_type": "code",
   "execution_count": 42,
   "metadata": {
    "id": "2JQQxm0KCS3m"
   },
   "outputs": [],
   "source": [
    "# predicting using ordinal_regression function created above\n",
    "my_prediction = ordinal_regression(X_test_removal_model_2) # input clean x_test with data encoded and bad features removed"
   ]
  },
  {
   "cell_type": "code",
   "execution_count": 43,
   "metadata": {
    "colab": {
     "base_uri": "https://localhost:8080/"
    },
    "id": "asuGpke5C_DC",
    "outputId": "93b1f3dc-4305-4849-dc8a-c9d04a843fbf"
   },
   "outputs": [
    {
     "name": "stdout",
     "output_type": "stream",
     "text": [
      "F1 Score: 0.521806252412196\n"
     ]
    }
   ],
   "source": [
    "# f1_score \n",
    "final_f1_score = f1_score(y_test.Q24_ENCODED,my_prediction, average = 'micro',labels=np.unique(my_prediction))\n",
    "print(\"F1 Score:\", final_f1_score)"
   ]
  },
  {
   "cell_type": "code",
   "execution_count": 44,
   "metadata": {
    "colab": {
     "base_uri": "https://localhost:8080/",
     "height": 355
    },
    "id": "tNym7Gs_BbLg",
    "outputId": "e2c18e7b-02dc-4f3f-f526-d6c3ece72769"
   },
   "outputs": [
    {
     "data": {
      "image/png": "[encoded data removed]",
      "text/plain": [
       "<Figure size 360x360 with 1 Axes>"
      ]
     },
     "metadata": {},
     "output_type": "display_data"
    }
   ],
   "source": [
    "# Testing distribution\n",
    "sns.set(rc={'figure.figsize':(5,5)})\n",
    "sns.kdeplot(y_test.Q24_ENCODED, label = \"True\")\n",
    "sns.kdeplot(my_prediction.TARGET_PREDICTED, label = \"Predicted\")\n",
    "plt.xlabel(\"Class\")\n",
    "plt.legend()\n",
    "plt.title(\"Testing Distribution\")\n",
    "plt.show()"
   ]
  }
 ],
 "metadata": {
  "colab": {
   "collapsed_sections": [],
   "name": "tjoa_1007535017_assignment2_notebook.ipynb",
   "provenance": []
  },
  "kernelspec": {
   "display_name": "Python 3 (ipykernel)",
   "language": "python",
   "name": "python3"
  },
  "language_info": {
   "codemirror_mode": {
    "name": "ipython",
    "version": 3
   },
   "file_extension": ".py",
   "mimetype": "text/x-python",
   "name": "python",
   "nbconvert_exporter": "python",
   "pygments_lexer": "ipython3",
   "version": "3.9.7"
  }
 },
 "nbformat": 4,
 "nbformat_minor": 1
}
