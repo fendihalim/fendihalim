{
  "nbformat": 4,
  "nbformat_minor": 0,
  "metadata": {
    "colab": {
      "name": "data_and_model_drift_v1.ipynb",
      "provenance": [],
      "collapsed_sections": []
    },
    "kernelspec": {
      "name": "python3",
      "display_name": "Python 3"
    },
    "language_info": {
      "name": "python"
    }
  },
  "cells": [
    {
      "cell_type": "markdown",
      "source": [
        "# CHE 1148 Assignment 4\n",
        "Name: Fendi Halim Tjoa\n",
        "\n",
        "Student ID: 100753017\n",
        "\n",
        "Instructor: Nikolaos Anesiadis\n",
        "\n",
        "TA: Kavya Siddartha\n",
        "\n",
        "Note: This notebook runs on google colab\n"
      ],
      "metadata": {
        "id": "kjF3JY60_b1M"
      }
    },
    {
      "cell_type": "code",
      "execution_count": 1,
      "metadata": {
        "id": "Z7ulQBf-_VvF"
      },
      "outputs": [],
      "source": [
        "import numpy as np\n",
        "import pandas as pd\n",
        "import random\n",
        "import seaborn as sns\n",
        "import matplotlib.pyplot as plt\n",
        "from matplotlib.ticker import MaxNLocator\n",
        "from sklearn.cross_decomposition import PLSRegression\n",
        "from pandas.tseries.offsets import DateOffset\n",
        "from itertools import product\n",
        "from pandas.tseries.offsets import MonthEnd \n",
        "from sklearn.model_selection import train_test_split\n",
        "from matplotlib.ticker import PercentFormatter\n",
        "from sklearn.tree import DecisionTreeClassifier, plot_tree\n",
        "from sklearn.ensemble import RandomForestClassifier\n",
        "from sklearn.preprocessing import StandardScaler\n",
        "from scipy.spatial import distance"
      ]
    },
    {
      "cell_type": "code",
      "source": [
        "from google.colab import drive\n",
        "drive.mount('/content/gdrive')"
      ],
      "metadata": {
        "colab": {
          "base_uri": "https://localhost:8080/"
        },
        "id": "TOYWWENS_e7j",
        "outputId": "1420a538-cb67-42a1-9234-cc7b1a373b0a"
      },
      "execution_count": 2,
      "outputs": [
        {
          "output_type": "stream",
          "name": "stdout",
          "text": [
            "Mounted at /content/gdrive\n"
          ]
        }
      ]
    },
    {
      "cell_type": "code",
      "source": [
        "Retail_Data_Response = pd.read_csv('/content/gdrive/MyDrive/Colab Notebooks/Retail_Data_Response.csv') #import Retail_Data_Transactions.csv as pd dataframe\n",
        "# annual_features = pd.read_excel('/content/gdrive/MyDrive/Colab Notebooks/annual_features.xlsx') #import Retail_Data_Transactions.csv as pd dataframe\n",
        "# annual_day_of_week_counts_pivot = pd.read_excel('/content/gdrive/MyDrive/Colab Notebooks/annual_day_of_week_counts_pivot.xlsx') #import Retail_Data_Transactions.csv as pd dataframe\n",
        "mth_rolling_features = pd.read_excel('/content/gdrive/MyDrive/Colab Notebooks/mth_rolling_features.xlsx', index_col = 0) #import Retail_Data_Transactions.csv as pd dataframe\n",
        "mth_day_counts = pd.read_excel('/content/gdrive/MyDrive/Colab Notebooks/mth_day_counts.xlsx', index_col = 0) #import Retail_Data_Transactions.csv as pd dataframe\n",
        "days_since_last_txn = pd.read_excel('/content/gdrive/MyDrive/Colab Notebooks/days_since_last_txn.xlsx', index_col = 0) #import Retail_Data_Transactions.csv as pd dataframe\n"
      ],
      "metadata": {
        "id": "pGbVnNbvTgZ2"
      },
      "execution_count": 3,
      "outputs": []
    },
    {
      "cell_type": "code",
      "source": [
        "monthly_features_output = mth_rolling_features.merge(mth_day_counts, left_on=  ['CLNT_NO', 'ME_DT'], right_on= ['CLNT_NO', 'ME_DT']).merge(\n",
        "    days_since_last_txn, left_on=  ['CLNT_NO', 'ME_DT'], right_on= ['CLNT_NO', 'ME_DT'])\n",
        "\n",
        "monthly_features_output = pd.merge(monthly_features_output, Retail_Data_Response.set_index('customer_id'), left_on='CLNT_NO', right_index=True)\n",
        "monthly_features_output.fillna(0, inplace = True) # change nan to 0\n",
        "monthly_features_output['response'] = monthly_features_output['response'].astype(int) # change response to integer\n"
      ],
      "metadata": {
        "id": "HH2a0OVUTqX1"
      },
      "execution_count": 4,
      "outputs": []
    },
    {
      "cell_type": "code",
      "source": [
        "monthly_features_output.shape"
      ],
      "metadata": {
        "colab": {
          "base_uri": "https://localhost:8080/"
        },
        "id": "Jl1YHzBuN_rf",
        "outputId": "4ed07649-c311-474d-b39f-5361687d7bf6"
      },
      "execution_count": 6,
      "outputs": [
        {
          "output_type": "execute_result",
          "data": {
            "text/plain": [
              "(323548, 31)"
            ]
          },
          "metadata": {},
          "execution_count": 6
        }
      ]
    },
    {
      "cell_type": "code",
      "source": [
        "X_monthly = monthly_features_output.drop(['response'], axis = 1)\n",
        "y_monthly = monthly_features_output['response']\n",
        "# X_train_monthly, X_test_monthly, y_train_monthly, y_test_monthly = train_test_split(X_monthly, y_monthly, test_size=2/3, random_state=1147)"
      ],
      "metadata": {
        "id": "p70Y8LxKTqVv"
      },
      "execution_count": 8,
      "outputs": []
    },
    {
      "cell_type": "markdown",
      "source": [
        "Data prior to Dec-2013 inclusively"
      ],
      "metadata": {
        "id": "GiEvsHUYp6pX"
      }
    },
    {
      "cell_type": "code",
      "source": [
        "cust_and_date_pre_dec = monthly_features_output[monthly_features_output['ME_DT'] <= '2013-12-31'][['CLNT_NO','ME_DT']]\n",
        "X_pre_dec = monthly_features_output[monthly_features_output['ME_DT'] <= '2013-12-31'].drop(['response','CLNT_NO','ME_DT'], axis = 1)\n",
        "y_pre_dec = monthly_features_output[monthly_features_output['ME_DT'] <= '2013-12-31']['response']"
      ],
      "metadata": {
        "id": "AfvL_kNSTqRL"
      },
      "execution_count": 9,
      "outputs": []
    },
    {
      "cell_type": "markdown",
      "source": [
        "Train model"
      ],
      "metadata": {
        "id": "nmYwzXWLqCny"
      }
    },
    {
      "cell_type": "code",
      "source": [
        "randomtree_ann = RandomForestClassifier(random_state=0, max_depth = 1, n_estimators=36, max_features = 14)\n",
        "randomtree_ann.fit(X_pre_dec, y_pre_dec) # fit non scaled data"
      ],
      "metadata": {
        "colab": {
          "base_uri": "https://localhost:8080/"
        },
        "id": "0nXYY8mcdBRm",
        "outputId": "397cb472-a321-4315-b4f5-484fa0ef3bf9"
      },
      "execution_count": 10,
      "outputs": [
        {
          "output_type": "execute_result",
          "data": {
            "text/plain": [
              "RandomForestClassifier(max_depth=1, max_features=14, n_estimators=36,\n",
              "                       random_state=0)"
            ]
          },
          "metadata": {},
          "execution_count": 10
        }
      ]
    },
    {
      "cell_type": "markdown",
      "source": [
        "Capturing feature importances"
      ],
      "metadata": {
        "id": "inCydUqoqEKr"
      }
    },
    {
      "cell_type": "code",
      "source": [
        "importances_pre_dec = randomtree_ann.feature_importances_\n",
        "importances_pre_dec"
      ],
      "metadata": {
        "colab": {
          "base_uri": "https://localhost:8080/"
        },
        "id": "tPVRTPVUjtSP",
        "outputId": "8c116935-8983-4d4f-93da-459340156b14"
      },
      "execution_count": 11,
      "outputs": [
        {
          "output_type": "execute_result",
          "data": {
            "text/plain": [
              "array([0.        , 0.        , 0.        , 0.        , 0.05555556,\n",
              "       0.        , 0.        , 0.        , 0.13888889, 0.05555556,\n",
              "       0.41666667, 0.        , 0.        , 0.        , 0.25      ,\n",
              "       0.08333333, 0.        , 0.        , 0.        , 0.        ,\n",
              "       0.        , 0.        , 0.        , 0.        , 0.        ,\n",
              "       0.        , 0.        , 0.        ])"
            ]
          },
          "metadata": {},
          "execution_count": 11
        }
      ]
    },
    {
      "cell_type": "code",
      "source": [
        "# Feature importances\n",
        "X_pre_dec.iloc[:, np.argsort(-importances_pre_dec)[:5]].columns.values"
      ],
      "metadata": {
        "colab": {
          "base_uri": "https://localhost:8080/"
        },
        "id": "JzZ6_KZRb9ja",
        "outputId": "f5fff5bb-5f8f-4e86-8295-0db79aa95ba3"
      },
      "execution_count": 12,
      "outputs": [
        {
          "output_type": "execute_result",
          "data": {
            "text/plain": [
              "array(['amt_max_6M', 'amt_sum_12M', 'amt_sum_6M', 'amt_mean_12M',\n",
              "       'amt_max_3M'], dtype=object)"
            ]
          },
          "metadata": {},
          "execution_count": 12
        }
      ]
    },
    {
      "cell_type": "markdown",
      "source": [
        "### Training Score (Baseline Score)"
      ],
      "metadata": {
        "id": "Anh-R0rV9cur"
      }
    },
    {
      "cell_type": "code",
      "source": [
        "baseline_scores = randomtree_ann.predict_proba(X_pre_dec)[:,1]"
      ],
      "metadata": {
        "id": "PdOQhv9Gb9lu"
      },
      "execution_count": 13,
      "outputs": []
    },
    {
      "cell_type": "code",
      "source": [
        "baseline_scores.max()"
      ],
      "metadata": {
        "colab": {
          "base_uri": "https://localhost:8080/"
        },
        "id": "uA82aNdcXE3Y",
        "outputId": "3fe60c28-e4c8-4d45-f434-f3f26dc3b1be"
      },
      "execution_count": 14,
      "outputs": [
        {
          "output_type": "execute_result",
          "data": {
            "text/plain": [
              "0.11947352444117532"
            ]
          },
          "metadata": {},
          "execution_count": 14
        }
      ]
    },
    {
      "cell_type": "code",
      "source": [
        "baseline_scores = baseline_scores/baseline_scores.max()\n",
        "ax = sns.histplot(baseline_scores,                \n",
        "                  color='red',\n",
        "                  bins=10)\n",
        "ax.set(xlabel='Baseline Score', ylabel='Frequency')"
      ],
      "metadata": {
        "colab": {
          "base_uri": "https://localhost:8080/",
          "height": 298
        },
        "id": "j3n2u6TfostX",
        "outputId": "ddebef51-7161-42bd-c339-59f8266f1cc6"
      },
      "execution_count": 15,
      "outputs": [
        {
          "output_type": "execute_result",
          "data": {
            "text/plain": [
              "[Text(0, 0.5, 'Frequency'), Text(0.5, 0, 'Baseline Score')]"
            ]
          },
          "metadata": {},
          "execution_count": 15
        },
        {
          "output_type": "display_data",
          "data": {
            "text/plain": [
              "<Figure size 432x288 with 1 Axes>"
            ],
            "image/png": "[encoded data removed]"
          },
          "metadata": {
            "needs_background": "light"
          }
        }
      ]
    },
    {
      "cell_type": "markdown",
      "source": [
        "### Baseline P-vector"
      ],
      "metadata": {
        "id": "_4b4mIJF-DwY"
      }
    },
    {
      "cell_type": "code",
      "source": [
        "p_histz, bin_edge = pd.qcut(baseline_scores, 11, labels = False, retbins=True, duplicates = 'drop')\n",
        "p = pd.Series(p_histz).value_counts().to_numpy()\n",
        "bin_edge[0] = 0\n",
        "p, bin_edge"
      ],
      "metadata": {
        "colab": {
          "base_uri": "https://localhost:8080/"
        },
        "id": "5qIpAAeBllNH",
        "outputId": "e960d7fc-b06e-490f-94e6-62ac3cd636eb"
      },
      "execution_count": 16,
      "outputs": [
        {
          "output_type": "execute_result",
          "data": {
            "text/plain": [
              "(array([100577,  35203,  24089,  20974,  20104,  19341]),\n",
              " array([0.        , 0.70078222, 0.79458372, 0.86097615, 0.91349878,\n",
              "        0.97989121, 1.        ]))"
            ]
          },
          "metadata": {},
          "execution_count": 16
        }
      ]
    },
    {
      "cell_type": "markdown",
      "source": [
        "Check binning"
      ],
      "metadata": {
        "id": "fB7Fc6GLqMCp"
      }
    },
    {
      "cell_type": "code",
      "source": [
        "sns.histplot(p_histz)"
      ],
      "metadata": {
        "colab": {
          "base_uri": "https://localhost:8080/",
          "height": 284
        },
        "id": "RK_Ou4dbmRlf",
        "outputId": "3353d6ca-28fb-4aa4-b01e-9a9aa24374cd"
      },
      "execution_count": 17,
      "outputs": [
        {
          "output_type": "execute_result",
          "data": {
            "text/plain": [
              "<matplotlib.axes._subplots.AxesSubplot at 0x7f63f699c2d0>"
            ]
          },
          "metadata": {},
          "execution_count": 17
        },
        {
          "output_type": "display_data",
          "data": {
            "text/plain": [
              "<Figure size 432x288 with 1 Axes>"
            ],
            "image/png": "[encoded data removed]"
          },
          "metadata": {
            "needs_background": "light"
          }
        }
      ]
    },
    {
      "cell_type": "markdown",
      "source": [
        "### 5 Features Drift"
      ],
      "metadata": {
        "id": "61k7PQxq_qA3"
      }
    },
    {
      "cell_type": "code",
      "source": [
        "five_feature = X_pre_dec[X_pre_dec.iloc[:, np.argsort(-importances_pre_dec)[:5]].columns.values]\n",
        "feature_baseline_scores = []\n",
        "for i in range(5):\n",
        "  temp = five_feature.iloc[:,i]\n",
        "  feature_baseline_scores.append(temp)\n"
      ],
      "metadata": {
        "id": "r3oieAY-_apG"
      },
      "execution_count": 18,
      "outputs": []
    },
    {
      "cell_type": "code",
      "source": [
        "five_feature.columns"
      ],
      "metadata": {
        "colab": {
          "base_uri": "https://localhost:8080/"
        },
        "id": "ej08DM3T5i2Y",
        "outputId": "cdc2277b-8b1c-4334-8a12-25b1c65b2a46"
      },
      "execution_count": 19,
      "outputs": [
        {
          "output_type": "execute_result",
          "data": {
            "text/plain": [
              "Index(['amt_max_6M', 'amt_sum_12M', 'amt_sum_6M', 'amt_mean_12M',\n",
              "       'amt_max_3M'],\n",
              "      dtype='object')"
            ]
          },
          "metadata": {},
          "execution_count": 19
        }
      ]
    },
    {
      "cell_type": "markdown",
      "source": [
        "Count distribution before proper binning"
      ],
      "metadata": {
        "id": "GGApj-uSo8PK"
      }
    },
    {
      "cell_type": "code",
      "source": [
        "plt.figure(figsize=(15, 10))\n",
        "for i in range(5):\n",
        "  plt.subplot(2,3,i+1)\n",
        "  sns.histplot(feature_baseline_scores[i],                \n",
        "                  color='red',\n",
        "                  bins=10)\n",
        "  plt.title(X_pre_dec.iloc[:, np.argsort(-importances_pre_dec)[:5]].columns.values[i])\n",
        "  plt.xlabel('Baseline Score')\n",
        "  plt.ylabel('Frequency')\n",
        "\n",
        "plt.show()"
      ],
      "metadata": {
        "id": "C2Bxd4gMyU0j",
        "colab": {
          "base_uri": "https://localhost:8080/",
          "height": 621
        },
        "outputId": "05484b45-6b1a-4290-caeb-ede198eaf064"
      },
      "execution_count": 20,
      "outputs": [
        {
          "output_type": "display_data",
          "data": {
            "text/plain": [
              "<Figure size 1080x720 with 5 Axes>"
            ],
            "image/png": "[encoded data removed]"
          },
          "metadata": {
            "needs_background": "light"
          }
        }
      ]
    },
    {
      "cell_type": "code",
      "source": [
        "p_feature = []\n",
        "bin_edge_feature = []\n",
        "for i in range(5):\n",
        "  feat_p_temp, bin_temp = pd.qcut(five_feature.iloc[:,i], 11, labels = False, retbins=True, duplicates = 'drop')\n",
        "  bin_temp[0] = 0\n",
        "  bin_temp[-1] = np.inf\n",
        "  p_feature.append(feat_p_temp)\n",
        "  bin_edge_feature.append(bin_temp)"
      ],
      "metadata": {
        "id": "wTF0joDsa8Sw"
      },
      "execution_count": 21,
      "outputs": []
    },
    {
      "cell_type": "markdown",
      "source": [
        "Duplicates (multiple bin-0s) are removed\n",
        "\n",
        "Check binning"
      ],
      "metadata": {
        "id": "E5ZHgto0pujx"
      }
    },
    {
      "cell_type": "code",
      "source": [
        "plt.figure(figsize=(15, 10))\n",
        "for i in range(5):\n",
        "  plt.subplot(2,3,i+1)\n",
        "  sns.histplot(p_feature[i],                \n",
        "                  color='green')\n",
        "  plt.title(X_pre_dec.iloc[:, np.argsort(-importances_pre_dec)[:5]].columns.values[i])\n",
        "\n",
        "plt.show()"
      ],
      "metadata": {
        "colab": {
          "base_uri": "https://localhost:8080/",
          "height": 622
        },
        "id": "mTADePm9pB66",
        "outputId": "6541bc64-2b36-4644-e88c-10b421de2a2a"
      },
      "execution_count": 22,
      "outputs": [
        {
          "output_type": "display_data",
          "data": {
            "text/plain": [
              "<Figure size 1080x720 with 5 Axes>"
            ],
            "image/png": "[encoded data removed]"
          },
          "metadata": {
            "needs_background": "light"
          }
        }
      ]
    },
    {
      "cell_type": "markdown",
      "source": [
        "# Monthly Score"
      ],
      "metadata": {
        "id": "iJlI2Xwp8aY1"
      }
    },
    {
      "cell_type": "code",
      "source": [
        "# starting 2014 \n",
        "\n",
        "cust_and_date_starting_2014 = monthly_features_output[pd.DatetimeIndex(monthly_features_output['ME_DT']).year >= 2014][['CLNT_NO','ME_DT']]\n",
        "\n",
        "X_starting_2014 = monthly_features_output[pd.DatetimeIndex(monthly_features_output['ME_DT']).year >= 2014] #.drop(['response','CLNT_NO','ME_DT'], axis = 1)\n",
        "\n",
        "year_we_have = X_starting_2014['ME_DT'].dt.year.unique()\n",
        "month_we_have = X_starting_2014['ME_DT'].dt.month.unique()\n"
      ],
      "metadata": {
        "id": "HJnB55ItwH-Q"
      },
      "execution_count": 23,
      "outputs": []
    },
    {
      "cell_type": "markdown",
      "source": [
        "Capture date and Score for every month"
      ],
      "metadata": {
        "id": "mg6YX35wqgNB"
      }
    },
    {
      "cell_type": "code",
      "source": [
        "valz = []\n",
        "date_date = []\n",
        "for i in year_we_have:\n",
        "  for j in month_we_have:\n",
        "    if i == 2015 and j == 4:\n",
        "      break\n",
        "    else:\n",
        "      # print(j)\n",
        "      temp = randomtree_ann.predict_proba(X_starting_2014[(pd.DatetimeIndex(X_starting_2014['ME_DT']).year == i) & (pd.DatetimeIndex(X_starting_2014['ME_DT']).month == j)].drop(['response','CLNT_NO','ME_DT'], axis = 1))\n",
        "      temp = temp[:,1]/temp[:,1].max()\n",
        "      date_date.append(X_starting_2014[(pd.DatetimeIndex(X_starting_2014['ME_DT']).year == i) & (pd.DatetimeIndex(X_starting_2014['ME_DT']).month == j)]['ME_DT'].dt.date.unique()[0])\n",
        "      valz.append(temp)"
      ],
      "metadata": {
        "id": "9SOrXfIXld8o"
      },
      "execution_count": 66,
      "outputs": []
    },
    {
      "cell_type": "markdown",
      "source": [
        "Convert to q vector"
      ],
      "metadata": {
        "id": "l3kxnORAqw_r"
      }
    },
    {
      "cell_type": "code",
      "source": [
        "q_list = []\n",
        "for i in range(len(valz)):\n",
        "  tempa, tempb = np.histogram(valz[i], bin_edge)\n",
        "  q_list.append(tempa)\n"
      ],
      "metadata": {
        "id": "1CGmaXx_q_M_"
      },
      "execution_count": 26,
      "outputs": []
    },
    {
      "cell_type": "markdown",
      "source": [
        "Calculate Jensen-Shannon divergence value"
      ],
      "metadata": {
        "id": "Bj3k9_Brqzlo"
      }
    },
    {
      "cell_type": "code",
      "source": [
        "score_jensenshannon = []\n",
        "for i in range(len(q_list)):\n",
        "  score_jensenshannon.append(distance.jensenshannon(p, q_list[i], 2.0))\n"
      ],
      "metadata": {
        "id": "PPzZctlMx5JB"
      },
      "execution_count": 27,
      "outputs": []
    },
    {
      "cell_type": "markdown",
      "source": [
        "# Features"
      ],
      "metadata": {
        "id": "oxqfhQPC4p6Q"
      }
    },
    {
      "cell_type": "code",
      "source": [
        "five_feature.columns"
      ],
      "metadata": {
        "colab": {
          "base_uri": "https://localhost:8080/"
        },
        "id": "9BRyBUdL5T1d",
        "outputId": "4ba3b878-746f-4b46-ed26-8571932b87c1"
      },
      "execution_count": 28,
      "outputs": [
        {
          "output_type": "execute_result",
          "data": {
            "text/plain": [
              "Index(['amt_max_6M', 'amt_sum_12M', 'amt_sum_6M', 'amt_mean_12M',\n",
              "       'amt_max_3M'],\n",
              "      dtype='object')"
            ]
          },
          "metadata": {},
          "execution_count": 28
        }
      ]
    },
    {
      "cell_type": "code",
      "source": [
        "p_feature_array = []\n",
        "for i in range(5):\n",
        "  p_feature_array.append(p_feature[i].value_counts().to_numpy())\n"
      ],
      "metadata": {
        "id": "pzRwWqUC9A1V"
      },
      "execution_count": 29,
      "outputs": []
    },
    {
      "cell_type": "code",
      "source": [
        "feature_bank = []\n",
        "\n",
        "for i in year_we_have:\n",
        "  for j in month_we_have:\n",
        "    if i == 2015 and j == 4:\n",
        "      break\n",
        "    else:\n",
        "      temp = X_starting_2014[(pd.DatetimeIndex(X_starting_2014['ME_DT']).year == i) & (pd.DatetimeIndex(X_starting_2014['ME_DT']).month == j)][five_feature.columns]\n",
        "      feature_bank.append(temp)\n"
      ],
      "metadata": {
        "id": "2EX8EJxe6zPR"
      },
      "execution_count": 30,
      "outputs": []
    },
    {
      "cell_type": "markdown",
      "source": [
        "Capturing Jensen-Shannon Divergence Value for each feature per month"
      ],
      "metadata": {
        "id": "dzNnmjNBq6ez"
      }
    },
    {
      "cell_type": "code",
      "source": [
        "# len(feature_bank)\n",
        "q_feature = []\n",
        "feat_1 = []\n",
        "feat_2 = []\n",
        "feat_3 = []\n",
        "feat_4 = []\n",
        "feat_5 = []\n",
        "\n",
        "for i in range(len(feature_bank)): # months\n",
        "  for j in range(5): # 5 feature\n",
        "    if j == 0:\n",
        "      temp,_ = np.histogram(feature_bank[i].iloc[:,j].to_numpy(), bin_edge_feature[j])\n",
        "      rez = distance.jensenshannon(p_feature_array[j], temp, 2.0)\n",
        "      feat_1.append(rez)\n",
        "    elif j == 1:\n",
        "      temp,_ = np.histogram(feature_bank[i].iloc[:,j].to_numpy(), bin_edge_feature[j])\n",
        "      rez = distance.jensenshannon(p_feature_array[j], temp, 2.0)\n",
        "      feat_2.append(rez)\n",
        "    elif j == 2:\n",
        "      temp,_ = np.histogram(feature_bank[i].iloc[:,j].to_numpy(), bin_edge_feature[j])\n",
        "      rez = distance.jensenshannon(p_feature_array[j], temp, 2.0)\n",
        "      feat_3.append(rez)\n",
        "    elif j == 3:\n",
        "      temp,_ = np.histogram(feature_bank[i].iloc[:,j].to_numpy(), bin_edge_feature[j])\n",
        "      rez = distance.jensenshannon(p_feature_array[j], temp, 2.0)\n",
        "      feat_4.append(rez)\n",
        "    elif j == 4:\n",
        "      temp,_ = np.histogram(feature_bank[i].iloc[:,j].to_numpy(), bin_edge_feature[j])\n",
        "      rez = distance.jensenshannon(p_feature_array[j], temp, 2.0)\n",
        "      feat_5.append(rez)\n"
      ],
      "metadata": {
        "id": "6kKIQzWWAGIP"
      },
      "execution_count": 31,
      "outputs": []
    },
    {
      "cell_type": "markdown",
      "source": [
        "## Dashboard"
      ],
      "metadata": {
        "id": "JAOVLbSkMtbB"
      }
    },
    {
      "cell_type": "code",
      "source": [
        "plt.figure(figsize=(10, 7))\n",
        "plt.scatter(date_date, score_jensenshannon, marker='o', s=60, color = 'gold', label= 'Score')\n",
        "plt.scatter(date_date, feat_1, marker='P',s=60, color = 'red', label= five_feature.columns[0])\n",
        "plt.scatter(date_date, feat_2, marker='8',s=60, color = 'blue', label= five_feature.columns[1])\n",
        "plt.scatter(date_date, feat_3, marker='1',s=60, color = 'Teal', label= five_feature.columns[2])\n",
        "plt.scatter(date_date, feat_4, marker='*',s=60, color = 'Tan', label= five_feature.columns[3])\n",
        "plt.scatter(date_date, feat_5, marker='s',s=60, color = 'SaddleBrown', label= five_feature.columns[4])\n",
        "plt.title('Divergence Value vs Date', fontsize = 20, fontdict=dict(weight='bold'))\n",
        "plt.ylabel('Jensen-Shannon Divergence Value', fontsize = 14, fontdict=dict(weight='bold'))\n",
        "plt.xlabel('Date', fontsize = 14, fontdict=dict(weight='bold'))\n",
        "# plt.xticks(np.arange(0, 51, 5)) \n",
        "plt.xticks(date_date, date_date, rotation ='20')\n",
        "# plt.xticks(date_date)\n",
        "# plt.xticks(np.arange(1,16,1))\n",
        "plt.legend()\n",
        "plt.show()"
      ],
      "metadata": {
        "colab": {
          "base_uri": "https://localhost:8080/",
          "height": 487
        },
        "id": "2uQn5hlR9dKK",
        "outputId": "539577b9-077e-4fc4-a949-57ded74fa69c"
      },
      "execution_count": 70,
      "outputs": [
        {
          "output_type": "display_data",
          "data": {
            "text/plain": [
              "<Figure size 720x504 with 1 Axes>"
            ],
            "image/png": "[encoded data removed]"
          },
          "metadata": {
            "needs_background": "light"
          }
        }
      ]
    },
    {
      "cell_type": "markdown",
      "source": [
        "### Intepretation and Comments\n",
        "\n",
        "- The Jensen-Shannon Divergence Values of scores and 5 features are all below 2. That means, there are not much difference in the distribution. It means there is no drift among the data per each month. \n",
        "- The Jensen-Shannon Divergence value of amt_sum_12m and amt_mean_12m follow closely to each other. It is very obvious that they're the same because they are aggregate values coming from the same data.\n",
        "- In addition to that, the Jensen-Shannon Divergence value of amt_max_6m and amt_sum_6m also follow closely to each other with the same reason.\n",
        "- An interesting observation is that the the Jensen-Shannon Divergence value of scores have the same pattern with amt_max_6m and amt_sum_6m. \n",
        "- During March 2015, the divergence value of scores and the four features above dropped together."
      ],
      "metadata": {
        "id": "aPoQKfyrmage"
      }
    },
    {
      "cell_type": "code",
      "source": [
        ""
      ],
      "metadata": {
        "id": "WT1d55zQbvMu"
      },
      "execution_count": null,
      "outputs": []
    },
    {
      "cell_type": "code",
      "source": [
        ""
      ],
      "metadata": {
        "id": "CLjavNIZn-dr"
      },
      "execution_count": null,
      "outputs": []
    },
    {
      "cell_type": "code",
      "source": [
        ""
      ],
      "metadata": {
        "id": "tK2DH8NRn-bf"
      },
      "execution_count": null,
      "outputs": []
    },
    {
      "cell_type": "code",
      "source": [
        ""
      ],
      "metadata": {
        "id": "F5ICahR0n-Zm"
      },
      "execution_count": null,
      "outputs": []
    },
    {
      "cell_type": "code",
      "source": [
        ""
      ],
      "metadata": {
        "id": "cEmFDruTn-Xi"
      },
      "execution_count": null,
      "outputs": []
    },
    {
      "cell_type": "code",
      "source": [
        ""
      ],
      "metadata": {
        "id": "ux2POzNdn-Vc"
      },
      "execution_count": null,
      "outputs": []
    },
    {
      "cell_type": "code",
      "source": [
        ""
      ],
      "metadata": {
        "id": "MdH7X_oFn-Tf"
      },
      "execution_count": null,
      "outputs": []
    },
    {
      "cell_type": "code",
      "source": [
        ""
      ],
      "metadata": {
        "id": "-rfdOKVXn-RO"
      },
      "execution_count": null,
      "outputs": []
    }
  ]
}