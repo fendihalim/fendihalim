{
  "nbformat": 4,
  "nbformat_minor": 0,
  "metadata": {
    "colab": {
      "name": "random_forest_data_quality_v1_needrev.ipynb",
      "provenance": [],
      "collapsed_sections": []
    },
    "kernelspec": {
      "name": "python3",
      "display_name": "Python 3"
    },
    "language_info": {
      "name": "python"
    }
  },
  "cells": [
    {
      "cell_type": "markdown",
      "source": [
        "# CHE 1148 Assignment 4\n",
        "Name: Fendi Halim Tjoa\n",
        "\n",
        "Student ID: 100753017\n",
        "\n",
        "Instructor: Nikolaos Anesiadis\n",
        "\n",
        "TA: Kavya Siddartha\n",
        "\n",
        "Note: This notebook runs on google colab\n"
      ],
      "metadata": {
        "id": "FcRwTF9Fl0So"
      }
    },
    {
      "cell_type": "code",
      "execution_count": null,
      "metadata": {
        "id": "ILBb5VvDjrAy"
      },
      "outputs": [],
      "source": [
        "import numpy as np\n",
        "import pandas as pd\n",
        "import random\n",
        "import seaborn as sns\n",
        "import matplotlib.pyplot as plt\n",
        "from matplotlib.ticker import MaxNLocator\n",
        "from sklearn.cross_decomposition import PLSRegression\n",
        "from pandas.tseries.offsets import DateOffset\n",
        "from itertools import product\n",
        "from pandas.tseries.offsets import MonthEnd \n",
        "from sklearn.model_selection import train_test_split\n",
        "from matplotlib.ticker import PercentFormatter\n",
        "from sklearn.tree import DecisionTreeClassifier, plot_tree\n",
        "from sklearn.ensemble import RandomForestClassifier"
      ]
    },
    {
      "cell_type": "code",
      "source": [
        "from google.colab import drive\n",
        "drive.mount('/content/gdrive')"
      ],
      "metadata": {
        "colab": {
          "base_uri": "https://localhost:8080/"
        },
        "id": "bGe77TGLkBXe",
        "outputId": "21aae2a0-0a87-4a09-a2e4-20da253080cc"
      },
      "execution_count": null,
      "outputs": [
        {
          "output_type": "stream",
          "name": "stdout",
          "text": [
            "Mounted at /content/gdrive\n"
          ]
        }
      ]
    },
    {
      "cell_type": "code",
      "source": [
        "Retail_Data_Response = pd.read_csv('/content/gdrive/MyDrive/Colab Notebooks/Retail_Data_Response.csv') #import Retail_Data_Transactions.csv as pd dataframe\n",
        "annual_features = pd.read_excel('/content/gdrive/MyDrive/Colab Notebooks/annual_features.xlsx') #import Retail_Data_Transactions.csv as pd dataframe\n",
        "annual_day_of_week_counts_pivot = pd.read_excel('/content/gdrive/MyDrive/Colab Notebooks/annual_day_of_week_counts_pivot.xlsx') #import Retail_Data_Transactions.csv as pd dataframe"
      ],
      "metadata": {
        "id": "FRv2CaAWmO-J"
      },
      "execution_count": null,
      "outputs": []
    },
    {
      "cell_type": "markdown",
      "source": [
        "Creating annual_features_output table"
      ],
      "metadata": {
        "id": "jqs_xDrTmcsk"
      }
    },
    {
      "cell_type": "code",
      "source": [
        "annual_features_output = annual_features.merge(annual_day_of_week_counts_pivot, on = 'customer_id')\n",
        "annual_features_output = annual_features_output.merge(Retail_Data_Response, on ='customer_id')\n",
        "annual_features_output.set_index('customer_id', inplace = True)\n",
        "annual_features_output"
      ],
      "metadata": {
        "colab": {
          "base_uri": "https://localhost:8080/",
          "height": 519
        },
        "id": "SRFzgcvqmV42",
        "outputId": "92567612-e2cc-4914-a349-b19ec84df683"
      },
      "execution_count": null,
      "outputs": [
        {
          "output_type": "execute_result",
          "data": {
            "text/plain": [
              "             ann_txn_amt_ave_2011  ann_txn_amt_ave_2012  ann_txn_amt_ave_2013  \\\n",
              "customer_id                                                                     \n",
              "CS1112                  70.666667             67.400000             70.666667   \n",
              "CS1113                  81.333333             74.800000             85.200000   \n",
              "CS1114                  85.200000             75.000000             70.400000   \n",
              "CS1115                  87.000000             67.571429             79.571429   \n",
              "CS1116                  58.750000             76.666667             59.000000   \n",
              "...                           ...                   ...                   ...   \n",
              "CS8996                  31.000000             33.666667             41.500000   \n",
              "CS8997                  45.000000             39.500000             35.166667   \n",
              "CS8998                  64.000000             54.400000             47.000000   \n",
              "CS8999                  52.000000             25.250000             28.000000   \n",
              "CS9000                  19.500000             54.000000             73.500000   \n",
              "\n",
              "             ann_txn_amt_ave_2014  ann_txn_amt_ave_2015  ann_txn_amt_cnt_2011  \\\n",
              "customer_id                                                                     \n",
              "CS1112                  70.666667             39.000000                     3   \n",
              "CS1113                  56.500000             73.333333                     3   \n",
              "CS1114                  70.833333             79.000000                     5   \n",
              "CS1115                  78.250000             55.000000                     3   \n",
              "CS1116                  66.600000              0.000000                     4   \n",
              "...                           ...                   ...                   ...   \n",
              "CS8996                  56.000000              0.000000                     2   \n",
              "CS8997                  42.000000              0.000000                     2   \n",
              "CS8998                  32.500000              0.000000                     2   \n",
              "CS8999                  21.000000              0.000000                     3   \n",
              "CS9000                  24.250000             34.000000                     2   \n",
              "\n",
              "             ann_txn_amt_cnt_2012  ann_txn_amt_cnt_2013  ann_txn_amt_cnt_2014  \\\n",
              "customer_id                                                                     \n",
              "CS1112                          5                     3                     3   \n",
              "CS1113                          5                     5                     4   \n",
              "CS1114                          2                     5                     6   \n",
              "CS1115                          7                     7                     4   \n",
              "CS1116                          3                     1                     5   \n",
              "...                           ...                   ...                   ...   \n",
              "CS8996                          3                     2                     6   \n",
              "CS8997                          4                     6                     2   \n",
              "CS8998                          5                     2                     4   \n",
              "CS8999                          4                     3                     2   \n",
              "CS9000                          4                     2                     4   \n",
              "\n",
              "             ann_txn_amt_cnt_2015  ...  cnt_2014_Tuesday  cnt_2014_Wednesday  \\\n",
              "customer_id                        ...                                         \n",
              "CS1112                          1  ...                 1                   1   \n",
              "CS1113                          3  ...                 3                   0   \n",
              "CS1114                          1  ...                 1                   1   \n",
              "CS1115                          1  ...                 0                   2   \n",
              "CS1116                          0  ...                 0                   0   \n",
              "...                           ...  ...               ...                 ...   \n",
              "CS8996                          0  ...                 1                   2   \n",
              "CS8997                          0  ...                 0                   0   \n",
              "CS8998                          0  ...                 1                   1   \n",
              "CS8999                          0  ...                 0                   2   \n",
              "CS9000                          1  ...                 1                   0   \n",
              "\n",
              "             cnt_2015_Friday  cnt_2015_Monday  cnt_2015_Saturday  \\\n",
              "customer_id                                                        \n",
              "CS1112                     0                0                  0   \n",
              "CS1113                     0                2                  0   \n",
              "CS1114                     0                0                  0   \n",
              "CS1115                     0                0                  0   \n",
              "CS1116                     0                0                  0   \n",
              "...                      ...              ...                ...   \n",
              "CS8996                     0                0                  0   \n",
              "CS8997                     0                0                  0   \n",
              "CS8998                     0                0                  0   \n",
              "CS8999                     0                0                  0   \n",
              "CS9000                     0                0                  1   \n",
              "\n",
              "             cnt_2015_Sunday  cnt_2015_Thursday  cnt_2015_Tuesday  \\\n",
              "customer_id                                                         \n",
              "CS1112                     0                  0                 0   \n",
              "CS1113                     0                  0                 0   \n",
              "CS1114                     0                  1                 0   \n",
              "CS1115                     0                  1                 0   \n",
              "CS1116                     0                  0                 0   \n",
              "...                      ...                ...               ...   \n",
              "CS8996                     0                  0                 0   \n",
              "CS8997                     0                  0                 0   \n",
              "CS8998                     0                  0                 0   \n",
              "CS8999                     0                  0                 0   \n",
              "CS9000                     0                  0                 0   \n",
              "\n",
              "             cnt_2015_Wednesday  response  \n",
              "customer_id                                \n",
              "CS1112                        1         0  \n",
              "CS1113                        1         0  \n",
              "CS1114                        0         1  \n",
              "CS1115                        0         1  \n",
              "CS1116                        0         1  \n",
              "...                         ...       ...  \n",
              "CS8996                        0         0  \n",
              "CS8997                        0         0  \n",
              "CS8998                        0         0  \n",
              "CS8999                        0         0  \n",
              "CS9000                        0         0  \n",
              "\n",
              "[6884 rows x 76 columns]"
            ],
            "text/html": [
              "\n",
              "  <div id=\"df-8d2d9512-f374-4354-a47c-42120c60f27c\">\n",
              "    <div class=\"colab-df-container\">\n",
              "      <div>\n",
              "<style scoped>\n",
              "    .dataframe tbody tr th:only-of-type {\n",
              "        vertical-align: middle;\n",
              "    }\n",
              "\n",
              "    .dataframe tbody tr th {\n",
              "        vertical-align: top;\n",
              "    }\n",
              "\n",
              "    .dataframe thead th {\n",
              "        text-align: right;\n",
              "    }\n",
              "</style>\n",
              "<table border=\"1\" class=\"dataframe\">\n",
              "  <thead>\n",
              "    <tr style=\"text-align: right;\">\n",
              "      <th></th>\n",
              "      <th>ann_txn_amt_ave_2011</th>\n",
              "      <th>ann_txn_amt_ave_2012</th>\n",
              "      <th>ann_txn_amt_ave_2013</th>\n",
              "      <th>ann_txn_amt_ave_2014</th>\n",
              "      <th>ann_txn_amt_ave_2015</th>\n",
              "      <th>ann_txn_amt_cnt_2011</th>\n",
              "      <th>ann_txn_amt_cnt_2012</th>\n",
              "      <th>ann_txn_amt_cnt_2013</th>\n",
              "      <th>ann_txn_amt_cnt_2014</th>\n",
              "      <th>ann_txn_amt_cnt_2015</th>\n",
              "      <th>...</th>\n",
              "      <th>cnt_2014_Tuesday</th>\n",
              "      <th>cnt_2014_Wednesday</th>\n",
              "      <th>cnt_2015_Friday</th>\n",
              "      <th>cnt_2015_Monday</th>\n",
              "      <th>cnt_2015_Saturday</th>\n",
              "      <th>cnt_2015_Sunday</th>\n",
              "      <th>cnt_2015_Thursday</th>\n",
              "      <th>cnt_2015_Tuesday</th>\n",
              "      <th>cnt_2015_Wednesday</th>\n",
              "      <th>response</th>\n",
              "    </tr>\n",
              "    <tr>\n",
              "      <th>customer_id</th>\n",
              "      <th></th>\n",
              "      <th></th>\n",
              "      <th></th>\n",
              "      <th></th>\n",
              "      <th></th>\n",
              "      <th></th>\n",
              "      <th></th>\n",
              "      <th></th>\n",
              "      <th></th>\n",
              "      <th></th>\n",
              "      <th></th>\n",
              "      <th></th>\n",
              "      <th></th>\n",
              "      <th></th>\n",
              "      <th></th>\n",
              "      <th></th>\n",
              "      <th></th>\n",
              "      <th></th>\n",
              "      <th></th>\n",
              "      <th></th>\n",
              "      <th></th>\n",
              "    </tr>\n",
              "  </thead>\n",
              "  <tbody>\n",
              "    <tr>\n",
              "      <th>CS1112</th>\n",
              "      <td>70.666667</td>\n",
              "      <td>67.400000</td>\n",
              "      <td>70.666667</td>\n",
              "      <td>70.666667</td>\n",
              "      <td>39.000000</td>\n",
              "      <td>3</td>\n",
              "      <td>5</td>\n",
              "      <td>3</td>\n",
              "      <td>3</td>\n",
              "      <td>1</td>\n",
              "      <td>...</td>\n",
              "      <td>1</td>\n",
              "      <td>1</td>\n",
              "      <td>0</td>\n",
              "      <td>0</td>\n",
              "      <td>0</td>\n",
              "      <td>0</td>\n",
              "      <td>0</td>\n",
              "      <td>0</td>\n",
              "      <td>1</td>\n",
              "      <td>0</td>\n",
              "    </tr>\n",
              "    <tr>\n",
              "      <th>CS1113</th>\n",
              "      <td>81.333333</td>\n",
              "      <td>74.800000</td>\n",
              "      <td>85.200000</td>\n",
              "      <td>56.500000</td>\n",
              "      <td>73.333333</td>\n",
              "      <td>3</td>\n",
              "      <td>5</td>\n",
              "      <td>5</td>\n",
              "      <td>4</td>\n",
              "      <td>3</td>\n",
              "      <td>...</td>\n",
              "      <td>3</td>\n",
              "      <td>0</td>\n",
              "      <td>0</td>\n",
              "      <td>2</td>\n",
              "      <td>0</td>\n",
              "      <td>0</td>\n",
              "      <td>0</td>\n",
              "      <td>0</td>\n",
              "      <td>1</td>\n",
              "      <td>0</td>\n",
              "    </tr>\n",
              "    <tr>\n",
              "      <th>CS1114</th>\n",
              "      <td>85.200000</td>\n",
              "      <td>75.000000</td>\n",
              "      <td>70.400000</td>\n",
              "      <td>70.833333</td>\n",
              "      <td>79.000000</td>\n",
              "      <td>5</td>\n",
              "      <td>2</td>\n",
              "      <td>5</td>\n",
              "      <td>6</td>\n",
              "      <td>1</td>\n",
              "      <td>...</td>\n",
              "      <td>1</td>\n",
              "      <td>1</td>\n",
              "      <td>0</td>\n",
              "      <td>0</td>\n",
              "      <td>0</td>\n",
              "      <td>0</td>\n",
              "      <td>1</td>\n",
              "      <td>0</td>\n",
              "      <td>0</td>\n",
              "      <td>1</td>\n",
              "    </tr>\n",
              "    <tr>\n",
              "      <th>CS1115</th>\n",
              "      <td>87.000000</td>\n",
              "      <td>67.571429</td>\n",
              "      <td>79.571429</td>\n",
              "      <td>78.250000</td>\n",
              "      <td>55.000000</td>\n",
              "      <td>3</td>\n",
              "      <td>7</td>\n",
              "      <td>7</td>\n",
              "      <td>4</td>\n",
              "      <td>1</td>\n",
              "      <td>...</td>\n",
              "      <td>0</td>\n",
              "      <td>2</td>\n",
              "      <td>0</td>\n",
              "      <td>0</td>\n",
              "      <td>0</td>\n",
              "      <td>0</td>\n",
              "      <td>1</td>\n",
              "      <td>0</td>\n",
              "      <td>0</td>\n",
              "      <td>1</td>\n",
              "    </tr>\n",
              "    <tr>\n",
              "      <th>CS1116</th>\n",
              "      <td>58.750000</td>\n",
              "      <td>76.666667</td>\n",
              "      <td>59.000000</td>\n",
              "      <td>66.600000</td>\n",
              "      <td>0.000000</td>\n",
              "      <td>4</td>\n",
              "      <td>3</td>\n",
              "      <td>1</td>\n",
              "      <td>5</td>\n",
              "      <td>0</td>\n",
              "      <td>...</td>\n",
              "      <td>0</td>\n",
              "      <td>0</td>\n",
              "      <td>0</td>\n",
              "      <td>0</td>\n",
              "      <td>0</td>\n",
              "      <td>0</td>\n",
              "      <td>0</td>\n",
              "      <td>0</td>\n",
              "      <td>0</td>\n",
              "      <td>1</td>\n",
              "    </tr>\n",
              "    <tr>\n",
              "      <th>...</th>\n",
              "      <td>...</td>\n",
              "      <td>...</td>\n",
              "      <td>...</td>\n",
              "      <td>...</td>\n",
              "      <td>...</td>\n",
              "      <td>...</td>\n",
              "      <td>...</td>\n",
              "      <td>...</td>\n",
              "      <td>...</td>\n",
              "      <td>...</td>\n",
              "      <td>...</td>\n",
              "      <td>...</td>\n",
              "      <td>...</td>\n",
              "      <td>...</td>\n",
              "      <td>...</td>\n",
              "      <td>...</td>\n",
              "      <td>...</td>\n",
              "      <td>...</td>\n",
              "      <td>...</td>\n",
              "      <td>...</td>\n",
              "      <td>...</td>\n",
              "    </tr>\n",
              "    <tr>\n",
              "      <th>CS8996</th>\n",
              "      <td>31.000000</td>\n",
              "      <td>33.666667</td>\n",
              "      <td>41.500000</td>\n",
              "      <td>56.000000</td>\n",
              "      <td>0.000000</td>\n",
              "      <td>2</td>\n",
              "      <td>3</td>\n",
              "      <td>2</td>\n",
              "      <td>6</td>\n",
              "      <td>0</td>\n",
              "      <td>...</td>\n",
              "      <td>1</td>\n",
              "      <td>2</td>\n",
              "      <td>0</td>\n",
              "      <td>0</td>\n",
              "      <td>0</td>\n",
              "      <td>0</td>\n",
              "      <td>0</td>\n",
              "      <td>0</td>\n",
              "      <td>0</td>\n",
              "      <td>0</td>\n",
              "    </tr>\n",
              "    <tr>\n",
              "      <th>CS8997</th>\n",
              "      <td>45.000000</td>\n",
              "      <td>39.500000</td>\n",
              "      <td>35.166667</td>\n",
              "      <td>42.000000</td>\n",
              "      <td>0.000000</td>\n",
              "      <td>2</td>\n",
              "      <td>4</td>\n",
              "      <td>6</td>\n",
              "      <td>2</td>\n",
              "      <td>0</td>\n",
              "      <td>...</td>\n",
              "      <td>0</td>\n",
              "      <td>0</td>\n",
              "      <td>0</td>\n",
              "      <td>0</td>\n",
              "      <td>0</td>\n",
              "      <td>0</td>\n",
              "      <td>0</td>\n",
              "      <td>0</td>\n",
              "      <td>0</td>\n",
              "      <td>0</td>\n",
              "    </tr>\n",
              "    <tr>\n",
              "      <th>CS8998</th>\n",
              "      <td>64.000000</td>\n",
              "      <td>54.400000</td>\n",
              "      <td>47.000000</td>\n",
              "      <td>32.500000</td>\n",
              "      <td>0.000000</td>\n",
              "      <td>2</td>\n",
              "      <td>5</td>\n",
              "      <td>2</td>\n",
              "      <td>4</td>\n",
              "      <td>0</td>\n",
              "      <td>...</td>\n",
              "      <td>1</td>\n",
              "      <td>1</td>\n",
              "      <td>0</td>\n",
              "      <td>0</td>\n",
              "      <td>0</td>\n",
              "      <td>0</td>\n",
              "      <td>0</td>\n",
              "      <td>0</td>\n",
              "      <td>0</td>\n",
              "      <td>0</td>\n",
              "    </tr>\n",
              "    <tr>\n",
              "      <th>CS8999</th>\n",
              "      <td>52.000000</td>\n",
              "      <td>25.250000</td>\n",
              "      <td>28.000000</td>\n",
              "      <td>21.000000</td>\n",
              "      <td>0.000000</td>\n",
              "      <td>3</td>\n",
              "      <td>4</td>\n",
              "      <td>3</td>\n",
              "      <td>2</td>\n",
              "      <td>0</td>\n",
              "      <td>...</td>\n",
              "      <td>0</td>\n",
              "      <td>2</td>\n",
              "      <td>0</td>\n",
              "      <td>0</td>\n",
              "      <td>0</td>\n",
              "      <td>0</td>\n",
              "      <td>0</td>\n",
              "      <td>0</td>\n",
              "      <td>0</td>\n",
              "      <td>0</td>\n",
              "    </tr>\n",
              "    <tr>\n",
              "      <th>CS9000</th>\n",
              "      <td>19.500000</td>\n",
              "      <td>54.000000</td>\n",
              "      <td>73.500000</td>\n",
              "      <td>24.250000</td>\n",
              "      <td>34.000000</td>\n",
              "      <td>2</td>\n",
              "      <td>4</td>\n",
              "      <td>2</td>\n",
              "      <td>4</td>\n",
              "      <td>1</td>\n",
              "      <td>...</td>\n",
              "      <td>1</td>\n",
              "      <td>0</td>\n",
              "      <td>0</td>\n",
              "      <td>0</td>\n",
              "      <td>1</td>\n",
              "      <td>0</td>\n",
              "      <td>0</td>\n",
              "      <td>0</td>\n",
              "      <td>0</td>\n",
              "      <td>0</td>\n",
              "    </tr>\n",
              "  </tbody>\n",
              "</table>\n",
              "<p>6884 rows × 76 columns</p>\n",
              "</div>\n",
              "      <button class=\"colab-df-convert\" onclick=\"convertToInteractive('df-8d2d9512-f374-4354-a47c-42120c60f27c')\"\n",
              "              title=\"Convert this dataframe to an interactive table.\"\n",
              "              style=\"display:none;\">\n",
              "        \n",
              "  <svg xmlns=\"http://www.w3.org/2000/svg\" height=\"24px\"viewBox=\"0 0 24 24\"\n",
              "       width=\"24px\">\n",
              "    <path d=\"M0 0h24v24H0V0z\" fill=\"none\"/>\n",
              "    <path d=\"M18.56 5.44l.94 2.06.94-2.06 2.06-.94-2.06-.94-.94-2.06-.94 2.06-2.06.94zm-11 1L8.5 8.5l.94-2.06 2.06-.94-2.06-.94L8.5 2.5l-.94 2.06-2.06.94zm10 10l.94 2.06.94-2.06 2.06-.94-2.06-.94-.94-2.06-.94 2.06-2.06.94z\"/><path d=\"M17.41 7.96l-1.37-1.37c-.4-.4-.92-.59-1.43-.59-.52 0-1.04.2-1.43.59L10.3 9.45l-7.72 7.72c-.78.78-.78 2.05 0 2.83L4 21.41c.39.39.9.59 1.41.59.51 0 1.02-.2 1.41-.59l7.78-7.78 2.81-2.81c.8-.78.8-2.07 0-2.86zM5.41 20L4 18.59l7.72-7.72 1.47 1.35L5.41 20z\"/>\n",
              "  </svg>\n",
              "      </button>\n",
              "      \n",
              "  <style>\n",
              "    .colab-df-container {\n",
              "      display:flex;\n",
              "      flex-wrap:wrap;\n",
              "      gap: 12px;\n",
              "    }\n",
              "\n",
              "    .colab-df-convert {\n",
              "      background-color: #E8F0FE;\n",
              "      border: none;\n",
              "      border-radius: 50%;\n",
              "      cursor: pointer;\n",
              "      display: none;\n",
              "      fill: #1967D2;\n",
              "      height: 32px;\n",
              "      padding: 0 0 0 0;\n",
              "      width: 32px;\n",
              "    }\n",
              "\n",
              "    .colab-df-convert:hover {\n",
              "      background-color: #E2EBFA;\n",
              "      box-shadow: 0px 1px 2px rgba(60, 64, 67, 0.3), 0px 1px 3px 1px rgba(60, 64, 67, 0.15);\n",
              "      fill: #174EA6;\n",
              "    }\n",
              "\n",
              "    [theme=dark] .colab-df-convert {\n",
              "      background-color: #3B4455;\n",
              "      fill: #D2E3FC;\n",
              "    }\n",
              "\n",
              "    [theme=dark] .colab-df-convert:hover {\n",
              "      background-color: #434B5C;\n",
              "      box-shadow: 0px 1px 3px 1px rgba(0, 0, 0, 0.15);\n",
              "      filter: drop-shadow(0px 1px 2px rgba(0, 0, 0, 0.3));\n",
              "      fill: #FFFFFF;\n",
              "    }\n",
              "  </style>\n",
              "\n",
              "      <script>\n",
              "        const buttonEl =\n",
              "          document.querySelector('#df-8d2d9512-f374-4354-a47c-42120c60f27c button.colab-df-convert');\n",
              "        buttonEl.style.display =\n",
              "          google.colab.kernel.accessAllowed ? 'block' : 'none';\n",
              "\n",
              "        async function convertToInteractive(key) {\n",
              "          const element = document.querySelector('#df-8d2d9512-f374-4354-a47c-42120c60f27c');\n",
              "          const dataTable =\n",
              "            await google.colab.kernel.invokeFunction('convertToInteractive',\n",
              "                                                     [key], {});\n",
              "          if (!dataTable) return;\n",
              "\n",
              "          const docLinkHtml = 'Like what you see? Visit the ' +\n",
              "            '<a target=\"_blank\" href=https://colab.research.google.com/notebooks/data_table.ipynb>data table notebook</a>'\n",
              "            + ' to learn more about interactive tables.';\n",
              "          element.innerHTML = '';\n",
              "          dataTable['output_type'] = 'display_data';\n",
              "          await google.colab.output.renderOutput(dataTable, element);\n",
              "          const docLink = document.createElement('div');\n",
              "          docLink.innerHTML = docLinkHtml;\n",
              "          element.appendChild(docLink);\n",
              "        }\n",
              "      </script>\n",
              "    </div>\n",
              "  </div>\n",
              "  "
            ]
          },
          "metadata": {},
          "execution_count": 4
        }
      ]
    },
    {
      "cell_type": "markdown",
      "source": [
        ""
      ],
      "metadata": {
        "id": "EsfkI1HUmmwl"
      }
    },
    {
      "cell_type": "code",
      "source": [
        "X_annual = annual_features_output.drop(['response'], axis = 1)\n",
        "y_annual = annual_features_output['response']\n",
        "##\n",
        "X_train_annual, X_test_annual, y_train_annual, y_test_annual = train_test_split(X_annual, y_annual, test_size=2/3, random_state=1147)"
      ],
      "metadata": {
        "id": "JfMUy8FWmjVj"
      },
      "execution_count": null,
      "outputs": []
    },
    {
      "cell_type": "markdown",
      "source": [
        "## Using the whole data set"
      ],
      "metadata": {
        "id": "r11NMDHUniTA"
      }
    },
    {
      "cell_type": "code",
      "source": [
        "x_colz = (X_annual != 0).astype(int).sum(axis=0)/len(X_annual)*100"
      ],
      "metadata": {
        "id": "V-KhEK-HnhXQ"
      },
      "execution_count": null,
      "outputs": []
    },
    {
      "cell_type": "code",
      "source": [
        "randomtree_ann = RandomForestClassifier(random_state=0, max_depth = 1, n_estimators=36, max_features = 14,\n",
        "                                        class_weight = 'balanced')\n",
        "randomtree_ann.fit(X_annual, y_annual) # fit non scaled data"
      ],
      "metadata": {
        "colab": {
          "base_uri": "https://localhost:8080/"
        },
        "id": "L0joBoHmnp1Z",
        "outputId": "24abd92b-47ea-41fb-cd9d-4d553be0e9b9"
      },
      "execution_count": null,
      "outputs": [
        {
          "output_type": "execute_result",
          "data": {
            "text/plain": [
              "RandomForestClassifier(class_weight='balanced', max_depth=1, max_features=14,\n",
              "                       n_estimators=36, random_state=0)"
            ]
          },
          "metadata": {},
          "execution_count": 9
        }
      ]
    },
    {
      "cell_type": "code",
      "source": [
        "importances = randomtree_ann.feature_importances_\n",
        "# importances"
      ],
      "metadata": {
        "id": "LfYnlurlnu-s"
      },
      "execution_count": null,
      "outputs": []
    },
    {
      "cell_type": "code",
      "source": [
        "plt.figure(figsize=(10,8))\n",
        "plt.scatter(x_colz, importances)\n",
        "plt.title('Feature Importance vs % Completeness Random Forest (Full Transaction Dataset)',\\\n",
        "          fontsize = 15,fontdict=dict(weight='bold'))\n",
        "plt.xlabel('Completeness (%)',fontsize = 10, fontdict=dict(weight='bold'))\n",
        "plt.ylabel('Feature Importance',fontsize = 10, fontdict=dict(weight='bold'))\n",
        "# plt.xscale('log')\n",
        "plt.show()"
      ],
      "metadata": {
        "colab": {
          "base_uri": "https://localhost:8080/",
          "height": 515
        },
        "id": "cDRxDVMzon73",
        "outputId": "412775d9-b19b-4e7f-fa74-c0504dbd5255"
      },
      "execution_count": null,
      "outputs": [
        {
          "output_type": "display_data",
          "data": {
            "text/plain": [
              "<Figure size 720x576 with 1 Axes>"
            ],
            "image/png": "[encoded data removed]"
          },
          "metadata": {
            "needs_background": "light"
          }
        }
      ]
    },
    {
      "cell_type": "code",
      "source": [
        "print(\"number of features that have non zero feature importances:\", np.count_nonzero(importances))"
      ],
      "metadata": {
        "colab": {
          "base_uri": "https://localhost:8080/"
        },
        "id": "Rv3BIZ-lq2er",
        "outputId": "a943bbcb-8988-453f-88f8-5eba756c8586"
      },
      "execution_count": null,
      "outputs": [
        {
          "output_type": "stream",
          "name": "stdout",
          "text": [
            "number of features that have non zero feature importances: 9\n"
          ]
        }
      ]
    },
    {
      "cell_type": "markdown",
      "source": [
        "Q: If you want to improve this model what kind of features would you design or incorporate in your data?\n",
        "\n",
        "A: The answer will be using features that has very high percent completeness. Features that have feature importance of above 0.00 are the one with more than 90% completeness. Majority of the features have 0 feature importance and those features should be removed."
      ],
      "metadata": {
        "id": "rmK3MkrapCJd"
      }
    },
    {
      "cell_type": "markdown",
      "source": [
        "## Using the train data set"
      ],
      "metadata": {
        "id": "WoI6LPbNpBq3"
      }
    },
    {
      "cell_type": "code",
      "source": [
        "x_colz_train = (X_train_annual != 0).astype(int).sum(axis=0)/len(X_train_annual)*100"
      ],
      "metadata": {
        "id": "seWwok_gpBCk"
      },
      "execution_count": null,
      "outputs": []
    },
    {
      "cell_type": "code",
      "source": [
        "randomtree_ann_train = RandomForestClassifier(random_state=0, max_depth = 1, n_estimators=36, max_features = 14,\n",
        "                                        class_weight = 'balanced')\n",
        "randomtree_ann_train.fit(X_train_annual, y_train_annual) # fit non scaled data"
      ],
      "metadata": {
        "colab": {
          "base_uri": "https://localhost:8080/"
        },
        "id": "MiAph9W1ptHI",
        "outputId": "e5f3fb65-f119-4863-c6ef-878c53bc6a5e"
      },
      "execution_count": null,
      "outputs": [
        {
          "output_type": "execute_result",
          "data": {
            "text/plain": [
              "RandomForestClassifier(class_weight='balanced', max_depth=1, max_features=14,\n",
              "                       n_estimators=36, random_state=0)"
            ]
          },
          "metadata": {},
          "execution_count": 15
        }
      ]
    },
    {
      "cell_type": "code",
      "source": [
        "importances_train = randomtree_ann_train.feature_importances_\n",
        "# importances_train"
      ],
      "metadata": {
        "id": "zU5kJf8OqD8U"
      },
      "execution_count": null,
      "outputs": []
    },
    {
      "cell_type": "code",
      "source": [
        "plt.figure(figsize=(10,8))\n",
        "plt.scatter(x_colz_train, importances_train, color = 'green')\n",
        "plt.title('Feature Importance vs % Completeness Random Forest (X_annual_train Transaction Dataset)',\\\n",
        "          fontsize = 15,fontdict=dict(weight='bold'))\n",
        "plt.xlabel('Completeness (%)',fontsize = 10, fontdict=dict(weight='bold'))\n",
        "plt.ylabel('Feature Importance',fontsize = 10, fontdict=dict(weight='bold'))\n",
        "# plt.xscale('log')\n",
        "plt.show()"
      ],
      "metadata": {
        "colab": {
          "base_uri": "https://localhost:8080/",
          "height": 515
        },
        "id": "2gdNjOHVqHkL",
        "outputId": "b91ae5d0-e245-49b2-94d9-af2c1a68e75b"
      },
      "execution_count": null,
      "outputs": [
        {
          "output_type": "display_data",
          "data": {
            "text/plain": [
              "<Figure size 720x576 with 1 Axes>"
            ],
            "image/png": "[encoded data removed]"
          },
          "metadata": {
            "needs_background": "light"
          }
        }
      ]
    },
    {
      "cell_type": "code",
      "source": [
        "print(\"number of features that have non zero feature importances:\", np.count_nonzero(importances_train))"
      ],
      "metadata": {
        "colab": {
          "base_uri": "https://localhost:8080/"
        },
        "id": "nPhq1viura1Z",
        "outputId": "78cd0827-76b5-4b8c-fdf3-bd91ea3f1825"
      },
      "execution_count": null,
      "outputs": [
        {
          "output_type": "stream",
          "name": "stdout",
          "text": [
            "number of features that have non zero feature importances: 11\n"
          ]
        }
      ]
    },
    {
      "cell_type": "markdown",
      "source": [
        "Q: If you want to improve this model what kind of features would you design or incorporate in your data?\n",
        "\n",
        "A: The answer will be using features that has very high percent completeness. Features that have feature importance of above 0.00 are the one with more than 90% completeness. Majority of the features have 0 feature importance and those features should be removed."
      ],
      "metadata": {
        "id": "JrizHzhtqSFz"
      }
    }
  ]
}