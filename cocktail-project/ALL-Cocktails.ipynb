{
  "nbformat": 4,
  "nbformat_minor": 0,
  "metadata": {
    "colab": {
      "provenance": [],
      "collapsed_sections": []
    },
    "kernelspec": {
      "name": "python3",
      "display_name": "Python 3"
    },
    "language_info": {
      "name": "python"
    }
  },
  "cells": [
    {
      "cell_type": "code",
      "metadata": {
        "colab": {
          "base_uri": "https://localhost:8080/"
        },
        "id": "HF3wQDueVKz7",
        "outputId": "bc7286c6-7e6f-48dd-fa70-e7b6555bcf7f"
      },
      "source": [
        "%pip install -i https://pypi.gurobi.com gurobipy"
      ],
      "execution_count": 1,
      "outputs": [
        {
          "output_type": "stream",
          "name": "stdout",
          "text": [
            "Looking in indexes: https://pypi.gurobi.com, https://us-python.pkg.dev/colab-wheels/public/simple/\n",
            "Collecting gurobipy\n",
            "  Downloading gurobipy-9.5.2-cp37-cp37m-manylinux2014_x86_64.whl (11.5 MB)\n",
            "\u001b[K     |████████████████████████████████| 11.5 MB 16.8 MB/s \n",
            "\u001b[?25hInstalling collected packages: gurobipy\n",
            "Successfully installed gurobipy-9.5.2\n"
          ]
        }
      ]
    },
    {
      "cell_type": "code",
      "metadata": {
        "id": "-KYud-NWXSPE"
      },
      "source": [
        "from gurobipy import *"
      ],
      "execution_count": 2,
      "outputs": []
    },
    {
      "cell_type": "code",
      "metadata": {
        "id": "MH6a2uZVV8FH",
        "colab": {
          "base_uri": "https://localhost:8080/"
        },
        "outputId": "51aec839-30c0-42cd-9b3e-e29530d49923"
      },
      "source": [
        "milp_model = Model(\"milp\")"
      ],
      "execution_count": 3,
      "outputs": [
        {
          "output_type": "stream",
          "name": "stdout",
          "text": [
            "Restricted license - for non-production use only - expires 2023-10-25\n"
          ]
        }
      ]
    },
    {
      "cell_type": "markdown",
      "metadata": {
        "id": "wcsiB5IrZM7w"
      },
      "source": [
        "## Cocktail Names"
      ]
    },
    {
      "cell_type": "code",
      "metadata": {
        "id": "GRNzJzR5YQZf"
      },
      "source": [
        "# The Unforgettables\n",
        "alexander = milp_model.addVar(vtype=GRB.BINARY, name = \"alexander\")\n",
        "americano = milp_model.addVar(vtype=GRB.BINARY, name = \"americano\")\n",
        "angel_face = milp_model.addVar(vtype=GRB.BINARY, name = \"angel_face\")\n",
        "aviation = milp_model.addVar(vtype=GRB.BINARY, name = \"aviation\")\n",
        "between_the_sheets = milp_model.addVar(vtype=GRB.BINARY, name = \"between_the_sheets\")\n",
        "boulevardier = milp_model.addVar(vtype=GRB.BINARY, name = \"boulevardier\")\n",
        "brandy_crusta = milp_model.addVar(vtype=GRB.BINARY, name = \"brandy_crusta\")\n",
        "casino = milp_model.addVar(vtype=GRB.BINARY, name = \"casino\")\n",
        "clover_club = milp_model.addVar(vtype=GRB.BINARY, name = \"clover_club\")\n",
        "daiquiri = milp_model.addVar(vtype=GRB.BINARY, name = \"daiquiri\")\n",
        "dry_martini = milp_model.addVar(vtype=GRB.BINARY, name = \"dry_martini\")\n",
        "gin_fizz = milp_model.addVar(vtype=GRB.BINARY, name = \"gin_fizz\")\n",
        "hanky_panky = milp_model.addVar(vtype=GRB.BINARY, name = \"hanky_panky\")\n",
        "john_collins = milp_model.addVar(vtype=GRB.BINARY, name = \"john_collins\")\n",
        "the_last_word = milp_model.addVar(vtype=GRB.BINARY, name = \"the_last_word\")\n",
        "manhattan = milp_model.addVar(vtype=GRB.BINARY, name = \"manhattan\")\n",
        "martinez = milp_model.addVar(vtype=GRB.BINARY, name = \"martinez\")\n",
        "mary_pickford = milp_model.addVar(vtype=GRB.BINARY, name = \"mary_pickford\")\n",
        "monkey_gland = milp_model.addVar(vtype=GRB.BINARY, name = \"monkey_gland\")\n",
        "negroni = milp_model.addVar(vtype=GRB.BINARY, name = \"negroni\")\n",
        "old_fashioned = milp_model.addVar(vtype=GRB.BINARY, name = \"old_fashioned\")\n",
        "paradise = milp_model.addVar(vtype=GRB.BINARY, name = \"paradise\")\n",
        "planters_punch = milp_model.addVar(vtype=GRB.BINARY, name = \"planters_punch\")\n",
        "porto_flip = milp_model.addVar(vtype=GRB.BINARY, name = \"porto_flip\")\n",
        "ramos_gin_fizz = milp_model.addVar(vtype=GRB.BINARY, name = \"ramos_gin_fizz\")\n",
        "rusty_nail = milp_model.addVar(vtype=GRB.BINARY, name = \"rusty_nail\")\n",
        "sazerac = milp_model.addVar(vtype=GRB.BINARY, name = \"sazerac\")\n",
        "sidecar = milp_model.addVar(vtype=GRB.BINARY, name = \"sidecar\")\n",
        "stinger = milp_model.addVar(vtype=GRB.BINARY, name = \"stinger\")\n",
        "tuxedo = milp_model.addVar(vtype=GRB.BINARY, name = \"tuxedo\")\n",
        "vieux_carre = milp_model.addVar(vtype=GRB.BINARY, name = \"vieux_carre\")\n",
        "whiskey_sour = milp_model.addVar(vtype=GRB.BINARY, name = \"whiskey_sour\")\n",
        "white_lady = milp_model.addVar(vtype=GRB.BINARY, name = \"white_lady\")\n",
        "\n",
        "# Contemporary Classics\n",
        "bellini = milp_model.addVar(vtype=GRB.BINARY, name = \"bellini\")\n",
        "black_russian = milp_model.addVar(vtype=GRB.BINARY, name = \"black_russian\")\n",
        "bloody_mary = milp_model.addVar(vtype=GRB.BINARY, name = \"bloody_mary\")\n",
        "caipirinha = milp_model.addVar(vtype=GRB.BINARY, name = \"caipirinha\")\n",
        "champagne_cocktail = milp_model.addVar(vtype=GRB.BINARY, name = \"champagne_cocktail\")\n",
        "corpse_reviver_2 = milp_model.addVar(vtype=GRB.BINARY, name = \"corpse_reviver_2\")\n",
        "cosmopolitan = milp_model.addVar(vtype=GRB.BINARY, name = \"cosmopolitan\")\n",
        "cuba_libre = milp_model.addVar(vtype=GRB.BINARY, name = \"cuba_libre\")\n",
        "french_75 = milp_model.addVar(vtype=GRB.BINARY, name = \"french_75\")\n",
        "french_connection = milp_model.addVar(vtype=GRB.BINARY, name = \"french_connection\")\n",
        "golden_dream = milp_model.addVar(vtype=GRB.BINARY, name = \"golden_dream\")\n",
        "grasshopper = milp_model.addVar(vtype=GRB.BINARY, name = \"grasshopper\")\n",
        "hemingway_special = milp_model.addVar(vtype=GRB.BINARY, name = \"hemmingway_special\")\n",
        "horses_neck = milp_model.addVar(vtype=GRB.BINARY, name = \"horses_neck\")\n",
        "irish_coffee = milp_model.addVar(vtype=GRB.BINARY, name = \"irish_coffee\")\n",
        "# kir = milp_model.addVar(vtype=GRB.BINARY, name = \"kir\")\n",
        "long_island_iced_tea = milp_model.addVar(vtype=GRB.BINARY, name = \"long_island_iced_tea\")\n",
        "# mai_tai = milp_model.addVar(vtype=GRB.BINARY, name = \"mai_tai\")\n",
        "margarita = milp_model.addVar(vtype=GRB.BINARY, name = \"margarita\")\n",
        "mimosa = milp_model.addVar(vtype=GRB.BINARY, name = \"mimosa\")\n",
        "mint_julep = milp_model.addVar(vtype=GRB.BINARY, name = \"mint_julep\")\n",
        "mojito = milp_model.addVar(vtype=GRB.BINARY, name = \"mojito\")\n",
        "moscow_mule = milp_model.addVar(vtype=GRB.BINARY, name = \"moscow_mule\")\n",
        "pina_colada = milp_model.addVar(vtype=GRB.BINARY, name = \"pina_colada\")\n",
        "pisco_sour = milp_model.addVar(vtype=GRB.BINARY, name = \"pisco_sour\")\n",
        "sea_breeze = milp_model.addVar(vtype=GRB.BINARY, name = \"sea_breeze\")\n",
        "sex_on_the_beach = milp_model.addVar(vtype=GRB.BINARY, name = \"sex_on_the_beach\")\n",
        "singapore_sling = milp_model.addVar(vtype=GRB.BINARY, name = \"singapore_sling\")\n",
        "tequila_sunrise = milp_model.addVar(vtype=GRB.BINARY, name = \"tequila_sunrise\")\n",
        "vesper = milp_model.addVar(vtype=GRB.BINARY, name = \"vesper\")\n",
        "# zombie = milp_model.addVar(vtype=GRB.BINARY, name = \"zombie\")\n",
        "\n",
        "# New Era Drinks\n",
        "# barracuda = milp_model.addVar(vtype=GRB.BINARY, name = \"barracuda\")\n",
        "bees_knees = milp_model.addVar(vtype=GRB.BINARY, name = \"bees_knees\")\n",
        "bramble = milp_model.addVar(vtype=GRB.BINARY, name = \"bramble\")\n",
        "# canchanchara = milp_model.addVar(vtype=GRB.BINARY, name = \"canchanchara\")\n",
        "dark_n_stormy = milp_model.addVar(vtype=GRB.BINARY, name = \"dark_n_stormy\")\n",
        "espresso_martini = milp_model.addVar(vtype=GRB.BINARY, name = \"espresso_martini\")\n",
        "fernandito = milp_model.addVar(vtype=GRB.BINARY, name = \"fernandito\")\n",
        "french_martini = milp_model.addVar(vtype=GRB.BINARY, name = \"french_martini\")\n",
        "illegal = milp_model.addVar(vtype=GRB.BINARY, name = \"illegal\")\n",
        "lemon_drop_martini = milp_model.addVar(vtype=GRB.BINARY, name = \"lemon_drop_martini\")\n",
        "naked_and_famous = milp_model.addVar(vtype=GRB.BINARY, name = \"naked_and_famous\")\n",
        "new_york_sour = milp_model.addVar(vtype=GRB.BINARY, name = \"new_york_sour\")\n",
        "old_cuban = milp_model.addVar(vtype=GRB.BINARY, name = \"old_cuban\")\n",
        "paloma = milp_model.addVar(vtype=GRB.BINARY, name = \"paloma\")\n",
        "paper_plane = milp_model.addVar(vtype=GRB.BINARY, name = \"paper_plane\")\n",
        "# penicilin = milp_model.addVar(vtype=GRB.BINARY, name = \"penicilin\")\n",
        "russian_spring_punch = milp_model.addVar(vtype=GRB.BINARY, name = \"russian_spring_punch\")\n",
        "southside = milp_model.addVar(vtype=GRB.BINARY, name = \"southside\")\n",
        "# spicy_fifty = milp_model.addVar(vtype=GRB.BINARY, name = \"spicy_fifty\")\n",
        "spritz = milp_model.addVar(vtype=GRB.BINARY, name = \"spritz\")\n",
        "suffering_bastard = milp_model.addVar(vtype=GRB.BINARY, name = \"suffering_bastard\")\n",
        "tipperary = milp_model.addVar(vtype=GRB.BINARY, name = \"tipperary\")\n",
        "tommys_margarita = milp_model.addVar(vtype=GRB.BINARY, name = \"tommys_margarita\")\n",
        "trinidad_sour = milp_model.addVar(vtype=GRB.BINARY, name = \"trinidad_sour\")\n",
        "# vento = milp_model.addVar(vtype=GRB.BINARY, name = \"vento\")\n",
        "yellow_bird = milp_model.addVar(vtype=GRB.BINARY, name = \"yellow_bird\")"
      ],
      "execution_count": 4,
      "outputs": []
    },
    {
      "cell_type": "markdown",
      "metadata": {
        "id": "XVl4MgXIcY15"
      },
      "source": [
        "## Ingredients Name"
      ]
    },
    {
      "cell_type": "code",
      "metadata": {
        "id": "dAKAm82ig30x"
      },
      "source": [
        "cognac = milp_model.addVar(vtype=GRB.BINARY,   name = \"cognac\") \n",
        "creme_de_cacao = milp_model.addVar(vtype=GRB.BINARY,   name = \"creme_de_cacao\")\n",
        "cream = milp_model.addVar(vtype=GRB.BINARY,   name = \"cream\")\n",
        "nutmeg = milp_model.addVar(vtype=GRB.BINARY,   name = \"nutmeg\")\n",
        "campari = milp_model.addVar(vtype=GRB.BINARY,   name = \"campari\")\n",
        "sweet_vermouth = milp_model.addVar(vtype=GRB.BINARY,   name = \"sweet_vermouth\")\n",
        "soda_water = milp_model.addVar(vtype=GRB.BINARY,   name = \"soda_water\")\n",
        "lemon_fruit = milp_model.addVar(vtype=GRB.BINARY,   name = \"lemon_fruit\")\n",
        "gin = milp_model.addVar(vtype=GRB.BINARY,   name = \"gin\")\n",
        "apricot_brandy = milp_model.addVar(vtype=GRB.BINARY,   name = \"apricot_brandy\")\n",
        "calvados = milp_model.addVar(vtype=GRB.BINARY,   name = \"calvados\")\n",
        "lemon_juice = milp_model.addVar(vtype=GRB.BINARY,   name = \"lemon_juice\")\n",
        "maraschino_cherry = milp_model.addVar(vtype=GRB.BINARY,   name = \"maraschino_cherry\")\n",
        "creme_de_violette = milp_model.addVar(vtype=GRB.BINARY,   name = \"creme_de_violette\")\n",
        "white_rum = milp_model.addVar(vtype=GRB.BINARY,   name = \"white_rum\")\n",
        "triple_sec = milp_model.addVar(vtype=GRB.BINARY,   name = \"triple_sec\")\n",
        "bourbon = milp_model.addVar(vtype=GRB.BINARY,   name = \"bourbon\")\n",
        "maraschino_luxardo = milp_model.addVar(vtype=GRB.BINARY,   name = \"maraschino_luxardo\")\n",
        "curacao = milp_model.addVar(vtype=GRB.BINARY,   name = \"curacao\")\n",
        "simple_syrup = milp_model.addVar(vtype=GRB.BINARY,   name = \"simple_syrup\")\n",
        "angostura = milp_model.addVar(vtype=GRB.BINARY,   name = \"angostura\")\n",
        "orange_bitters = milp_model.addVar(vtype=GRB.BINARY,   name = \"orange_bitters\")\n",
        "raspberry_syrup = milp_model.addVar(vtype=GRB.BINARY,   name = \"raspberry_syrup\")\n",
        "dry_vermouth = milp_model.addVar(vtype=GRB.BINARY,   name = \"dry_vermouth\")\n",
        "egg = milp_model.addVar(vtype=GRB.BINARY,   name = \"egg\")\n",
        "lime_juice = milp_model.addVar(vtype=GRB.BINARY,   name = \"lime_juice\")\n",
        "sugar_grained = milp_model.addVar(vtype=GRB.BINARY,   name = \"sugar_grained\")\n",
        "olive = milp_model.addVar(vtype=GRB.BINARY,   name = \"olive\")\n",
        "fernet_branca = milp_model.addVar(vtype=GRB.BINARY,   name = \"fernet_branca\")\n",
        "orange_fruit = milp_model.addVar(vtype=GRB.BINARY,   name = \"orange_fruit\")\n",
        "yellow_chartreuse = milp_model.addVar(vtype=GRB.BINARY,   name = \"yellow_chartreuse\")\n",
        "rye_whiskey = milp_model.addVar(vtype=GRB.BINARY,   name = \"rye_whiskey\")\n",
        "pineapple_juice = milp_model.addVar(vtype=GRB.BINARY,   name = \"pineapple_juice\")\n",
        "grenadine = milp_model.addVar(vtype=GRB.BINARY,   name = \"grenadine\")\n",
        "absinthe = milp_model.addVar(vtype=GRB.BINARY,   name = \"absinthe\")\n",
        "water = milp_model.addVar(vtype=GRB.BINARY,   name = \"water\")\n",
        "sugar_cube = milp_model.addVar(vtype=GRB.BINARY,   name = \"sugar_cube\")\n",
        "orange_juice = milp_model.addVar(vtype=GRB.BINARY,   name = \"orange_juice\")\n",
        "jamaican_rum = milp_model.addVar(vtype=GRB.BINARY,   name = \"jamaican_rum\")\n",
        "sugar_cane_juice = milp_model.addVar(vtype=GRB.BINARY,   name = \"sugar_cane_juice\")\n",
        "brandy = milp_model.addVar(vtype=GRB.BINARY,   name = \"brandy\")\n",
        "port = milp_model.addVar(vtype=GRB.BINARY,   name = \"port\")\n",
        "orange_flower_water = milp_model.addVar(vtype=GRB.BINARY,   name = \"orange_flower_water\")\n",
        "vanilla_extract = milp_model.addVar(vtype=GRB.BINARY,   name = \"vanilla_extract\")\n",
        "drambuie = milp_model.addVar(vtype=GRB.BINARY,   name = \"drambuie\")\n",
        "peychauds_bitters = milp_model.addVar(vtype=GRB.BINARY,   name = \"peychauds_bitters\")\n",
        "creme_de_menthe = milp_model.addVar(vtype=GRB.BINARY,  name = \"creme_de_menthe\")\n",
        "benedictine = milp_model.addVar(vtype=GRB.BINARY,   name = \"benedictine\")\n",
        "prosecco = milp_model.addVar(vtype=GRB.BINARY,   name = \"prosecco\")\n",
        "peach_puree = milp_model.addVar(vtype=GRB.BINARY,   name = \"peach_puree\")\n",
        "vodka = milp_model.addVar(vtype=GRB.BINARY,   name = \"vodka\")\n",
        "tomato_juice = milp_model.addVar(vtype=GRB.BINARY,   name = \"tomato_juice\")\n",
        "worcestershire_sauce = milp_model.addVar(vtype=GRB.BINARY,   name = \"worcestershire_sauce\")\n",
        "tabasco_sauce = milp_model.addVar(vtype=GRB.BINARY,   name = \"tabasco_sauce\")\n",
        "celery_salt = milp_model.addVar(vtype=GRB.BINARY,   name = \"celery_salt\")\n",
        "black_pepper = milp_model.addVar(vtype=GRB.BINARY,   name = \"black_pepper\")\n",
        "celery_vegetable = milp_model.addVar(vtype=GRB.BINARY,   name = \"celery_vegetable\")\n",
        "cahaca = milp_model.addVar(vtype=GRB.BINARY,   name = \"cahaca\")\n",
        "lime_fruit = milp_model.addVar(vtype=GRB.BINARY,   name = \"lime_fruit\")\n",
        "champagne = milp_model.addVar(vtype=GRB.BINARY,   name = \"champagne\")\n",
        "cointreau = milp_model.addVar(vtype=GRB.BINARY,   name = \"cointreau\")\n",
        "lillet_blanc = milp_model.addVar(vtype=GRB.BINARY,   name = \"lillet_blanc\")\n",
        "vodka_citron = milp_model.addVar(vtype=GRB.BINARY,   name = \"vodka_citron\")\n",
        "cranberry_juice = milp_model.addVar(vtype=GRB.BINARY,   name = \"cranberry_juice\")\n",
        "cola = milp_model.addVar(vtype=GRB.BINARY,   name = \"cola\")\n",
        "amaretto = milp_model.addVar(vtype=GRB.BINARY,   name = \"amaretto\")\n",
        "galliano = milp_model.addVar(vtype=GRB.BINARY,   name = \"galliano\")\n",
        "grapefruit_juice = milp_model.addVar(vtype=GRB.BINARY,   name = \"grapefruit_juice\")\n",
        "ginger_ale = milp_model.addVar(vtype=GRB.BINARY,   name = \"ginger_ale\")\n",
        "scotch = milp_model.addVar(vtype=GRB.BINARY,   name = \"scotch\")\n",
        "irish_whiskey = milp_model.addVar(vtype=GRB.BINARY,   name = \"irish_whiskey\")\n",
        "hot_coffee = milp_model.addVar(vtype=GRB.BINARY,   name = \"hot_coffee\")\n",
        "tequila = milp_model.addVar(vtype=GRB.BINARY,   name = \"tequila\")\n",
        "mint_leaves = milp_model.addVar(vtype=GRB.BINARY,   name = \"mint_leaves\")\n",
        "ginger_beer = milp_model.addVar(vtype=GRB.BINARY,   name = \"ginger_beer\")\n",
        "coconut_cream = milp_model.addVar(vtype=GRB.BINARY,   name = \"coconut_cream\")\n",
        "pineapple_fruit = milp_model.addVar(vtype=GRB.BINARY,   name = \"pineapple_fruit\")\n",
        "pisco = milp_model.addVar(vtype=GRB.BINARY,   name = \"pisco\")\n",
        "peach_schnapps = milp_model.addVar(vtype=GRB.BINARY,   name = \"peach_schnapps\")\n",
        "cherry_brandy = milp_model.addVar(vtype=GRB.BINARY,   name = \"cherry_brandy\")\n",
        "honey = milp_model.addVar(vtype=GRB.BINARY,   name = \"honey\")\n",
        "creme_de_mure = milp_model.addVar(vtype=GRB.BINARY,   name = \"creme_de_mure\")\n",
        "kahlua = milp_model.addVar(vtype=GRB.BINARY,   name = \"kahlua\")\n",
        "espresso = milp_model.addVar(vtype=GRB.BINARY,   name = \"espresso\")\n",
        "chambord = milp_model.addVar(vtype=GRB.BINARY,   name = \"chambord\")\n",
        "mezcal = milp_model.addVar(vtype=GRB.BINARY,   name = \"mezcal\")\n",
        "falernum = milp_model.addVar(vtype=GRB.BINARY,   name = \"falernum\")\n",
        "aperol = milp_model.addVar(vtype=GRB.BINARY,   name = \"aperol\")\n",
        "shiraz = milp_model.addVar(vtype=GRB.BINARY,   name = \"shiraz\")\n",
        "grapefruit_soda = milp_model.addVar(vtype=GRB.BINARY,   name = \"grapefruit_soda\")\n",
        "amaro = milp_model.addVar(vtype=GRB.BINARY,   name = \"amaro\")\n",
        "creme_de_cassis = milp_model.addVar(vtype=GRB.BINARY,   name = \"creme_de_cassis\")\n",
        "agave_syrup = milp_model.addVar(vtype=GRB.BINARY,   name = \"agave_syrup\")\n",
        "orgeat_syrup = milp_model.addVar(vtype=GRB.BINARY,   name = \"orgeat_syrup\")\n",
        "green_chartreuse = milp_model.addVar(vtype=GRB.BINARY,   name = \"green_chartreuse\")"
      ],
      "execution_count": 5,
      "outputs": []
    },
    {
      "cell_type": "markdown",
      "metadata": {
        "id": "fxhjU2RKjCai"
      },
      "source": [
        "## Objective Function"
      ]
    },
    {
      "cell_type": "code",
      "metadata": {
        "id": "SeHXGhAtjCQW"
      },
      "source": [
        "# no kir, no mai tai, no zombie\n",
        "# no barracuda, no canchancara, no penicilin, no spicy fifty, no vento\n",
        "obj_fn = alexander + americano + angel_face + aviation + between_the_sheets + boulevardier + brandy_crusta + casino + clover_club + daiquiri +\\\n",
        "dry_martini + gin_fizz + hanky_panky + john_collins + the_last_word + manhattan + martinez + mary_pickford + monkey_gland + negroni +\\\n",
        "old_fashioned + paradise + planters_punch + porto_flip + ramos_gin_fizz + rusty_nail + sazerac + sidecar + stinger + tuxedo + vieux_carre + whiskey_sour +\\\n",
        "white_lady + bellini + black_russian + bloody_mary + caipirinha + champagne_cocktail + corpse_reviver_2 + cosmopolitan + cuba_libre + french_75 +\\\n",
        "french_connection + golden_dream + grasshopper + hemingway_special + horses_neck + irish_coffee + long_island_iced_tea + margarita +\\\n",
        "mimosa + mint_julep + mojito + moscow_mule + pina_colada + pisco_sour + sea_breeze + sex_on_the_beach + singapore_sling + tequila_sunrise +\\\n",
        "vesper + bees_knees + bramble + dark_n_stormy + espresso_martini + fernandito + french_martini + illegal + lemon_drop_martini +\\\n",
        "naked_and_famous + new_york_sour + old_cuban + paloma + paper_plane + russian_spring_punch + southside + spritz + suffering_bastard +\\\n",
        "tipperary + tommys_margarita + trinidad_sour + yellow_bird\n",
        "\n",
        "milp_model.setObjective(obj_fn, GRB.MAXIMIZE)"
      ],
      "execution_count": 6,
      "outputs": []
    },
    {
      "cell_type": "markdown",
      "metadata": {
        "id": "9wGjfZ2kipP9"
      },
      "source": [
        "## Constraints"
      ]
    },
    {
      "cell_type": "markdown",
      "metadata": {
        "id": "G9icnFcVTZtt"
      },
      "source": [
        "### Budget\n",
        "Set the budget in dollars"
      ]
    },
    {
      "cell_type": "code",
      "metadata": {
        "id": "l47vyYlLTcGk"
      },
      "source": [
        "budget_c = milp_model.addConstr(23*cognac + 12*creme_de_cacao + 4*cream + 4*nutmeg + 26*campari + 7*sweet_vermouth + 1*soda_water +\n",
        "                                1*lemon_fruit + 20*gin + 12*apricot_brandy + 50*calvados + 2*lemon_juice + 20*maraschino_cherry + 24*creme_de_violette +\n",
        "                                30*white_rum + 6*triple_sec + 40*bourbon + 36*maraschino_luxardo +\n",
        "                                12*curacao + 0*simple_syrup + 10*angostura + 10*orange_bitters + 4*raspberry_syrup + 6*dry_vermouth + 1*egg +\n",
        "                                1*lime_juice + 0*sugar_grained +\n",
        "                                5*olive + 33*fernet_branca + 1*orange_fruit + 60*yellow_chartreuse + 40*rye_whiskey + 3*pineapple_juice + 4*grenadine +\n",
        "                                30*absinthe + 0*water +\n",
        "                                4*sugar_cube + 3*orange_juice + 23*jamaican_rum + 40*sugar_cane_juice + 30*brandy + 30*port + 7*orange_flower_water +\n",
        "                                10*vanilla_extract +\n",
        "                                33*drambuie + 8*peychauds_bitters + 15*creme_de_menthe + 32*benedictine + 10*prosecco + 2*peach_puree + 17*vodka +\n",
        "                                3*tomato_juice +\n",
        "                                6*worcestershire_sauce + 4*tabasco_sauce + 4*celery_salt + 0*black_pepper + 3*celery_vegetable + 19*cahaca +\n",
        "                                1*lime_fruit + 43*champagne +\n",
        "                                32*cointreau + 19*lillet_blanc +\n",
        "                                17*vodka_citron + 3*cranberry_juice + 1*cola + 25*amaretto + 34*galliano + 3*grapefruit_juice + 2*ginger_ale +\n",
        "                                27*scotch + 21*irish_whiskey +\n",
        "                                5*hot_coffee + 22*tequila + 3*mint_leaves + 3*ginger_beer + 5*coconut_cream + 4*pineapple_fruit + 27*pisco +\n",
        "                                8*peach_schnapps +\n",
        "                                26*cherry_brandy + 12*honey + 15*creme_de_mure + 20*kahlua + 5*espresso + 32*chambord + 34*mezcal + 19*falernum +\n",
        "                                21*aperol + 5*shiraz +\n",
        "                                3*grapefruit_soda + 26*amaro + 15*creme_de_cassis + 10*agave_syrup + 8*orgeat_syrup + 55*green_chartreuse <= 50, \"budget_c\")"
      ],
      "execution_count": 7,
      "outputs": []
    },
    {
      "cell_type": "markdown",
      "metadata": {
        "id": "BdUm8R4NTfm_"
      },
      "source": [
        "### Cocktail Constraints"
      ]
    },
    {
      "cell_type": "code",
      "metadata": {
        "id": "Lev4crFkiehz"
      },
      "source": [
        "# The Unforgettables\n",
        "alexander_c = milp_model.addConstr(cognac + creme_de_cacao + cream + nutmeg >= 4*alexander, \"alexander_c\")\n",
        "americano_c = milp_model.addConstr(campari + sweet_vermouth + soda_water + lemon_fruit + orange_fruit >= 5*americano, \"americano_c\")\n",
        "angel_face_c = milp_model.addConstr(gin + apricot_brandy + calvados  >= 3*angel_face, \"angel_face_c\")\n",
        "aviation_c = milp_model.addConstr(gin + lemon_juice + maraschino_cherry + creme_de_violette + maraschino_luxardo  >= 5*aviation, \"aviation_c\")\n",
        "between_the_sheets_c = milp_model.addConstr(cognac + lemon_juice + white_rum + triple_sec >= 4*between_the_sheets, \"between_the_sheets_c\")\n",
        "boulevardier_c = milp_model.addConstr(campari + sweet_vermouth + bourbon + orange_fruit >= 4*boulevardier, \"boulevardier_c\")\n",
        "brandy_crusta_c = milp_model.addConstr(lemon_juice + maraschino_luxardo + curacao + simple_syrup +\n",
        "                                     angostura + orange_fruit + brandy >= 7*brandy_crusta, \"brandy_crusta_c\")\n",
        "casino_c = milp_model.addConstr(lemon_fruit + gin + lemon_juice + maraschino_cherry + maraschino_luxardo +\n",
        "                              orange_bitters >= 6*casino, \"casino_c\")\n",
        "clover_club_c = milp_model.addConstr(gin + lemon_juice + raspberry_syrup + dry_vermouth + egg >= 5*clover_club, \"clover_club_c\")\n",
        "daiquiri_c = milp_model.addConstr(white_rum + lime_juice + sugar_grained >= 3*daiquiri, \"daiquiri_c\")\n",
        "dry_martini_c = milp_model.addConstr(gin + dry_vermouth + olive >= 3*dry_martini, \"dry_martini_c\")\n",
        "gin_fizz_c = milp_model.addConstr(soda_water + lemon_fruit + gin + lemon_juice + simple_syrup >= 5*gin_fizz, \"gin_fizz_c\")\n",
        "hanky_panky_c = milp_model.addConstr(sweet_vermouth + gin + fernet_branca + orange_fruit >= 4*hanky_panky, \"hanky_panky_c\")\n",
        "john_collins_c = milp_model.addConstr(soda_water + lemon_fruit + gin + lemon_juice + maraschino_cherry + simple_syrup >= 6*john_collins, \"john_collins_c\")\n",
        "the_last_word_c = milp_model.addConstr(gin + maraschino_luxardo + lime_juice + green_chartreuse >= 4*the_last_word, \"the_last_word_c\")\n",
        "manhattan_c = milp_model.addConstr(sweet_vermouth + maraschino_cherry + angostura + rye_whiskey >= 4*manhattan, \"manhattan_c\")\n",
        "martinez_c = milp_model.addConstr(sweet_vermouth + lemon_fruit + gin + maraschino_luxardo + orange_bitters >= 5*martinez, \"martinez_c\")\n",
        "mary_pickford_c = milp_model.addConstr(white_rum + maraschino_luxardo + pineapple_juice + grenadine >= 4*mary_pickford, \"mary_pickford_c\")\n",
        "monkey_gland_c = milp_model.addConstr(gin + grenadine + absinthe + orange_juice >= 4*monkey_gland, \"monkey_gland_c\")\n",
        "negroni_c = milp_model.addConstr(campari + sweet_vermouth + gin + orange_fruit >= 4*negroni, \"negroni_c\")\n",
        "old_fashioned_c = milp_model.addConstr(bourbon + angostura + orange_fruit + water + sugar_cube >= 5*old_fashioned, \"old_fashioned_c\")\n",
        "paradise_c = milp_model.addConstr(gin + apricot_brandy + orange_juice >= 3*paradise, \"paradise_c\")\n",
        "planters_punch_c = milp_model.addConstr(lime_juice + jamaican_rum + sugar_cane_juice >= 3*planters_punch, \"planters_punch_c\")\n",
        "porto_flip_c = milp_model.addConstr(nutmeg + egg + brandy + port >= 4*porto_flip, \"porto_flip_c\")\n",
        "ramos_gin_fizz_c = milp_model.addConstr(cream + soda_water + gin + lemon_juice + simple_syrup + egg + lime_juice +\n",
        "                                      orange_flower_water + vanilla_extract >= 9*ramos_gin_fizz, \"ramos_gin_fizz_c\")\n",
        "rusty_nail_c = milp_model.addConstr(lemon_fruit + drambuie + scotch >= 3*rusty_nail, \"rusty_nail_c\")\n",
        "sazerac_c = milp_model.addConstr(cognac + lemon_fruit + absinthe + sugar_cube + peychauds_bitters >= 5*sazerac, \"sazerac_c\")\n",
        "sidecar_c = milp_model.addConstr(cognac + lemon_juice + triple_sec >= 3*sidecar, \"sidecar_c\")\n",
        "stinger_c = milp_model.addConstr(cognac + creme_de_menthe >= 2*stinger, \"sidecar_c\")\n",
        "tuxedo_c = milp_model.addConstr(gin + maraschino_luxardo + orange_bitters + dry_vermouth + absinthe >= 5*tuxedo, \"tuxedo_c\")\n",
        "vieux_carre_c = milp_model.addConstr(cognac + sweet_vermouth + maraschino_cherry + orange_fruit + rye_whiskey + peychauds_bitters +\n",
        "                                   benedictine >= 7*vieux_carre, \"vieux_carre_c\")\n",
        "whiskey_sour_c = milp_model.addConstr(lemon_juice + maraschino_cherry + bourbon + simple_syrup + orange_fruit >= 5*whiskey_sour, \"whiskey_sour_c\")\n",
        "white_lady_c = milp_model.addConstr(gin + lemon_juice + triple_sec >= 3*white_lady, \"white_lady_c\")\n",
        "\n",
        "# Contemporary Classics\n",
        "bellini_c = milp_model.addConstr(prosecco + peach_puree >= 2*bellini, \"bellini_c\")\n",
        "black_russian_c = milp_model.addConstr(vodka + kahlua >= 2*black_russian, \"black_russian_c\")\n",
        "bloody_mary_c = milp_model.addConstr(vodka + tomato_juice + lemon_juice + worcestershire_sauce +\\\n",
        "                                     tabasco_sauce + celery_salt + black_pepper + celery_vegetable >= 8*bloody_mary, \"bloody_mary_c\")\n",
        "caipirinha_c = milp_model.addConstr(cahaca + lime_fruit + sugar_grained >= 3*caipirinha, \"caipirinha_c\")\n",
        "champagne_cocktail_c = milp_model.addConstr(champagne + cognac + angostura + sugar_cube + orange_fruit + maraschino_cherry >= 6*champagne_cocktail,\\\n",
        "                                            \"champagne_cocktail_c\")\n",
        "corpse_reviver_2_c = milp_model.addConstr(gin + lemon_juice + cointreau + lillet_blanc + absinthe + lemon_fruit >= 6*corpse_reviver_2,\\\n",
        "                                          \"corpse_reviver_2_c\")\n",
        "cosmopolitan_c = milp_model.addConstr(vodka_citron + cointreau + lime_juice + cranberry_juice + lime_fruit >= 5*cosmopolitan, \"cosmopolitan_c\")\n",
        "cuba_libre_c = milp_model.addConstr(cola + white_rum + lime_juice + lime_fruit >= 4*cuba_libre, \"cuba_libre_c\")\n",
        "french_75_c = milp_model.addConstr(gin + simple_syrup + lemon_juice + champagne + lemon_fruit  >= 5*french_75, \"french_75_c\")\n",
        "french_connection_c = milp_model.addConstr(cognac + amaretto >= 2*french_connection, \"french_connection_c\")\n",
        "golden_dream_c = milp_model.addConstr(galliano + triple_sec + orange_juice + cream >= 4*golden_dream, \"golden_dream_c\")\n",
        "grasshopper_c = milp_model.addConstr(creme_de_menthe + creme_de_cacao + cream >= 3*grasshopper, \"grasshopper_c\")\n",
        "hemingway_special_c = milp_model.addConstr(white_rum + grapefruit_juice + maraschino_luxardo + lime_juice + lime_fruit >= 5*hemingway_special,\\\n",
        "                                           \"hemingway_special_c\")\n",
        "horses_neck_c = milp_model.addConstr(brandy + ginger_ale + angostura + lemon_fruit >= 4*horses_neck, \"horses_neck_c\")\n",
        "irish_coffee_c = milp_model.addConstr(irish_whiskey + hot_coffee + cream + sugar_grained >= 4*irish_coffee, \"irish_coffee_c\")\n",
        "long_island_iced_tea_c = milp_model.addConstr(tequila + vodka + white_rum + triple_sec + gin + lemon_juice +\\\n",
        "                                              simple_syrup + cola + lemon_fruit >= 9*long_island_iced_tea, \"long_island_iced_tea_c\")\n",
        "margarita_c = milp_model.addConstr(tequila + triple_sec + lime_juice + lime_fruit >= 4*margarita, \"margarita_c\")\n",
        "mimosa_c = milp_model.addConstr(champagne + orange_juice + orange_fruit >= 3*mimosa, \"mimosa_c\")\n",
        "mint_julep_c = milp_model.addConstr(bourbon + mint_leaves + sugar_grained + water >= 4*mint_julep, \"mint_julep_c\")\n",
        "mojito_c = milp_model.addConstr(white_rum + lime_juice + mint_leaves + simple_syrup + lime_fruit >= 5*mojito, \"mojito_c\")\n",
        "moscow_mule_c = milp_model.addConstr(vodka + lime_juice + ginger_beer + lime_fruit >= 4*moscow_mule, \"moscow_mule_c\")\n",
        "pina_colada_c = milp_model.addConstr(white_rum + coconut_cream + pineapple_juice + pineapple_fruit + maraschino_cherry >=\\\n",
        "                                     5*pina_colada, \"pina_colada_c\")\n",
        "pisco_sour_c = milp_model.addConstr(pisco + lemon_juice + simple_syrup + egg + angostura >= 5*pisco_sour, \"pisco_sour_c\")\n",
        "sea_breeze_c = milp_model.addConstr(vodka + cranberry_juice + grapefruit_juice + lime_fruit >= 4*sea_breeze, \"sea_breeze_c\")\n",
        "sex_on_the_beach_c = milp_model.addConstr(vodka + peach_schnapps + orange_juice + cranberry_juice + orange_fruit >=\\\n",
        "                                          5*sex_on_the_beach, \"sex_on_the_beach_c\")\n",
        "singapore_sling_c = milp_model.addConstr(gin + cherry_brandy + cointreau + benedictine + grenadine + pineapple_juice +\\\n",
        "                                         lime_juice + angostura + maraschino_cherry + pineapple_fruit >= 10*singapore_sling,\\\n",
        "                                         \"singapore_sling_c\")\n",
        "tequila_sunrise_c = milp_model.addConstr(tequila + orange_juice + grenadine + orange_fruit + maraschino_cherry >= 5*tequila_sunrise, \"tequila_sunrise_c\")\n",
        "vesper_c = milp_model.addConstr(gin + vodka + lillet_blanc + lemon_fruit >= 4*vesper, \"vesper_c\")\n",
        "\n",
        "# New Era Drink\n",
        "bees_knees_c = milp_model.addConstr(gin + lemon_juice + orange_juice + honey + orange_fruit >= 5*bees_knees, \"bees_knees_c\")\n",
        "bramble_c = milp_model.addConstr(gin + lemon_juice + simple_syrup + creme_de_mure + lemon_fruit >= 5*bramble, \"bramble_c\")\n",
        "dark_n_stormy_c = milp_model.addConstr(jamaican_rum + ginger_beer + lime_fruit >= 3*dark_n_stormy, \"dark_n_stormy_c\")\n",
        "espresso_martini_c = milp_model.addConstr(vodka + kahlua + espresso >= 3*espresso_martini, \"espresso_martini_c\")\n",
        "\n",
        "\n",
        "fernandito_c = milp_model.addConstr(fernet_branca + cola >= 2*fernandito, \"fernandito_c\")\n",
        "french_martini_c = milp_model.addConstr(vodka + chambord + pineapple_juice >= 3*french_martini, \"french_martini_c\")\n",
        "illegal_c = milp_model.addConstr(mezcal + white_rum + falernum + lime_juice + simple_syrup + egg >= 6*illegal, \"illegal_c\")\n",
        "lemon_drop_martini_c = milp_model.addConstr(vodka_citron + triple_sec + lemon_juice + lemon_fruit >= 4*lemon_drop_martini, \"lemon_drop_martini_c\")\n",
        "\n",
        "naked_and_famous_c = milp_model.addConstr(mezcal + yellow_chartreuse + aperol + lime_juice +\\\n",
        "                                          lime_fruit >= 5*naked_and_famous, \"naked_and_famous_c\")\n",
        "new_york_sour_c = milp_model.addConstr(bourbon + simple_syrup + lemon_juice + egg + shiraz >= 5*new_york_sour, \"new_york_sour_c\")\n",
        "old_cuban_c = milp_model.addConstr(white_rum + lime_juice + simple_syrup + angostura + mint_leaves + prosecco >= 6*old_cuban, \"old_cuban_c\")\n",
        "paloma_c = milp_model.addConstr(tequila + lime_juice + grapefruit_soda + lime_fruit >= 4*paloma, \"paloma_c\")\n",
        "\n",
        "paper_plane_c = milp_model.addConstr(bourbon + amaro + aperol + lemon_juice + lemon_fruit >= 5*paper_plane, \"paper_plane_c\")\n",
        "russian_spring_punch_c = milp_model.addConstr(vodka + creme_de_cassis + simple_syrup + lemon_fruit +\\\n",
        "                                              lemon_juice >= 5*russian_spring_punch, \"russian_spring_punch_c\")\n",
        "\n",
        "southside_c = milp_model.addConstr(gin + lemon_juice + simple_syrup + mint_leaves + egg >= 5*southside, \"southside_c\")\n",
        "spritz_c = milp_model.addConstr(prosecco + aperol + soda_water + orange_fruit >= 4*spritz, \"spritz_c\")\n",
        "suffering_bastard_c = milp_model.addConstr(gin + brandy + lime_juice + angostura +\\\n",
        "                                           ginger_beer + orange_fruit >= 6*suffering_bastard, \"suffering_bastard_c\")\n",
        "\n",
        "tipperary_c = milp_model.addConstr(irish_whiskey + sweet_vermouth + green_chartreuse + angostura + orange_fruit >= 5*tipperary, \"tipperary_c\")\n",
        "tommys_margarita_c = milp_model.addConstr(tequila + lime_juice + agave_syrup + lime_fruit >= 4*tommys_margarita, \"tommys_margarita_c\")\n",
        "trinidad_sour_c = milp_model.addConstr(angostura + orgeat_syrup + lemon_juice + rye_whiskey +\\\n",
        "                                       orange_fruit >= 5*trinidad_sour, \"trinidad_sour_c\")\n",
        "yellow_bird_c = milp_model.addConstr(white_rum + galliano + triple_sec + lime_juice + lemon_fruit >= 5*yellow_bird, \"yellow_bird_c\")"
      ],
      "execution_count": 8,
      "outputs": []
    },
    {
      "cell_type": "markdown",
      "metadata": {
        "id": "JgGN3nDQ-KKE"
      },
      "source": [
        "\n",
        "Selected Cocktail (OPTIONAL)"
      ]
    },
    {
      "cell_type": "code",
      "metadata": {
        "id": "aQeQTMzF-LZz"
      },
      "source": [
        "# alexander_s = milp_model.addConstr(alexander == 1, \"alexander_s\")\n",
        "# aviation_s = milp_model.addConstr(aviation == 1, \"aviation_s\")\n",
        "# daiquiri_s = milp_model.addConstr(daiquiri == 1, \"daiquiri_s\")\n",
        "# negroni_s = milp_model.addConstr(negroni == 1, \"negroni_s\")\n",
        "# negroni_s = milp_model.addConstr(negroni == 1, \"negroni_s\")"
      ],
      "execution_count": null,
      "outputs": []
    },
    {
      "cell_type": "markdown",
      "source": [
        "Selected Ingredients (OPTIONAL)"
      ],
      "metadata": {
        "id": "fz2w9wdaLqDF"
      }
    },
    {
      "cell_type": "code",
      "source": [
        "white_rum_s = milp_model.addConstr(white_rum == 1, \"white_rum_s\")"
      ],
      "metadata": {
        "id": "ZgKsmNN4LtBg"
      },
      "execution_count": null,
      "outputs": []
    },
    {
      "cell_type": "code",
      "metadata": {
        "colab": {
          "base_uri": "https://localhost:8080/"
        },
        "id": "pguyvuLlyBre",
        "outputId": "05a2b7a7-f0b4-4895-a43d-53df5cde4abf"
      },
      "source": [
        "milp_model.optimize()"
      ],
      "execution_count": 9,
      "outputs": [
        {
          "output_type": "stream",
          "name": "stdout",
          "text": [
            "Gurobi Optimizer version 9.5.2 build v9.5.2rc0 (linux64)\n",
            "Thread count: 1 physical cores, 2 logical processors, using up to 2 threads\n",
            "Optimize a model with 83 rows, 177 columns and 544 nonzeros\n",
            "Model fingerprint: 0xe0bcf2fb\n",
            "Variable types: 0 continuous, 177 integer (177 binary)\n",
            "Coefficient statistics:\n",
            "  Matrix range     [1e+00, 6e+01]\n",
            "  Objective range  [1e+00, 1e+00]\n",
            "  Bounds range     [1e+00, 1e+00]\n",
            "  RHS range        [5e+01, 5e+01]\n",
            "Found heuristic solution: objective -0.0000000\n",
            "Presolve removed 40 rows and 108 columns\n",
            "Presolve time: 0.00s\n",
            "Presolved: 43 rows, 69 columns, 217 nonzeros\n",
            "Variable types: 0 continuous, 69 integer (69 binary)\n",
            "Found heuristic solution: objective 2.0000000\n",
            "\n",
            "Root relaxation: objective 1.198889e+01, 22 iterations, 0.00 seconds (0.00 work units)\n",
            "\n",
            "    Nodes    |    Current Node    |     Objective Bounds      |     Work\n",
            " Expl Unexpl |  Obj  Depth IntInf | Incumbent    BestBd   Gap | It/Node Time\n",
            "\n",
            "     0     0   10.71111    0   19    2.00000   10.71111   436%     -    0s\n",
            "H    0     0                       3.0000000   10.71111   257%     -    0s\n",
            "     0     0    5.19388    0   12    3.00000    5.19388  73.1%     -    0s\n",
            "H    0     0                       5.0000000    5.19388  3.88%     -    0s\n",
            "     0     0    5.19388    0   12    5.00000    5.19388  3.88%     -    0s\n",
            "\n",
            "Cutting planes:\n",
            "  Cover: 13\n",
            "  Clique: 8\n",
            "  MIR: 5\n",
            "\n",
            "Explored 1 nodes (64 simplex iterations) in 0.05 seconds (0.00 work units)\n",
            "Thread count was 2 (of 2 available processors)\n",
            "\n",
            "Solution count 4: 5 3 2 -0 \n",
            "\n",
            "Optimal solution found (tolerance 1.00e-04)\n",
            "Best objective 5.000000000000e+00, best bound 5.000000000000e+00, gap 0.0000%\n"
          ]
        }
      ]
    },
    {
      "cell_type": "code",
      "source": [
        "print('Number of Cocktails: ', milp_model.objVal)\n",
        "counter_cocktail = 0\n",
        "print('')\n",
        "print(\"Cocktail Names:\")\n",
        "cocktail_list = []\n",
        "for v in milp_model.getVars():\n",
        "  if v.x == 1 and counter_cocktail != int(milp_model.objVal):\n",
        "    print(v.VarName, v.x)\n",
        "    counter_cocktail += 1\n",
        "    cocktail_list.append(v.VarName)\n",
        "\n",
        "print('')\n",
        "print(\"Ingredients:\")   \n",
        "for v in milp_model.getVars():\n",
        "  if v.x == 1 and v.VarName not in cocktail_list:\n",
        "    print(v.VarName, v.x)"
      ],
      "metadata": {
        "colab": {
          "base_uri": "https://localhost:8080/"
        },
        "id": "oBsLwXMWooTW",
        "outputId": "186c6611-c4e7-4506-dea3-8ae34017ab24"
      },
      "execution_count": 10,
      "outputs": [
        {
          "output_type": "stream",
          "name": "stdout",
          "text": [
            "Number of Cocktails:  5.0\n",
            "\n",
            "Cocktail Names:\n",
            "clover_club 1.0\n",
            "dry_martini 1.0\n",
            "gin_fizz 1.0\n",
            "white_lady 1.0\n",
            "southside 1.0\n",
            "\n",
            "Ingredients:\n",
            "soda_water 1.0\n",
            "lemon_fruit 1.0\n",
            "gin 1.0\n",
            "lemon_juice 1.0\n",
            "triple_sec 1.0\n",
            "simple_syrup 1.0\n",
            "raspberry_syrup 1.0\n",
            "dry_vermouth 1.0\n",
            "egg 1.0\n",
            "sugar_grained 1.0\n",
            "olive 1.0\n",
            "water 1.0\n",
            "black_pepper 1.0\n",
            "lime_fruit 1.0\n",
            "mint_leaves 1.0\n"
          ]
        }
      ]
    },
    {
      "cell_type": "code",
      "metadata": {
        "colab": {
          "base_uri": "https://localhost:8080/"
        },
        "id": "hrcnNM-SyM9J",
        "outputId": "11e9a9b7-aac4-4150-bbcc-1eadb6ba8cc6"
      },
      "source": [
        "print('Objective Function Value: ', milp_model.objVal)\n",
        "for v in milp_model.getVars():\n",
        "  if v.x == 1:\n",
        "    print(v.VarName, v.x)"
      ],
      "execution_count": 11,
      "outputs": [
        {
          "output_type": "stream",
          "name": "stdout",
          "text": [
            "Objective Function Value:  5.0\n",
            "clover_club 1.0\n",
            "dry_martini 1.0\n",
            "gin_fizz 1.0\n",
            "white_lady 1.0\n",
            "southside 1.0\n",
            "soda_water 1.0\n",
            "lemon_fruit 1.0\n",
            "gin 1.0\n",
            "lemon_juice 1.0\n",
            "triple_sec 1.0\n",
            "simple_syrup 1.0\n",
            "raspberry_syrup 1.0\n",
            "dry_vermouth 1.0\n",
            "egg 1.0\n",
            "sugar_grained 1.0\n",
            "olive 1.0\n",
            "water 1.0\n",
            "black_pepper 1.0\n",
            "lime_fruit 1.0\n",
            "mint_leaves 1.0\n"
          ]
        }
      ]
    },
    {
      "cell_type": "code",
      "metadata": {
        "id": "5Tm6ddepcdlC"
      },
      "source": [
        "# budget_c = milp_model.addConstr(cognac + creme_de_cacao + cream + nutmeg + campari + sweet_vermouth + soda_water + lemon_fruit + gin + apricot_brandy +\n",
        "#                                 calvados + lemon_juice + maraschino_cherry + creme_de_violette + white_rum + triple_sec + bourbon + maraschino_luxardo +\n",
        "#                                 curacao + simple_syrup + angostura + orange_bitters + raspberry_syrup + dry_vermouth + egg + lime_juice + sugar_grained +\n",
        "#                                 olive + fernet_branca + orange_fruit + yellow_chartreuse + rye_whiskey + pineapple_juice + grenadine + absinthe + water +\n",
        "#                                 sugar_cube + orange_juice + jamaican_rum + sugar_cane_juice + brandy + port + orange_flower_water + vanilla_extract +\n",
        "#                                 drambuie + peychauds_bitters + creme_de_menthe + benedictine + prosecco + peach_puree + vodka + tomato_juice +\n",
        "#                                 worcestershire_sauce + tabasco_sauce + celery_salt + cahaca + lime_fruit + champagne + cointreau + lillet_blanc +\n",
        "#                                 vodka_citron + cranberry_juice + cola + amaretto + galliano + grapefruit_juice + ginger_ale + scotch + irish_whiskey +\n",
        "#                                 hot_coffee + tequila + mint_leaves + ginger_beer + coconut_cream + pineapple_fruit + pisco + peach_schnapps +\n",
        "#                                 cherry_brandy + honey + creme_de_mure + kahlua + espresso + chambord + mezcal + falernum + aperol + shiraz +\n",
        "#                                 grapefruit_soda + amaro + creme_de_cassis + agave_syrup + orgeat_syrup + green_chartreuse <= 250, \"budget_c\")\n",
        "# cognac = milp_model.addVar(vtype=GRB.BINARY, obj = 23, name = \"cognac\") \n",
        "# creme_de_cacao = milp_model.addVar(vtype=GRB.BINARY, obj= 12, name = \"creme_de_cacao\")\n",
        "# cream = milp_model.addVar(vtype=GRB.BINARY, obj= 4, name = \"cream\")\n",
        "# nutmeg = milp_model.addVar(vtype=GRB.BINARY, obj= 4, name = \"nutmeg\")\n",
        "# campari = milp_model.addVar(vtype=GRB.BINARY, obj= 26, name = \"campari\")\n",
        "# sweet_vermouth = milp_model.addVar(vtype=GRB.BINARY, obj= 7, name = \"sweet_vermouth\")\n",
        "# soda_water = milp_model.addVar(vtype=GRB.BINARY, obj= 1, name = \"soda_water\")\n",
        "# lemon_fruit = milp_model.addVar(vtype=GRB.BINARY, obj= 1, name = \"lemon_fruit\")\n",
        "# gin = milp_model.addVar(vtype=GRB.BINARY, obj= 20, name = \"gin\")\n",
        "# apricot_brandy = milp_model.addVar(vtype=GRB.BINARY, obj= 12, name = \"apricot_brandy\")\n",
        "# calvados = milp_model.addVar(vtype=GRB.BINARY, obj= 50, name = \"calvados\")\n",
        "# lemon_juice = milp_model.addVar(vtype=GRB.BINARY, obj= 2, name = \"lemon_juice\")\n",
        "# maraschino_cherry = milp_model.addVar(vtype=GRB.BINARY, obj= 20, name = \"maraschino_cherry\")\n",
        "# creme_de_violette = milp_model.addVar(vtype=GRB.BINARY, obj= 24, name = \"creme_de_violette\")\n",
        "# white_rum = milp_model.addVar(vtype=GRB.BINARY, obj= 30, name = \"white_rum\")\n",
        "# triple_sec = milp_model.addVar(vtype=GRB.BINARY, obj= 6, name = \"triple_sec\")\n",
        "# bourbon = milp_model.addVar(vtype=GRB.BINARY, obj= 40, name = \"bourbon\")\n",
        "# maraschino_luxardo = milp_model.addVar(vtype=GRB.BINARY, obj= 36, name = \"maraschino_luxardo\")\n",
        "# curacao = milp_model.addVar(vtype=GRB.BINARY, obj= 12, name = \"curacao\")\n",
        "# simple_syrup = milp_model.addVar(vtype=GRB.BINARY, obj= 0, name = \"simple_syrup\")\n",
        "# angostura = milp_model.addVar(vtype=GRB.BINARY, obj= 10, name = \"angostura\")\n",
        "# orange_bitters = milp_model.addVar(vtype=GRB.BINARY, obj= 10, name = \"orange_bitters\")\n",
        "# raspberry_syrup = milp_model.addVar(vtype=GRB.BINARY, obj= 4, name = \"raspberry_syrup\")\n",
        "# dry_vermouth = milp_model.addVar(vtype=GRB.BINARY, obj= 6, name = \"dry_vermouth\")\n",
        "# egg = milp_model.addVar(vtype=GRB.BINARY, obj= 1, name = \"egg\")\n",
        "# lime_juice = milp_model.addVar(vtype=GRB.BINARY, obj= 1, name = \"lime_juice\")\n",
        "# sugar_grained = milp_model.addVar(vtype=GRB.BINARY, obj= 0, name = \"sugar_grained\")\n",
        "# olive = milp_model.addVar(vtype=GRB.BINARY, obj= 5, name = \"olive\")\n",
        "# fernet_branca = milp_model.addVar(vtype=GRB.BINARY, obj= 33, name = \"fernet_branca\")\n",
        "# orange_fruit = milp_model.addVar(vtype=GRB.BINARY, obj= 1, name = \"orange_fruit\")\n",
        "# yellow_chartreuse = milp_model.addVar(vtype=GRB.BINARY, obj= 60, name = \"yellow_chartreuse\")\n",
        "# rye_whiskey = milp_model.addVar(vtype=GRB.BINARY, obj= 40, name = \"rye_whiskey\")\n",
        "# pineapple_juice = milp_model.addVar(vtype=GRB.BINARY, obj= 3, name = \"pineapple_juice\")\n",
        "# grenadine = milp_model.addVar(vtype=GRB.BINARY, obj= 4, name = \"grenadine\")\n",
        "# absinthe = milp_model.addVar(vtype=GRB.BINARY, obj= 30, name = \"absinthe\")\n",
        "# water = milp_model.addVar(vtype=GRB.BINARY, obj= 0, name = \"water\")\n",
        "# sugar_cube = milp_model.addVar(vtype=GRB.BINARY, obj= 4, name = \"sugar_cube\")\n",
        "# orange_juice = milp_model.addVar(vtype=GRB.BINARY, obj= 3, name = \"orange_juice\")\n",
        "# jamaican_rum = milp_model.addVar(vtype=GRB.BINARY, obj= 23, name = \"jamaican_rum\")\n",
        "# sugar_cane_juice = milp_model.addVar(vtype=GRB.BINARY, obj= 40, name = \"sugar_cane_juice\")\n",
        "# brandy = milp_model.addVar(vtype=GRB.BINARY, obj= 30, name = \"brandy\")\n",
        "# port = milp_model.addVar(vtype=GRB.BINARY, obj= 20, name = \"port\")\n",
        "# orange_flower_water = milp_model.addVar(vtype=GRB.BINARY, obj= 7, name = \"orange_flower_water\")\n",
        "# vanilla_extract = milp_model.addVar(vtype=GRB.BINARY, obj= 10, name = \"vanilla_extract\")\n",
        "# drambuie = milp_model.addVar(vtype=GRB.BINARY, obj= 33, name = \"drambuie\")\n",
        "# peychauds_bitters = milp_model.addVar(vtype=GRB.BINARY, obj= 8, name = \"peychauds_bitters\")\n",
        "# creme_de_menthe = milp_model.addVar(vtype=GRB.BINARY, obj= 15, name = \"creme_de_menthe\")\n",
        "# benedictine = milp_model.addVar(vtype=GRB.BINARY, obj= 32, name = \"benedictine\")\n",
        "# prosecco = milp_model.addVar(vtype=GRB.BINARY, obj= 10, name = \"prosecco\")\n",
        "# peach_puree = milp_model.addVar(vtype=GRB.BINARY, obj= 2, name = \"peach_puree\")\n",
        "# vodka = milp_model.addVar(vtype=GRB.BINARY, obj= 17, name = \"vodka\")\n",
        "# tomato_juice = milp_model.addVar(vtype=GRB.BINARY, obj= 3, name = \"tomato_juice\")\n",
        "# worcestershire_sauce = milp_model.addVar(vtype=GRB.BINARY, obj= 6, name = \"worcestershire_sauce\")\n",
        "# tabasco_sauce = milp_model.addVar(vtype=GRB.BINARY, obj= 4, name = \"tabasco_sauce\")\n",
        "# celery_salt = milp_model.addVar(vtype=GRB.BINARY, obj= 4, name = \"celery_salt\")\n",
        "# black_pepper = milp_model.addVar(vtype=GRB.BINARY, obj= 0, name = \"black_pepper\")\n",
        "# celery_vegetable = milp_model.addVar(vtype=GRB.BINARY, obj= 3, name = \"celery_vegetable\")\n",
        "# cahaca = milp_model.addVar(vtype=GRB.BINARY, obj= 19, name = \"cahaca\")\n",
        "# lime_fruit = milp_model.addVar(vtype=GRB.BINARY, obj= 1, name = \"lime_fruit\")\n",
        "# champagne = milp_model.addVar(vtype=GRB.BINARY, obj= 43, name = \"champagne\")\n",
        "# cointreau = milp_model.addVar(vtype=GRB.BINARY, obj= 32, name = \"cointreau\")\n",
        "# lillet_blanc = milp_model.addVar(vtype=GRB.BINARY, obj= 19, name = \"lillet_blanc\")\n",
        "# vodka_citron = milp_model.addVar(vtype=GRB.BINARY, obj= 17, name = \"vodka_citron\")\n",
        "# cranberry_juice = milp_model.addVar(vtype=GRB.BINARY, obj= 3, name = \"cranberry_juice\")\n",
        "# cola = milp_model.addVar(vtype=GRB.BINARY, obj= 1, name = \"cola\")\n",
        "# amaretto = milp_model.addVar(vtype=GRB.BINARY, obj= 25, name = \"amaretto\")\n",
        "# galliano = milp_model.addVar(vtype=GRB.BINARY, obj= 34, name = \"galliano\")\n",
        "# grapefruit_juice = milp_model.addVar(vtype=GRB.BINARY, obj= 3, name = \"grapefruit_juice\")\n",
        "# ginger_ale = milp_model.addVar(vtype=GRB.BINARY, obj= 2, name = \"ginger_ale\")\n",
        "# scotch = milp_model.addVar(vtype=GRB.BINARY, obj= 27, name = \"scotch\")\n",
        "# irish_whiskey = milp_model.addVar(vtype=GRB.BINARY, obj= 21, name = \"irish_whiskey\")\n",
        "# hot_coffee = milp_model.addVar(vtype=GRB.BINARY, obj= 5, name = \"hot_coffee\")\n",
        "# tequila = milp_model.addVar(vtype=GRB.BINARY, obj= 22, name = \"tequila\")\n",
        "# mint_leaves = milp_model.addVar(vtype=GRB.BINARY, obj= 3, name = \"mint_leaves\")\n",
        "# ginger_beer = milp_model.addVar(vtype=GRB.BINARY, obj= 3, name = \"ginger_beer\")\n",
        "# coconut_cream = milp_model.addVar(vtype=GRB.BINARY, obj= 5, name = \"coconut_cream\")\n",
        "# pineapple_fruit = milp_model.addVar(vtype=GRB.BINARY, obj= 4, name = \"pineapple_fruit\")\n",
        "# pisco = milp_model.addVar(vtype=GRB.BINARY, obj= 27, name = \"pisco\")\n",
        "# peach_schnapps = milp_model.addVar(vtype=GRB.BINARY, obj= 8, name = \"peach_schnapps\")\n",
        "# cherry_brandy = milp_model.addVar(vtype=GRB.BINARY, obj= 26, name = \"cherry_brandy\")\n",
        "# honey = milp_model.addVar(vtype=GRB.BINARY, obj= 12, name = \"honey\")\n",
        "# creme_de_mure = milp_model.addVar(vtype=GRB.BINARY, obj= 15, name = \"creme_de_mure\")\n",
        "# kahlua = milp_model.addVar(vtype=GRB.BINARY, obj= 20, name = \"kahlua\")\n",
        "# espresso = milp_model.addVar(vtype=GRB.BINARY, obj= 5, name = \"espresso\")\n",
        "# chambord = milp_model.addVar(vtype=GRB.BINARY, obj= 32, name = \"chambord\")\n",
        "# mezcal = milp_model.addVar(vtype=GRB.BINARY, obj= 34, name = \"mezcal\")\n",
        "# falernum = milp_model.addVar(vtype=GRB.BINARY, obj= 19, name = \"falernum\")\n",
        "# aperol = milp_model.addVar(vtype=GRB.BINARY, obj= 21, name = \"aperol\")\n",
        "# shiraz = milp_model.addVar(vtype=GRB.BINARY, obj= 5, name = \"shiraz\")\n",
        "# grapefruit_soda = milp_model.addVar(vtype=GRB.BINARY, obj= 3, name = \"grapefruit_soda\")\n",
        "# amaro = milp_model.addVar(vtype=GRB.BINARY, obj= 26, name = \"amaro\")\n",
        "# creme_de_cassis = milp_model.addVar(vtype=GRB.BINARY, obj= 15, name = \"creme_de_cassis\")\n",
        "# agave_syrup = milp_model.addVar(vtype=GRB.BINARY, obj= 10, name = \"agave_syrup\")\n",
        "# orgeat_syrup = milp_model.addVar(vtype=GRB.BINARY, obj= 8, name = \"orgeat_syrup\")\n",
        "# green_chartreuse = milp_model.addVar(vtype=GRB.BINARY, obj= 55, name = \"green_chartreuse\")\n"
      ],
      "execution_count": null,
      "outputs": []
    }
  ]
}